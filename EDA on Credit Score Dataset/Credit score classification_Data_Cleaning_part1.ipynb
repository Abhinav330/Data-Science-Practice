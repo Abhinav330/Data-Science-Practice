{
 "cells": [
  {
   "cell_type": "markdown",
   "id": "dc1024bc",
   "metadata": {},
   "source": [
    "# Credit score classification, Part 1: Data Cleaning  \n",
    "\n",
    "## Problem Statement :\n",
    "\n",
    "You are working as a data scientist in a global finance company. Over the years, the company has collected basic bank details and gathered a lot of credit-related information. The management wants to build an intelligent system to segregate the people into credit score brackets to reduce the manual efforts.\n",
    "\n",
    "## Task:\n",
    "\n",
    "Given a person’s credit-related information, build a machine learning model that can classify the credit score."
   ]
  },
  {
   "cell_type": "markdown",
   "id": "cac27480",
   "metadata": {},
   "source": [
    "### import libraries and datasets"
   ]
  },
  {
   "cell_type": "code",
   "execution_count": 1,
   "id": "c39146d1",
   "metadata": {},
   "outputs": [],
   "source": [
    "import pandas as pd\n",
    "import numpy as np\n",
    "import matplotlib.pyplot as plt\n",
    "import seaborn as sns\n",
    "%matplotlib inline"
   ]
  },
  {
   "cell_type": "markdown",
   "id": "660f675e",
   "metadata": {},
   "source": [
    "### Read the training and test datasets"
   ]
  },
  {
   "cell_type": "code",
   "execution_count": 2,
   "id": "56adc4a9",
   "metadata": {},
   "outputs": [],
   "source": [
    "df = pd.read_csv(\"train.csv\", low_memory=False)\n",
    "df1= pd.read_csv(\"test.csv\", low_memory=False)"
   ]
  },
  {
   "cell_type": "markdown",
   "id": "22b45600",
   "metadata": {},
   "source": [
    "### Check the shape of the datasets"
   ]
  },
  {
   "cell_type": "code",
   "execution_count": 3,
   "id": "c1311b03",
   "metadata": {},
   "outputs": [
    {
     "data": {
      "text/plain": [
       "(100000, 28)"
      ]
     },
     "execution_count": 3,
     "metadata": {},
     "output_type": "execute_result"
    }
   ],
   "source": [
    "df.shape"
   ]
  },
  {
   "cell_type": "code",
   "execution_count": 4,
   "id": "ecc05cb3",
   "metadata": {},
   "outputs": [
    {
     "data": {
      "text/plain": [
       "(50000, 27)"
      ]
     },
     "execution_count": 4,
     "metadata": {},
     "output_type": "execute_result"
    }
   ],
   "source": [
    "df1.shape"
   ]
  },
  {
   "cell_type": "markdown",
   "id": "c4905fe6",
   "metadata": {},
   "source": [
    "Concatenate the training and test datasets so that we can clean it together"
   ]
  },
  {
   "cell_type": "code",
   "execution_count": 5,
   "id": "1e67c712",
   "metadata": {},
   "outputs": [],
   "source": [
    "df = pd.concat([df,df1])"
   ]
  },
  {
   "cell_type": "markdown",
   "id": "dcef6d1d",
   "metadata": {},
   "source": [
    "Display the first few rows of the dataset"
   ]
  },
  {
   "cell_type": "code",
   "execution_count": 6,
   "id": "5e0da581",
   "metadata": {},
   "outputs": [
    {
     "data": {
      "text/html": [
       "<div>\n",
       "<style scoped>\n",
       "    .dataframe tbody tr th:only-of-type {\n",
       "        vertical-align: middle;\n",
       "    }\n",
       "\n",
       "    .dataframe tbody tr th {\n",
       "        vertical-align: top;\n",
       "    }\n",
       "\n",
       "    .dataframe thead th {\n",
       "        text-align: right;\n",
       "    }\n",
       "</style>\n",
       "<table border=\"1\" class=\"dataframe\">\n",
       "  <thead>\n",
       "    <tr style=\"text-align: right;\">\n",
       "      <th></th>\n",
       "      <th>ID</th>\n",
       "      <th>Customer_ID</th>\n",
       "      <th>Month</th>\n",
       "      <th>Name</th>\n",
       "      <th>Age</th>\n",
       "      <th>SSN</th>\n",
       "      <th>Occupation</th>\n",
       "      <th>Annual_Income</th>\n",
       "      <th>Monthly_Inhand_Salary</th>\n",
       "      <th>Num_Bank_Accounts</th>\n",
       "      <th>...</th>\n",
       "      <th>Credit_Mix</th>\n",
       "      <th>Outstanding_Debt</th>\n",
       "      <th>Credit_Utilization_Ratio</th>\n",
       "      <th>Credit_History_Age</th>\n",
       "      <th>Payment_of_Min_Amount</th>\n",
       "      <th>Total_EMI_per_month</th>\n",
       "      <th>Amount_invested_monthly</th>\n",
       "      <th>Payment_Behaviour</th>\n",
       "      <th>Monthly_Balance</th>\n",
       "      <th>Credit_Score</th>\n",
       "    </tr>\n",
       "  </thead>\n",
       "  <tbody>\n",
       "    <tr>\n",
       "      <th>0</th>\n",
       "      <td>0x1602</td>\n",
       "      <td>CUS_0xd40</td>\n",
       "      <td>January</td>\n",
       "      <td>Aaron Maashoh</td>\n",
       "      <td>23</td>\n",
       "      <td>821-00-0265</td>\n",
       "      <td>Scientist</td>\n",
       "      <td>19114.12</td>\n",
       "      <td>1824.843333</td>\n",
       "      <td>3</td>\n",
       "      <td>...</td>\n",
       "      <td>_</td>\n",
       "      <td>809.98</td>\n",
       "      <td>26.822620</td>\n",
       "      <td>22 Years and 1 Months</td>\n",
       "      <td>No</td>\n",
       "      <td>49.574949</td>\n",
       "      <td>80.41529543900253</td>\n",
       "      <td>High_spent_Small_value_payments</td>\n",
       "      <td>312.49408867943663</td>\n",
       "      <td>Good</td>\n",
       "    </tr>\n",
       "    <tr>\n",
       "      <th>1</th>\n",
       "      <td>0x1603</td>\n",
       "      <td>CUS_0xd40</td>\n",
       "      <td>February</td>\n",
       "      <td>Aaron Maashoh</td>\n",
       "      <td>23</td>\n",
       "      <td>821-00-0265</td>\n",
       "      <td>Scientist</td>\n",
       "      <td>19114.12</td>\n",
       "      <td>NaN</td>\n",
       "      <td>3</td>\n",
       "      <td>...</td>\n",
       "      <td>Good</td>\n",
       "      <td>809.98</td>\n",
       "      <td>31.944960</td>\n",
       "      <td>NaN</td>\n",
       "      <td>No</td>\n",
       "      <td>49.574949</td>\n",
       "      <td>118.28022162236736</td>\n",
       "      <td>Low_spent_Large_value_payments</td>\n",
       "      <td>284.62916249607184</td>\n",
       "      <td>Good</td>\n",
       "    </tr>\n",
       "    <tr>\n",
       "      <th>2</th>\n",
       "      <td>0x1604</td>\n",
       "      <td>CUS_0xd40</td>\n",
       "      <td>March</td>\n",
       "      <td>Aaron Maashoh</td>\n",
       "      <td>-500</td>\n",
       "      <td>821-00-0265</td>\n",
       "      <td>Scientist</td>\n",
       "      <td>19114.12</td>\n",
       "      <td>NaN</td>\n",
       "      <td>3</td>\n",
       "      <td>...</td>\n",
       "      <td>Good</td>\n",
       "      <td>809.98</td>\n",
       "      <td>28.609352</td>\n",
       "      <td>22 Years and 3 Months</td>\n",
       "      <td>No</td>\n",
       "      <td>49.574949</td>\n",
       "      <td>81.699521264648</td>\n",
       "      <td>Low_spent_Medium_value_payments</td>\n",
       "      <td>331.2098628537912</td>\n",
       "      <td>Good</td>\n",
       "    </tr>\n",
       "    <tr>\n",
       "      <th>3</th>\n",
       "      <td>0x1605</td>\n",
       "      <td>CUS_0xd40</td>\n",
       "      <td>April</td>\n",
       "      <td>Aaron Maashoh</td>\n",
       "      <td>23</td>\n",
       "      <td>821-00-0265</td>\n",
       "      <td>Scientist</td>\n",
       "      <td>19114.12</td>\n",
       "      <td>NaN</td>\n",
       "      <td>3</td>\n",
       "      <td>...</td>\n",
       "      <td>Good</td>\n",
       "      <td>809.98</td>\n",
       "      <td>31.377862</td>\n",
       "      <td>22 Years and 4 Months</td>\n",
       "      <td>No</td>\n",
       "      <td>49.574949</td>\n",
       "      <td>199.4580743910713</td>\n",
       "      <td>Low_spent_Small_value_payments</td>\n",
       "      <td>223.45130972736786</td>\n",
       "      <td>Good</td>\n",
       "    </tr>\n",
       "    <tr>\n",
       "      <th>4</th>\n",
       "      <td>0x1606</td>\n",
       "      <td>CUS_0xd40</td>\n",
       "      <td>May</td>\n",
       "      <td>Aaron Maashoh</td>\n",
       "      <td>23</td>\n",
       "      <td>821-00-0265</td>\n",
       "      <td>Scientist</td>\n",
       "      <td>19114.12</td>\n",
       "      <td>1824.843333</td>\n",
       "      <td>3</td>\n",
       "      <td>...</td>\n",
       "      <td>Good</td>\n",
       "      <td>809.98</td>\n",
       "      <td>24.797347</td>\n",
       "      <td>22 Years and 5 Months</td>\n",
       "      <td>No</td>\n",
       "      <td>49.574949</td>\n",
       "      <td>41.420153086217326</td>\n",
       "      <td>High_spent_Medium_value_payments</td>\n",
       "      <td>341.48923103222177</td>\n",
       "      <td>Good</td>\n",
       "    </tr>\n",
       "  </tbody>\n",
       "</table>\n",
       "<p>5 rows × 28 columns</p>\n",
       "</div>"
      ],
      "text/plain": [
       "       ID Customer_ID     Month           Name   Age          SSN Occupation  \\\n",
       "0  0x1602   CUS_0xd40   January  Aaron Maashoh    23  821-00-0265  Scientist   \n",
       "1  0x1603   CUS_0xd40  February  Aaron Maashoh    23  821-00-0265  Scientist   \n",
       "2  0x1604   CUS_0xd40     March  Aaron Maashoh  -500  821-00-0265  Scientist   \n",
       "3  0x1605   CUS_0xd40     April  Aaron Maashoh    23  821-00-0265  Scientist   \n",
       "4  0x1606   CUS_0xd40       May  Aaron Maashoh    23  821-00-0265  Scientist   \n",
       "\n",
       "  Annual_Income  Monthly_Inhand_Salary  Num_Bank_Accounts  ...  Credit_Mix  \\\n",
       "0      19114.12            1824.843333                  3  ...           _   \n",
       "1      19114.12                    NaN                  3  ...        Good   \n",
       "2      19114.12                    NaN                  3  ...        Good   \n",
       "3      19114.12                    NaN                  3  ...        Good   \n",
       "4      19114.12            1824.843333                  3  ...        Good   \n",
       "\n",
       "   Outstanding_Debt Credit_Utilization_Ratio     Credit_History_Age  \\\n",
       "0            809.98                26.822620  22 Years and 1 Months   \n",
       "1            809.98                31.944960                    NaN   \n",
       "2            809.98                28.609352  22 Years and 3 Months   \n",
       "3            809.98                31.377862  22 Years and 4 Months   \n",
       "4            809.98                24.797347  22 Years and 5 Months   \n",
       "\n",
       "   Payment_of_Min_Amount Total_EMI_per_month Amount_invested_monthly  \\\n",
       "0                     No           49.574949       80.41529543900253   \n",
       "1                     No           49.574949      118.28022162236736   \n",
       "2                     No           49.574949         81.699521264648   \n",
       "3                     No           49.574949       199.4580743910713   \n",
       "4                     No           49.574949      41.420153086217326   \n",
       "\n",
       "                  Payment_Behaviour     Monthly_Balance Credit_Score  \n",
       "0   High_spent_Small_value_payments  312.49408867943663         Good  \n",
       "1    Low_spent_Large_value_payments  284.62916249607184         Good  \n",
       "2   Low_spent_Medium_value_payments   331.2098628537912         Good  \n",
       "3    Low_spent_Small_value_payments  223.45130972736786         Good  \n",
       "4  High_spent_Medium_value_payments  341.48923103222177         Good  \n",
       "\n",
       "[5 rows x 28 columns]"
      ]
     },
     "execution_count": 6,
     "metadata": {},
     "output_type": "execute_result"
    }
   ],
   "source": [
    "df.head()"
   ]
  },
  {
   "cell_type": "markdown",
   "id": "eb112d8f",
   "metadata": {},
   "source": [
    "###  Basic info on dataset"
   ]
  },
  {
   "cell_type": "code",
   "execution_count": 7,
   "id": "8502fd76",
   "metadata": {},
   "outputs": [
    {
     "name": "stdout",
     "output_type": "stream",
     "text": [
      "<class 'pandas.core.frame.DataFrame'>\n",
      "Int64Index: 150000 entries, 0 to 49999\n",
      "Data columns (total 28 columns):\n",
      " #   Column                    Non-Null Count   Dtype  \n",
      "---  ------                    --------------   -----  \n",
      " 0   ID                        150000 non-null  object \n",
      " 1   Customer_ID               150000 non-null  object \n",
      " 2   Month                     150000 non-null  object \n",
      " 3   Name                      135000 non-null  object \n",
      " 4   Age                       150000 non-null  object \n",
      " 5   SSN                       150000 non-null  object \n",
      " 6   Occupation                150000 non-null  object \n",
      " 7   Annual_Income             150000 non-null  object \n",
      " 8   Monthly_Inhand_Salary     127500 non-null  float64\n",
      " 9   Num_Bank_Accounts         150000 non-null  int64  \n",
      " 10  Num_Credit_Card           150000 non-null  int64  \n",
      " 11  Interest_Rate             150000 non-null  int64  \n",
      " 12  Num_of_Loan               150000 non-null  object \n",
      " 13  Type_of_Loan              132888 non-null  object \n",
      " 14  Delay_from_due_date       150000 non-null  int64  \n",
      " 15  Num_of_Delayed_Payment    139500 non-null  object \n",
      " 16  Changed_Credit_Limit      150000 non-null  object \n",
      " 17  Num_Credit_Inquiries      147000 non-null  float64\n",
      " 18  Credit_Mix                150000 non-null  object \n",
      " 19  Outstanding_Debt          150000 non-null  object \n",
      " 20  Credit_Utilization_Ratio  150000 non-null  float64\n",
      " 21  Credit_History_Age        136500 non-null  object \n",
      " 22  Payment_of_Min_Amount     150000 non-null  object \n",
      " 23  Total_EMI_per_month       150000 non-null  float64\n",
      " 24  Amount_invested_monthly   143250 non-null  object \n",
      " 25  Payment_Behaviour         150000 non-null  object \n",
      " 26  Monthly_Balance           148238 non-null  object \n",
      " 27  Credit_Score              100000 non-null  object \n",
      "dtypes: float64(4), int64(4), object(20)\n",
      "memory usage: 33.2+ MB\n"
     ]
    },
    {
     "data": {
      "text/plain": [
       "None"
      ]
     },
     "metadata": {},
     "output_type": "display_data"
    }
   ],
   "source": [
    "display(df.info())"
   ]
  },
  {
   "cell_type": "markdown",
   "id": "986c009f",
   "metadata": {},
   "source": [
    "# Insights:\n",
    "- We have 4 float columns , 4 int columns , and 20 object columns. need to look more into object columns."
   ]
  },
  {
   "cell_type": "markdown",
   "id": "2ff5fff6",
   "metadata": {},
   "source": [
    "### Drop unnecessary columns"
   ]
  },
  {
   "cell_type": "code",
   "execution_count": 8,
   "id": "f6869684",
   "metadata": {},
   "outputs": [],
   "source": [
    "df.drop(['ID', 'Customer_ID'], axis =1, inplace=True )"
   ]
  },
  {
   "cell_type": "markdown",
   "id": "a9e30e60",
   "metadata": {},
   "source": [
    "### Let's see how Name column is driving the dataset."
   ]
  },
  {
   "cell_type": "code",
   "execution_count": 9,
   "id": "9b13a422",
   "metadata": {
    "scrolled": true
   },
   "outputs": [
    {
     "data": {
      "text/html": [
       "<div>\n",
       "<style scoped>\n",
       "    .dataframe tbody tr th:only-of-type {\n",
       "        vertical-align: middle;\n",
       "    }\n",
       "\n",
       "    .dataframe tbody tr th {\n",
       "        vertical-align: top;\n",
       "    }\n",
       "\n",
       "    .dataframe thead th {\n",
       "        text-align: right;\n",
       "    }\n",
       "</style>\n",
       "<table border=\"1\" class=\"dataframe\">\n",
       "  <thead>\n",
       "    <tr style=\"text-align: right;\">\n",
       "      <th></th>\n",
       "      <th>Month</th>\n",
       "      <th>Age</th>\n",
       "      <th>SSN</th>\n",
       "      <th>Occupation</th>\n",
       "      <th>Annual_Income</th>\n",
       "      <th>Monthly_Inhand_Salary</th>\n",
       "      <th>Num_Bank_Accounts</th>\n",
       "      <th>Num_Credit_Card</th>\n",
       "      <th>Interest_Rate</th>\n",
       "      <th>Num_of_Loan</th>\n",
       "      <th>...</th>\n",
       "      <th>Credit_Mix</th>\n",
       "      <th>Outstanding_Debt</th>\n",
       "      <th>Credit_Utilization_Ratio</th>\n",
       "      <th>Credit_History_Age</th>\n",
       "      <th>Payment_of_Min_Amount</th>\n",
       "      <th>Total_EMI_per_month</th>\n",
       "      <th>Amount_invested_monthly</th>\n",
       "      <th>Payment_Behaviour</th>\n",
       "      <th>Monthly_Balance</th>\n",
       "      <th>Credit_Score</th>\n",
       "    </tr>\n",
       "    <tr>\n",
       "      <th>Name</th>\n",
       "      <th></th>\n",
       "      <th></th>\n",
       "      <th></th>\n",
       "      <th></th>\n",
       "      <th></th>\n",
       "      <th></th>\n",
       "      <th></th>\n",
       "      <th></th>\n",
       "      <th></th>\n",
       "      <th></th>\n",
       "      <th></th>\n",
       "      <th></th>\n",
       "      <th></th>\n",
       "      <th></th>\n",
       "      <th></th>\n",
       "      <th></th>\n",
       "      <th></th>\n",
       "      <th></th>\n",
       "      <th></th>\n",
       "      <th></th>\n",
       "      <th></th>\n",
       "    </tr>\n",
       "  </thead>\n",
       "  <tbody>\n",
       "    <tr>\n",
       "      <th>Mattr</th>\n",
       "      <td>JanuaryFebruaryMarchAprilMayJulyAugustSeptembe...</td>\n",
       "      <td>1919202020202020_2020</td>\n",
       "      <td>892-22-1956#F%$D@*&amp;8892-22-1956892-22-1956892-...</td>\n",
       "      <td>MechanicMechanicMechanicMechanicMechanic______...</td>\n",
       "      <td>15411.9315411.9315411.9315411.9315411.9315411....</td>\n",
       "      <td>10042.620000</td>\n",
       "      <td>70</td>\n",
       "      <td>100</td>\n",
       "      <td>320</td>\n",
       "      <td>4444444444</td>\n",
       "      <td>...</td>\n",
       "      <td>StandardStandardStandardStandard_Standard_Stan...</td>\n",
       "      <td>2084.962084.962084.962084.962084.962084.962084...</td>\n",
       "      <td>300.493694</td>\n",
       "      <td>15 Years and 3 Months15 Years and 4 Months15 Y...</td>\n",
       "      <td>NMYesYesYesYesYesYesYesNMYes</td>\n",
       "      <td>340.079643</td>\n",
       "      <td>96.9077621485204572.50326309942025150.82793560...</td>\n",
       "      <td>Low_spent_Medium_value_paymentsLow_spent_Small...</td>\n",
       "      <td>297.26896241681976284.6170235757184299.0215226...</td>\n",
       "      <td>PoorPoorPoorPoorPoorPoorPoor</td>\n",
       "    </tr>\n",
       "    <tr>\n",
       "      <th>Mattx</th>\n",
       "      <td>JanuaryFebruaryMarchAprilMayAugustSeptemberOct...</td>\n",
       "      <td>2929_2929292929303030</td>\n",
       "      <td>609-98-6953609-98-6953609-98-6953#F%$D@*&amp;8609-...</td>\n",
       "      <td>LawyerLawyerLawyerLawyerLawyerLawyerLawyer____...</td>\n",
       "      <td>8393.968393.968393.968393.968393.968393.968393...</td>\n",
       "      <td>7804.966667</td>\n",
       "      <td>50</td>\n",
       "      <td>50</td>\n",
       "      <td>320</td>\n",
       "      <td>2222222222</td>\n",
       "      <td>...</td>\n",
       "      <td>__StandardStandardStandard_Standard_StandardSt...</td>\n",
       "      <td>1402.781402.781402.781402.781402.781402.781402...</td>\n",
       "      <td>340.878078</td>\n",
       "      <td>13 Years and 10 Months13 Years and 11 Months14...</td>\n",
       "      <td>YesYesYesYesNMYesYesYesYesYes</td>\n",
       "      <td>80.251076</td>\n",
       "      <td>67.9396738281883852.45771224397097418.25324025...</td>\n",
       "      <td>Low_spent_Small_value_paymentsHigh_spent_Small...</td>\n",
       "      <td>292.08488523190437315.6946281305281297.5668468...</td>\n",
       "      <td>StandardStandardPoorStandardStandardPoor</td>\n",
       "    </tr>\n",
       "    <tr>\n",
       "      <th>Stevei</th>\n",
       "      <td>JanuaryFebruaryMarchAprilMayJulyAugustSeptembe...</td>\n",
       "      <td>34343434353535353535</td>\n",
       "      <td>402-04-1025402-04-1025402-04-1025402-04-102540...</td>\n",
       "      <td>JournalistJournalistJournalistJournalistJourna...</td>\n",
       "      <td>36048.0836048.0836048.08_36048.0836048.0836048...</td>\n",
       "      <td>23592.053333</td>\n",
       "      <td>30</td>\n",
       "      <td>70</td>\n",
       "      <td>140</td>\n",
       "      <td>2222222222</td>\n",
       "      <td>...</td>\n",
       "      <td>Standard_StandardStandardStandardStandard_Stan...</td>\n",
       "      <td>571.06571.06571.06571.06571.06571.06571.06571....</td>\n",
       "      <td>357.807064</td>\n",
       "      <td>13 Years and 7 Months13 Years and 8 Months13 Y...</td>\n",
       "      <td>YesYesYesYesYesYesYesYesNMYes</td>\n",
       "      <td>457.726357</td>\n",
       "      <td>106.5466364683387242.872471818073095142.711397...</td>\n",
       "      <td>Low_spent_Small_value_payments!@9#%8High_spent...</td>\n",
       "      <td>432.5813945338121456.25555918407775366.4166336...</td>\n",
       "      <td>StandardStandardStandardStandardStandardStanda...</td>\n",
       "    </tr>\n",
       "    <tr>\n",
       "      <th>Stevep</th>\n",
       "      <td>JanuaryFebruaryMarchAprilMayJuneJulyAugustSept...</td>\n",
       "      <td>4242424242424242434343</td>\n",
       "      <td>396-73-6429396-73-6429396-73-6429396-73-6429#F...</td>\n",
       "      <td>Media_ManagerMedia_ManagerMedia_ManagerMedia_M...</td>\n",
       "      <td>33461.2433461.2433461.2433461.2433461.2433461....</td>\n",
       "      <td>29649.803333</td>\n",
       "      <td>55</td>\n",
       "      <td>1213</td>\n",
       "      <td>3681</td>\n",
       "      <td>22222222222</td>\n",
       "      <td>...</td>\n",
       "      <td>StandardStandardStandardStandard__StandardStan...</td>\n",
       "      <td>1048.02_1048.021048.021048.021048.02_1048.0210...</td>\n",
       "      <td>351.943933</td>\n",
       "      <td>20 Years and 2 Months20 Years and 3 Months20 Y...</td>\n",
       "      <td>YesYesYesYesYesNMYesYesYesNMYes</td>\n",
       "      <td>596.610260</td>\n",
       "      <td>48.38846919157242103.80312076818892162.4192128...</td>\n",
       "      <td>!@9#%8High_spent_Medium_value_payments!@9#%8!@...</td>\n",
       "      <td>406.91790111040535361.5032495337889280.0053476...</td>\n",
       "      <td>StandardStandardStandardStandardStandardStanda...</td>\n",
       "    </tr>\n",
       "    <tr>\n",
       "      <th>Thomasf</th>\n",
       "      <td>JanuaryMarchAprilMayJuneJulyAugustSeptemberNov...</td>\n",
       "      <td>43444444444444444444</td>\n",
       "      <td>303-19-1557303-19-1557303-19-1557303-19-155730...</td>\n",
       "      <td>Media_ManagerMedia_ManagerMedia_ManagerMedia_M...</td>\n",
       "      <td>74538.8774538.8774538.8774538.8774538.8774538....</td>\n",
       "      <td>56525.152500</td>\n",
       "      <td>80</td>\n",
       "      <td>50</td>\n",
       "      <td>2388</td>\n",
       "      <td>000_0000000</td>\n",
       "      <td>...</td>\n",
       "      <td>_StandardStandardStandardStandardStandardStand...</td>\n",
       "      <td>1433.431433.431433.431433.431433.431433.431433...</td>\n",
       "      <td>352.613585</td>\n",
       "      <td>21 Years and 10 Months21 Years and 11 Months22...</td>\n",
       "      <td>NoNMNoNoNMNoNoNoNoNo</td>\n",
       "      <td>0.000000</td>\n",
       "      <td>183.40666856082672624.6953689811063523.5491058...</td>\n",
       "      <td>Low_spent_Large_value_payments!@9#%8Low_spent_...</td>\n",
       "      <td>714.6505814391733293.3618810188937384.50814410...</td>\n",
       "      <td>StandardStandardStandardStandardStandardStanda...</td>\n",
       "    </tr>\n",
       "    <tr>\n",
       "      <th>...</th>\n",
       "      <td>...</td>\n",
       "      <td>...</td>\n",
       "      <td>...</td>\n",
       "      <td>...</td>\n",
       "      <td>...</td>\n",
       "      <td>...</td>\n",
       "      <td>...</td>\n",
       "      <td>...</td>\n",
       "      <td>...</td>\n",
       "      <td>...</td>\n",
       "      <td>...</td>\n",
       "      <td>...</td>\n",
       "      <td>...</td>\n",
       "      <td>...</td>\n",
       "      <td>...</td>\n",
       "      <td>...</td>\n",
       "      <td>...</td>\n",
       "      <td>...</td>\n",
       "      <td>...</td>\n",
       "      <td>...</td>\n",
       "      <td>...</td>\n",
       "    </tr>\n",
       "    <tr>\n",
       "      <th>tg</th>\n",
       "      <td>JanuaryFebruaryMarchAprilMayJuneJulyAugustOcto...</td>\n",
       "      <td>2121212122222222_222222</td>\n",
       "      <td>289-20-3745289-20-3745289-20-3745289-20-374528...</td>\n",
       "      <td>TeacherTeacherTeacherTeacherTeacherTeacherTeac...</td>\n",
       "      <td>36401.3636401.3636401.3636401.3636401.3636401....</td>\n",
       "      <td>32314.466667</td>\n",
       "      <td>44</td>\n",
       "      <td>55</td>\n",
       "      <td>3226</td>\n",
       "      <td>6-10066_6666666</td>\n",
       "      <td>...</td>\n",
       "      <td>StandardStandardStandardStandardStandardStanda...</td>\n",
       "      <td>2301.932301.932301.932301.932301.932301.932301...</td>\n",
       "      <td>361.163219</td>\n",
       "      <td>13 Years and 3 Months13 Years and 4 Months13 Y...</td>\n",
       "      <td>YesYesYesNMYesYesYesYesYesYesYes</td>\n",
       "      <td>1422.697963</td>\n",
       "      <td>128.2860910282067301.323592031814676.729487490...</td>\n",
       "      <td>High_spent_Medium_value_paymentsLow_spent_Medi...</td>\n",
       "      <td>315.5223971537529172.48489615014492377.0790006...</td>\n",
       "      <td>PoorPoorPoorPoorPoorPoorPoorPoor</td>\n",
       "    </tr>\n",
       "    <tr>\n",
       "      <th>ty</th>\n",
       "      <td>JanuaryFebruaryMarchAprilMayJuneJulyAugustSept...</td>\n",
       "      <td>484848484848_484849494949</td>\n",
       "      <td>680-76-9610#F%$D@*&amp;8680-76-9610680-76-9610680-...</td>\n",
       "      <td>WriterWriterWriterWriterWriterWriterWriterWrit...</td>\n",
       "      <td>32228.6732228.6732228.6732228.6732228.6732228....</td>\n",
       "      <td>22753.065247</td>\n",
       "      <td>84</td>\n",
       "      <td>72</td>\n",
       "      <td>96</td>\n",
       "      <td>444444444444</td>\n",
       "      <td>...</td>\n",
       "      <td>StandardStandardStandard_StandardStandardStand...</td>\n",
       "      <td>940.36940.36940.36940.36940.36940.36940.36940....</td>\n",
       "      <td>402.740855</td>\n",
       "      <td>32 Years and 2 Months32 Years and 3 Months32 Y...</td>\n",
       "      <td>YesYesYesYesYesYesNMNMYesYesYesYes</td>\n",
       "      <td>64233.657968</td>\n",
       "      <td>198.6543706060784664.34274926362036377.7222596...</td>\n",
       "      <td>Low_spent_Large_value_paymentsHigh_spent_Mediu...</td>\n",
       "      <td>285.03213260307257399.3437539455307125.9642435...</td>\n",
       "      <td>StandardStandardStandardStandardStandardStanda...</td>\n",
       "    </tr>\n",
       "    <tr>\n",
       "      <th>yi</th>\n",
       "      <td>JanuaryFebruaryMarchAprilMayJuneJulyAugustJanu...</td>\n",
       "      <td>343434343434343424242525252534_34353525252525</td>\n",
       "      <td>057-95-4768057-95-4768057-95-4768057-95-476805...</td>\n",
       "      <td>EngineerEngineerEngineerEngineerEngineerEngine...</td>\n",
       "      <td>58295.1658295.1658295.1658295.1658295.1658295....</td>\n",
       "      <td>92528.730000</td>\n",
       "      <td>277</td>\n",
       "      <td>2169</td>\n",
       "      <td>276</td>\n",
       "      <td>5555555-100-100333335555_333-100</td>\n",
       "      <td>...</td>\n",
       "      <td>BadBadBad_Bad_BadBadGoodGoodGoodGood_GoodBadBa...</td>\n",
       "      <td>2543.042543.042543.042543.042543.042543.042543...</td>\n",
       "      <td>671.312588</td>\n",
       "      <td>7 Years and 1 Months7 Years and 3 Months7 Year...</td>\n",
       "      <td>YesYesYesYesYesYesNMYesNoNoNMNoNoNoYesYesYesYe...</td>\n",
       "      <td>26680.691124</td>\n",
       "      <td>95.9293446910593106.9436425990182163.694383826...</td>\n",
       "      <td>High_spent_Small_value_paymentsHigh_spent_Medi...</td>\n",
       "      <td>419.78435475684137398.7700568488825207.6013326...</td>\n",
       "      <td>StandardPoorPoorPoorPoorPoorPoorPoorStandardSt...</td>\n",
       "    </tr>\n",
       "    <tr>\n",
       "      <th>yk</th>\n",
       "      <td>JanuaryFebruaryMarchAprilMayJuneJulyAugustSept...</td>\n",
       "      <td>232323232324242424_242424</td>\n",
       "      <td>850-06-1322850-06-1322850-06-1322850-06-132285...</td>\n",
       "      <td>______________DoctorDoctorDoctorDoctorDoctorDo...</td>\n",
       "      <td>41026.38_41026.3841026.3841026.3841026.3841026...</td>\n",
       "      <td>34835.515000</td>\n",
       "      <td>60</td>\n",
       "      <td>84</td>\n",
       "      <td>108</td>\n",
       "      <td>6-1006666666666</td>\n",
       "      <td>...</td>\n",
       "      <td>StandardStandardStandardStandardStandardStanda...</td>\n",
       "      <td>1241.691241.691241.691241.691241.691241.691241...</td>\n",
       "      <td>386.598734</td>\n",
       "      <td>12 Years and 10 Months12 Years and 11 Months13...</td>\n",
       "      <td>YesYesYesNMYesNMYesYesNMYesNMYes</td>\n",
       "      <td>2181.648272</td>\n",
       "      <td>111.52898815112732140.7516269074803372.3091476...</td>\n",
       "      <td>High_spent_Small_value_paymentsHigh_spent_Smal...</td>\n",
       "      <td>283.3534891890919254.13085043273887322.5733297...</td>\n",
       "      <td>StandardStandardStandardStandardStandardStanda...</td>\n",
       "    </tr>\n",
       "    <tr>\n",
       "      <th>yv</th>\n",
       "      <td>JanuaryFebruaryAprilMayJuneJulyAugustJanuaryFe...</td>\n",
       "      <td>25252525252626424242_42424242422626262642424343</td>\n",
       "      <td>106-55-1522106-55-1522106-55-1522106-55-152210...</td>\n",
       "      <td>EntrepreneurEntrepreneurEntrepreneurEntreprene...</td>\n",
       "      <td>16819.9816819.9816819.9816819.9816819.9816819....</td>\n",
       "      <td>24595.173333</td>\n",
       "      <td>174</td>\n",
       "      <td>137</td>\n",
       "      <td>723</td>\n",
       "      <td>555555-1008888888-10055558888_</td>\n",
       "      <td>...</td>\n",
       "      <td>BadBad_BadBadBadBad_Bad_Bad_BadBadBadBadBadBad...</td>\n",
       "      <td>3048.283048.283048.283048.283048.283048.283048...</td>\n",
       "      <td>706.382129</td>\n",
       "      <td>4 Years and 11 Months5 Years and 2 Months5 Yea...</td>\n",
       "      <td>YesYesYesYesNMYesYesYesYesYesYesNMYesYesYesYes...</td>\n",
       "      <td>72594.446142</td>\n",
       "      <td>183.6573825720621522.87327688363996433.1511760...</td>\n",
       "      <td>Low_spent_Small_value_paymentsHigh_spent_Mediu...</td>\n",
       "      <td>236.7385953153546357.5227010037768347.24480182...</td>\n",
       "      <td>PoorPoorPoorStandardPoorPoorPoorPoorStandardSt...</td>\n",
       "    </tr>\n",
       "  </tbody>\n",
       "</table>\n",
       "<p>10139 rows × 25 columns</p>\n",
       "</div>"
      ],
      "text/plain": [
       "                                                      Month  \\\n",
       "Name                                                          \n",
       " Mattr    JanuaryFebruaryMarchAprilMayJulyAugustSeptembe...   \n",
       " Mattx    JanuaryFebruaryMarchAprilMayAugustSeptemberOct...   \n",
       " Stevei   JanuaryFebruaryMarchAprilMayJulyAugustSeptembe...   \n",
       " Stevep   JanuaryFebruaryMarchAprilMayJuneJulyAugustSept...   \n",
       " Thomasf  JanuaryMarchAprilMayJuneJulyAugustSeptemberNov...   \n",
       "...                                                     ...   \n",
       "tg        JanuaryFebruaryMarchAprilMayJuneJulyAugustOcto...   \n",
       "ty        JanuaryFebruaryMarchAprilMayJuneJulyAugustSept...   \n",
       "yi        JanuaryFebruaryMarchAprilMayJuneJulyAugustJanu...   \n",
       "yk        JanuaryFebruaryMarchAprilMayJuneJulyAugustSept...   \n",
       "yv        JanuaryFebruaryAprilMayJuneJulyAugustJanuaryFe...   \n",
       "\n",
       "                                                      Age  \\\n",
       "Name                                                        \n",
       " Mattr                              1919202020202020_2020   \n",
       " Mattx                              2929_2929292929303030   \n",
       " Stevei                              34343434353535353535   \n",
       " Stevep                            4242424242424242434343   \n",
       " Thomasf                             43444444444444444444   \n",
       "...                                                   ...   \n",
       "tg                                2121212122222222_222222   \n",
       "ty                              484848484848_484849494949   \n",
       "yi          343434343434343424242525252534_34353525252525   \n",
       "yk                              232323232324242424_242424   \n",
       "yv        25252525252626424242_42424242422626262642424343   \n",
       "\n",
       "                                                        SSN  \\\n",
       "Name                                                          \n",
       " Mattr    892-22-1956#F%$D@*&8892-22-1956892-22-1956892-...   \n",
       " Mattx    609-98-6953609-98-6953609-98-6953#F%$D@*&8609-...   \n",
       " Stevei   402-04-1025402-04-1025402-04-1025402-04-102540...   \n",
       " Stevep   396-73-6429396-73-6429396-73-6429396-73-6429#F...   \n",
       " Thomasf  303-19-1557303-19-1557303-19-1557303-19-155730...   \n",
       "...                                                     ...   \n",
       "tg        289-20-3745289-20-3745289-20-3745289-20-374528...   \n",
       "ty        680-76-9610#F%$D@*&8680-76-9610680-76-9610680-...   \n",
       "yi        057-95-4768057-95-4768057-95-4768057-95-476805...   \n",
       "yk        850-06-1322850-06-1322850-06-1322850-06-132285...   \n",
       "yv        106-55-1522106-55-1522106-55-1522106-55-152210...   \n",
       "\n",
       "                                                 Occupation  \\\n",
       "Name                                                          \n",
       " Mattr    MechanicMechanicMechanicMechanicMechanic______...   \n",
       " Mattx    LawyerLawyerLawyerLawyerLawyerLawyerLawyer____...   \n",
       " Stevei   JournalistJournalistJournalistJournalistJourna...   \n",
       " Stevep   Media_ManagerMedia_ManagerMedia_ManagerMedia_M...   \n",
       " Thomasf  Media_ManagerMedia_ManagerMedia_ManagerMedia_M...   \n",
       "...                                                     ...   \n",
       "tg        TeacherTeacherTeacherTeacherTeacherTeacherTeac...   \n",
       "ty        WriterWriterWriterWriterWriterWriterWriterWrit...   \n",
       "yi        EngineerEngineerEngineerEngineerEngineerEngine...   \n",
       "yk        ______________DoctorDoctorDoctorDoctorDoctorDo...   \n",
       "yv        EntrepreneurEntrepreneurEntrepreneurEntreprene...   \n",
       "\n",
       "                                              Annual_Income  \\\n",
       "Name                                                          \n",
       " Mattr    15411.9315411.9315411.9315411.9315411.9315411....   \n",
       " Mattx    8393.968393.968393.968393.968393.968393.968393...   \n",
       " Stevei   36048.0836048.0836048.08_36048.0836048.0836048...   \n",
       " Stevep   33461.2433461.2433461.2433461.2433461.2433461....   \n",
       " Thomasf  74538.8774538.8774538.8774538.8774538.8774538....   \n",
       "...                                                     ...   \n",
       "tg        36401.3636401.3636401.3636401.3636401.3636401....   \n",
       "ty        32228.6732228.6732228.6732228.6732228.6732228....   \n",
       "yi        58295.1658295.1658295.1658295.1658295.1658295....   \n",
       "yk        41026.38_41026.3841026.3841026.3841026.3841026...   \n",
       "yv        16819.9816819.9816819.9816819.9816819.9816819....   \n",
       "\n",
       "          Monthly_Inhand_Salary  Num_Bank_Accounts  Num_Credit_Card  \\\n",
       "Name                                                                  \n",
       " Mattr             10042.620000                 70              100   \n",
       " Mattx              7804.966667                 50               50   \n",
       " Stevei            23592.053333                 30               70   \n",
       " Stevep            29649.803333                 55             1213   \n",
       " Thomasf           56525.152500                 80               50   \n",
       "...                         ...                ...              ...   \n",
       "tg                 32314.466667                 44               55   \n",
       "ty                 22753.065247                 84               72   \n",
       "yi                 92528.730000                277             2169   \n",
       "yk                 34835.515000                 60               84   \n",
       "yv                 24595.173333                174              137   \n",
       "\n",
       "          Interest_Rate                       Num_of_Loan  ...  \\\n",
       "Name                                                       ...   \n",
       " Mattr              320                        4444444444  ...   \n",
       " Mattx              320                        2222222222  ...   \n",
       " Stevei             140                        2222222222  ...   \n",
       " Stevep            3681                       22222222222  ...   \n",
       " Thomasf           2388                       000_0000000  ...   \n",
       "...                 ...                               ...  ...   \n",
       "tg                 3226                   6-10066_6666666  ...   \n",
       "ty                   96                      444444444444  ...   \n",
       "yi                  276  5555555-100-100333335555_333-100  ...   \n",
       "yk                  108                   6-1006666666666  ...   \n",
       "yv                  723    555555-1008888888-10055558888_  ...   \n",
       "\n",
       "                                                 Credit_Mix  \\\n",
       "Name                                                          \n",
       " Mattr    StandardStandardStandardStandard_Standard_Stan...   \n",
       " Mattx    __StandardStandardStandard_Standard_StandardSt...   \n",
       " Stevei   Standard_StandardStandardStandardStandard_Stan...   \n",
       " Stevep   StandardStandardStandardStandard__StandardStan...   \n",
       " Thomasf  _StandardStandardStandardStandardStandardStand...   \n",
       "...                                                     ...   \n",
       "tg        StandardStandardStandardStandardStandardStanda...   \n",
       "ty        StandardStandardStandard_StandardStandardStand...   \n",
       "yi        BadBadBad_Bad_BadBadGoodGoodGoodGood_GoodBadBa...   \n",
       "yk        StandardStandardStandardStandardStandardStanda...   \n",
       "yv        BadBad_BadBadBadBad_Bad_Bad_BadBadBadBadBadBad...   \n",
       "\n",
       "                                           Outstanding_Debt  \\\n",
       "Name                                                          \n",
       " Mattr    2084.962084.962084.962084.962084.962084.962084...   \n",
       " Mattx    1402.781402.781402.781402.781402.781402.781402...   \n",
       " Stevei   571.06571.06571.06571.06571.06571.06571.06571....   \n",
       " Stevep   1048.02_1048.021048.021048.021048.02_1048.0210...   \n",
       " Thomasf  1433.431433.431433.431433.431433.431433.431433...   \n",
       "...                                                     ...   \n",
       "tg        2301.932301.932301.932301.932301.932301.932301...   \n",
       "ty        940.36940.36940.36940.36940.36940.36940.36940....   \n",
       "yi        2543.042543.042543.042543.042543.042543.042543...   \n",
       "yk        1241.691241.691241.691241.691241.691241.691241...   \n",
       "yv        3048.283048.283048.283048.283048.283048.283048...   \n",
       "\n",
       "         Credit_Utilization_Ratio  \\\n",
       "Name                                \n",
       " Mattr                 300.493694   \n",
       " Mattx                 340.878078   \n",
       " Stevei                357.807064   \n",
       " Stevep                351.943933   \n",
       " Thomasf               352.613585   \n",
       "...                           ...   \n",
       "tg                     361.163219   \n",
       "ty                     402.740855   \n",
       "yi                     671.312588   \n",
       "yk                     386.598734   \n",
       "yv                     706.382129   \n",
       "\n",
       "                                         Credit_History_Age  \\\n",
       "Name                                                          \n",
       " Mattr    15 Years and 3 Months15 Years and 4 Months15 Y...   \n",
       " Mattx    13 Years and 10 Months13 Years and 11 Months14...   \n",
       " Stevei   13 Years and 7 Months13 Years and 8 Months13 Y...   \n",
       " Stevep   20 Years and 2 Months20 Years and 3 Months20 Y...   \n",
       " Thomasf  21 Years and 10 Months21 Years and 11 Months22...   \n",
       "...                                                     ...   \n",
       "tg        13 Years and 3 Months13 Years and 4 Months13 Y...   \n",
       "ty        32 Years and 2 Months32 Years and 3 Months32 Y...   \n",
       "yi        7 Years and 1 Months7 Years and 3 Months7 Year...   \n",
       "yk        12 Years and 10 Months12 Years and 11 Months13...   \n",
       "yv        4 Years and 11 Months5 Years and 2 Months5 Yea...   \n",
       "\n",
       "                                      Payment_of_Min_Amount  \\\n",
       "Name                                                          \n",
       " Mattr                         NMYesYesYesYesYesYesYesNMYes   \n",
       " Mattx                        YesYesYesYesNMYesYesYesYesYes   \n",
       " Stevei                       YesYesYesYesYesYesYesYesNMYes   \n",
       " Stevep                     YesYesYesYesYesNMYesYesYesNMYes   \n",
       " Thomasf                               NoNMNoNoNMNoNoNoNoNo   \n",
       "...                                                     ...   \n",
       "tg                         YesYesYesNMYesYesYesYesYesYesYes   \n",
       "ty                       YesYesYesYesYesYesNMNMYesYesYesYes   \n",
       "yi        YesYesYesYesYesYesNMYesNoNoNMNoNoNoYesYesYesYe...   \n",
       "yk                         YesYesYesNMYesNMYesYesNMYesNMYes   \n",
       "yv        YesYesYesYesNMYesYesYesYesYesYesNMYesYesYesYes...   \n",
       "\n",
       "         Total_EMI_per_month  \\\n",
       "Name                           \n",
       " Mattr            340.079643   \n",
       " Mattx             80.251076   \n",
       " Stevei           457.726357   \n",
       " Stevep           596.610260   \n",
       " Thomasf            0.000000   \n",
       "...                      ...   \n",
       "tg               1422.697963   \n",
       "ty              64233.657968   \n",
       "yi              26680.691124   \n",
       "yk               2181.648272   \n",
       "yv              72594.446142   \n",
       "\n",
       "                                    Amount_invested_monthly  \\\n",
       "Name                                                          \n",
       " Mattr    96.9077621485204572.50326309942025150.82793560...   \n",
       " Mattx    67.9396738281883852.45771224397097418.25324025...   \n",
       " Stevei   106.5466364683387242.872471818073095142.711397...   \n",
       " Stevep   48.38846919157242103.80312076818892162.4192128...   \n",
       " Thomasf  183.40666856082672624.6953689811063523.5491058...   \n",
       "...                                                     ...   \n",
       "tg        128.2860910282067301.323592031814676.729487490...   \n",
       "ty        198.6543706060784664.34274926362036377.7222596...   \n",
       "yi        95.9293446910593106.9436425990182163.694383826...   \n",
       "yk        111.52898815112732140.7516269074803372.3091476...   \n",
       "yv        183.6573825720621522.87327688363996433.1511760...   \n",
       "\n",
       "                                          Payment_Behaviour  \\\n",
       "Name                                                          \n",
       " Mattr    Low_spent_Medium_value_paymentsLow_spent_Small...   \n",
       " Mattx    Low_spent_Small_value_paymentsHigh_spent_Small...   \n",
       " Stevei   Low_spent_Small_value_payments!@9#%8High_spent...   \n",
       " Stevep   !@9#%8High_spent_Medium_value_payments!@9#%8!@...   \n",
       " Thomasf  Low_spent_Large_value_payments!@9#%8Low_spent_...   \n",
       "...                                                     ...   \n",
       "tg        High_spent_Medium_value_paymentsLow_spent_Medi...   \n",
       "ty        Low_spent_Large_value_paymentsHigh_spent_Mediu...   \n",
       "yi        High_spent_Small_value_paymentsHigh_spent_Medi...   \n",
       "yk        High_spent_Small_value_paymentsHigh_spent_Smal...   \n",
       "yv        Low_spent_Small_value_paymentsHigh_spent_Mediu...   \n",
       "\n",
       "                                            Monthly_Balance  \\\n",
       "Name                                                          \n",
       " Mattr    297.26896241681976284.6170235757184299.0215226...   \n",
       " Mattx    292.08488523190437315.6946281305281297.5668468...   \n",
       " Stevei   432.5813945338121456.25555918407775366.4166336...   \n",
       " Stevep   406.91790111040535361.5032495337889280.0053476...   \n",
       " Thomasf  714.6505814391733293.3618810188937384.50814410...   \n",
       "...                                                     ...   \n",
       "tg        315.5223971537529172.48489615014492377.0790006...   \n",
       "ty        285.03213260307257399.3437539455307125.9642435...   \n",
       "yi        419.78435475684137398.7700568488825207.6013326...   \n",
       "yk        283.3534891890919254.13085043273887322.5733297...   \n",
       "yv        236.7385953153546357.5227010037768347.24480182...   \n",
       "\n",
       "                                               Credit_Score  \n",
       "Name                                                         \n",
       " Mattr                         PoorPoorPoorPoorPoorPoorPoor  \n",
       " Mattx             StandardStandardPoorStandardStandardPoor  \n",
       " Stevei   StandardStandardStandardStandardStandardStanda...  \n",
       " Stevep   StandardStandardStandardStandardStandardStanda...  \n",
       " Thomasf  StandardStandardStandardStandardStandardStanda...  \n",
       "...                                                     ...  \n",
       "tg                         PoorPoorPoorPoorPoorPoorPoorPoor  \n",
       "ty        StandardStandardStandardStandardStandardStanda...  \n",
       "yi        StandardPoorPoorPoorPoorPoorPoorPoorStandardSt...  \n",
       "yk        StandardStandardStandardStandardStandardStanda...  \n",
       "yv        PoorPoorPoorStandardPoorPoorPoorPoorStandardSt...  \n",
       "\n",
       "[10139 rows x 25 columns]"
      ]
     },
     "execution_count": 9,
     "metadata": {},
     "output_type": "execute_result"
    }
   ],
   "source": [
    "df.groupby(['Name']).sum(numeric_only=False)"
   ]
  },
  {
   "cell_type": "markdown",
   "id": "b2c81335",
   "metadata": {},
   "source": [
    "## Insight:\n",
    "- We can see that we have data from jan to Aug for same person.\n",
    "- we can clean SSN columns on the basis of name.\n",
    "- we can clean Occupation false data points on the basis of name.\n",
    "- we can clean anual income data based on name.\n",
    "- we will check and try to clean more column son the basis of name.\n"
   ]
  },
  {
   "cell_type": "markdown",
   "id": "9ac7267d",
   "metadata": {},
   "source": [
    "# Data Cleaning"
   ]
  },
  {
   "cell_type": "markdown",
   "id": "04486fe0",
   "metadata": {},
   "source": [
    "## Cleaning Annual_Income column based of Name column"
   ]
  },
  {
   "cell_type": "code",
   "execution_count": 10,
   "id": "545ad31e",
   "metadata": {},
   "outputs": [
    {
     "data": {
      "text/plain": [
       "Name\n",
       " Mattr              [15411.93, 15411.93_]\n",
       " Mattx                          [8393.96]\n",
       " Stevei             [36048.08, 36048.08_]\n",
       " Stevep                        [33461.24]\n",
       " Thomasf                       [74538.87]\n",
       "                        ...              \n",
       "tg                             [36401.36]\n",
       "ty                             [32228.67]\n",
       "yi          [58295.16, 59134.0, 59134.0_]\n",
       "yk                  [41026.38_, 41026.38]\n",
       "yv                   [16819.98, 8898.785]\n",
       "Name: Annual_Income, Length: 10139, dtype: object"
      ]
     },
     "execution_count": 10,
     "metadata": {},
     "output_type": "execute_result"
    }
   ],
   "source": [
    "df.groupby(['Name'])['Annual_Income'].unique()"
   ]
  },
  {
   "cell_type": "markdown",
   "id": "bbb8db29",
   "metadata": {},
   "source": [
    "we can see there are more than one value for some names and there is a '_' after value thats the error."
   ]
  },
  {
   "cell_type": "markdown",
   "id": "649a5b8a",
   "metadata": {},
   "source": [
    "### Clean the \"Annual_Income\" column based on the \"Name\" column"
   ]
  },
  {
   "cell_type": "code",
   "execution_count": 11,
   "id": "d0ad34bb",
   "metadata": {},
   "outputs": [],
   "source": [
    "df['Annual_Income']= df.groupby(['Name'])['Annual_Income'].transform(lambda x: x.str.replace('_', ''))"
   ]
  },
  {
   "cell_type": "code",
   "execution_count": 12,
   "id": "9344db09",
   "metadata": {},
   "outputs": [
    {
     "data": {
      "text/plain": [
       "Name\n",
       " Mattr                [15411.93]\n",
       " Mattx                 [8393.96]\n",
       " Stevei               [36048.08]\n",
       " Stevep               [33461.24]\n",
       " Thomasf              [74538.87]\n",
       "                    ...         \n",
       "tg                    [36401.36]\n",
       "ty                    [32228.67]\n",
       "yi           [58295.16, 59134.0]\n",
       "yk                    [41026.38]\n",
       "yv          [16819.98, 8898.785]\n",
       "Name: Annual_Income, Length: 10139, dtype: object"
      ]
     },
     "execution_count": 12,
     "metadata": {},
     "output_type": "execute_result"
    }
   ],
   "source": [
    "df.groupby(['Name'])['Annual_Income'].unique()"
   ]
  },
  {
   "cell_type": "markdown",
   "id": "79ad4260",
   "metadata": {},
   "source": [
    "still we have 2 values for some names. Means there are different people with same names."
   ]
  },
  {
   "cell_type": "markdown",
   "id": "cfcdb210",
   "metadata": {},
   "source": [
    "## Cleaning Occupation column based of Name column"
   ]
  },
  {
   "cell_type": "code",
   "execution_count": 13,
   "id": "f11139fe",
   "metadata": {},
   "outputs": [],
   "source": [
    "df['naan'] = df['Name'] + '_' + df['Annual_Income'] "
   ]
  },
  {
   "cell_type": "markdown",
   "id": "59693cff",
   "metadata": {},
   "source": [
    "made a new column with adding name and annual_income so that all people with same name and different incomes can be identified."
   ]
  },
  {
   "cell_type": "code",
   "execution_count": 14,
   "id": "1b00a40d",
   "metadata": {},
   "outputs": [],
   "source": [
    "df['Occupation'] = df.groupby('naan')['Occupation'].transform(lambda x: x.mode().iat[0])"
   ]
  },
  {
   "cell_type": "code",
   "execution_count": 15,
   "id": "faf0a717",
   "metadata": {},
   "outputs": [
    {
     "data": {
      "text/plain": [
       "Name\n",
       " Mattr                     [Mechanic]\n",
       " Mattx                       [Lawyer]\n",
       " Stevei                  [Journalist]\n",
       " Stevep               [Media_Manager]\n",
       " Thomasf              [Media_Manager]\n",
       "                      ...            \n",
       "tg                          [Teacher]\n",
       "ty                           [Writer]\n",
       "yi          [Engineer, Media_Manager]\n",
       "yk                           [Doctor]\n",
       "yv           [Entrepreneur, Engineer]\n",
       "Name: Occupation, Length: 10139, dtype: object"
      ]
     },
     "execution_count": 15,
     "metadata": {},
     "output_type": "execute_result"
    }
   ],
   "source": [
    "df.groupby(['Name'])['Occupation'].unique()"
   ]
  },
  {
   "cell_type": "code",
   "execution_count": 16,
   "id": "ab8f9add",
   "metadata": {},
   "outputs": [],
   "source": [
    "df['Occupation'] = df['Occupation'].str.replace('_______', 'Unknown',regex=False)"
   ]
  },
  {
   "cell_type": "markdown",
   "id": "7493469e",
   "metadata": {},
   "source": [
    "## what?\n",
    "- We grouped all the occupation based on name then we find the mode, means most occuring occupations for a name and then replaced it with all the other values. for a given name."
   ]
  },
  {
   "cell_type": "markdown",
   "id": "9e75d2cb",
   "metadata": {},
   "source": [
    "Now we have filled the missing values while taking consideration that there are same name people with different annual salary and occupations."
   ]
  },
  {
   "cell_type": "markdown",
   "id": "a91030c4",
   "metadata": {},
   "source": [
    "### Cleaning SSN column based of Name column"
   ]
  },
  {
   "cell_type": "code",
   "execution_count": 17,
   "id": "d9a79913",
   "metadata": {},
   "outputs": [],
   "source": [
    "df['naanoc'] = df['Name'] + '_' + df['Annual_Income'] + '_' + df['Occupation']\n"
   ]
  },
  {
   "cell_type": "markdown",
   "id": "7af82503",
   "metadata": {},
   "source": [
    "- we created a new column with name+ pccupation. so now each person with same name with different occupation can be identified."
   ]
  },
  {
   "cell_type": "code",
   "execution_count": 18,
   "id": "c8c8e79b",
   "metadata": {},
   "outputs": [],
   "source": [
    "df['SSN'] = df.groupby('naanoc')['SSN'].transform(lambda x: x.mode().iat[0])"
   ]
  },
  {
   "cell_type": "code",
   "execution_count": 19,
   "id": "da1494ae",
   "metadata": {},
   "outputs": [],
   "source": [
    "df['SSN'] =df['SSN'].replace(to_replace='#F%$D@*&8',value= np.nan,)"
   ]
  },
  {
   "cell_type": "code",
   "execution_count": 20,
   "id": "c1d64d08",
   "metadata": {},
   "outputs": [
    {
     "data": {
      "text/plain": [
       "Name\n",
       " Mattr                   [892-22-1956]\n",
       " Mattx                   [609-98-6953]\n",
       " Stevei                  [402-04-1025]\n",
       " Stevep                  [396-73-6429]\n",
       " Thomasf                 [303-19-1557]\n",
       "                       ...            \n",
       "tg                       [289-20-3745]\n",
       "ty                       [680-76-9610]\n",
       "yi          [057-95-4768, 564-11-6075]\n",
       "yk                       [850-06-1322]\n",
       "yv          [106-55-1522, 644-23-8314]\n",
       "Name: SSN, Length: 10139, dtype: object"
      ]
     },
     "execution_count": 20,
     "metadata": {},
     "output_type": "execute_result"
    }
   ],
   "source": [
    "df.groupby(['Name'])['SSN'].unique()"
   ]
  },
  {
   "cell_type": "markdown",
   "id": "cb0088e2",
   "metadata": {},
   "source": [
    "### Insights:\n",
    "- Cleaned Missing SSN values.\n",
    "- Now we have unique SSN NUmbers for each person so we can use SSN for cleaning data"
   ]
  },
  {
   "cell_type": "markdown",
   "id": "e49de8c8",
   "metadata": {},
   "source": [
    "### checking missing values"
   ]
  },
  {
   "cell_type": "code",
   "execution_count": 21,
   "id": "fb6a9d69",
   "metadata": {},
   "outputs": [
    {
     "data": {
      "text/plain": [
       "<Axes: >"
      ]
     },
     "execution_count": 21,
     "metadata": {},
     "output_type": "execute_result"
    },
    {
     "data": {
      "image/png": "[encoded data removed]",
      "text/plain": [
       "<Figure size 800x300 with 1 Axes>"
      ]
     },
     "metadata": {},
     "output_type": "display_data"
    }
   ],
   "source": [
    "plt.figure(figsize=(8,3))\n",
    "sns.heatmap(df.isnull(), yticklabels=False, cbar=False, cmap='viridis')"
   ]
  },
  {
   "cell_type": "markdown",
   "id": "b1279fba",
   "metadata": {},
   "source": [
    "## Cleaning Monthly Inhand_Salary column based of SSN column"
   ]
  },
  {
   "cell_type": "code",
   "execution_count": 22,
   "id": "595d8547",
   "metadata": {},
   "outputs": [],
   "source": [
    "df['Monthly_Inhand_Salary']= df.groupby(['SSN'])['Monthly_Inhand_Salary'].transform(lambda x: x.mode().iat[0])\n"
   ]
  },
  {
   "cell_type": "code",
   "execution_count": 23,
   "id": "af11b8bc",
   "metadata": {},
   "outputs": [
    {
     "data": {
      "text/plain": [
       "SSN\n",
       "000-08-1349     [5465.759999999998]\n",
       "000-40-3312              [3677.295]\n",
       "000-58-0568     [6766.886666666666]\n",
       "000-60-0688     [2228.556666666667]\n",
       "000-63-0442     [5465.076666666667]\n",
       "                       ...         \n",
       "999-79-9012     [2230.813333333333]\n",
       "999-84-9578    [1313.4858333333334]\n",
       "999-92-7186     [2423.398333333333]\n",
       "999-95-7259    [1759.9658333333334]\n",
       "999-99-3421     [733.8945833333332]\n",
       "Name: Monthly_Inhand_Salary, Length: 12499, dtype: object"
      ]
     },
     "execution_count": 23,
     "metadata": {},
     "output_type": "execute_result"
    }
   ],
   "source": [
    "df.groupby(['SSN'])['Monthly_Inhand_Salary'].unique()"
   ]
  },
  {
   "cell_type": "markdown",
   "id": "e664593d",
   "metadata": {},
   "source": [
    "### Clean other columns based on the \"SSN\" column"
   ]
  },
  {
   "cell_type": "code",
   "execution_count": 24,
   "id": "41b503f0",
   "metadata": {},
   "outputs": [
    {
     "name": "stdout",
     "output_type": "stream",
     "text": [
      "Column:  Num_Bank_Accounts  Is Cleaned\n",
      "Column:  Num_Credit_Card  Is Cleaned\n",
      "Column:  Interest_Rate  Is Cleaned\n",
      "Column:  Num_of_Loan  Is Cleaned\n",
      "Not able to clean column :  Type_of_Loan\n",
      "Column:  Delay_from_due_date  Is Cleaned\n",
      "Column:  Num_of_Delayed_Payment  Is Cleaned\n",
      "Column:  Changed_Credit_Limit  Is Cleaned\n",
      "Column:  Num_Credit_Inquiries  Is Cleaned\n",
      "Column:  Credit_Mix  Is Cleaned\n",
      "Column:  Outstanding_Debt  Is Cleaned\n",
      "Column:  Credit_Utilization_Ratio  Is Cleaned\n",
      "Column:  Credit_History_Age  Is Cleaned\n",
      "Column:  Payment_of_Min_Amount  Is Cleaned\n",
      "Column:  Total_EMI_per_month  Is Cleaned\n",
      "Column:  Amount_invested_monthly  Is Cleaned\n",
      "Column:  Payment_Behaviour  Is Cleaned\n",
      "Column:  Monthly_Balance  Is Cleaned\n",
      "**** All Columns Cleaned ****\n"
     ]
    }
   ],
   "source": [
    "x = [ 'Num_Bank_Accounts', 'Num_Credit_Card',\n",
    "       'Interest_Rate', 'Num_of_Loan', 'Type_of_Loan', 'Delay_from_due_date',\n",
    "       'Num_of_Delayed_Payment', 'Changed_Credit_Limit',\n",
    "       'Num_Credit_Inquiries', 'Credit_Mix', 'Outstanding_Debt',\n",
    "       'Credit_Utilization_Ratio', 'Credit_History_Age',\n",
    "       'Payment_of_Min_Amount', 'Total_EMI_per_month',\n",
    "       'Amount_invested_monthly', 'Payment_Behaviour', 'Monthly_Balance']\n",
    "for i in x:\n",
    "    try :\n",
    "        df[i] = df.groupby(['SSN'])[i].transform( lambda x: x.mode().iat[0] )\n",
    "        print(\"Column: \",i,\" Is Cleaned\")\n",
    "    except:\n",
    "        print(\"Not able to clean column : \",i)\n",
    "print(\"**** All Columns Cleaned ****\")"
   ]
  },
  {
   "cell_type": "markdown",
   "id": "c7d65494",
   "metadata": {},
   "source": [
    "### Check for missing values again"
   ]
  },
  {
   "cell_type": "code",
   "execution_count": 25,
   "id": "84976c32",
   "metadata": {},
   "outputs": [
    {
     "data": {
      "text/plain": [
       "<Axes: >"
      ]
     },
     "execution_count": 25,
     "metadata": {},
     "output_type": "execute_result"
    },
    {
     "data": {
      "image/png": "[encoded data removed]",
      "text/plain": [
       "<Figure size 800x300 with 1 Axes>"
      ]
     },
     "metadata": {},
     "output_type": "display_data"
    }
   ],
   "source": [
    "plt.figure(figsize=(8,3))\n",
    "sns.heatmap(df.isnull(), yticklabels=False, cbar=False, cmap='viridis')"
   ]
  },
  {
   "cell_type": "markdown",
   "id": "5f7ee0d7",
   "metadata": {},
   "source": [
    "### Clean the \"Type_of_Loan\" column"
   ]
  },
  {
   "cell_type": "code",
   "execution_count": 26,
   "id": "bf7ccf3e",
   "metadata": {},
   "outputs": [],
   "source": [
    "df['Type_of_Loan'] = df.Type_of_Loan.str.split(',').str[0]"
   ]
  },
  {
   "cell_type": "code",
   "execution_count": 27,
   "id": "2ccdf8f5",
   "metadata": {},
   "outputs": [
    {
     "data": {
      "text/plain": [
       "array(['Auto Loan', 'Credit-Builder Loan', 'Not Specified', nan,\n",
       "       'Personal Loan', 'Payday Loan', 'Mortgage Loan',\n",
       "       'Home Equity Loan', 'Debt Consolidation Loan', 'Student Loan'],\n",
       "      dtype=object)"
      ]
     },
     "execution_count": 27,
     "metadata": {},
     "output_type": "execute_result"
    }
   ],
   "source": [
    "df['Type_of_Loan'].unique()"
   ]
  },
  {
   "cell_type": "markdown",
   "id": "f52243be",
   "metadata": {},
   "source": [
    "###  for grouping numerical data is needed so encoding 'Type_of_Loan' into numbers "
   ]
  },
  {
   "cell_type": "code",
   "execution_count": 28,
   "id": "11a1b167",
   "metadata": {},
   "outputs": [],
   "source": [
    "from sklearn.preprocessing import OrdinalEncoder\n",
    "\n",
    "\n",
    "df['Type_of_Loan'].fillna('missing', inplace=True)\n",
    "\n",
    "x = ['Auto Loan', 'Credit-Builder Loan', 'Not Specified', 'missing',\n",
    "       'Personal Loan', 'Payday Loan', 'Mortgage Loan',\n",
    "       'Home Equity Loan', 'Debt Consolidation Loan', 'Student Loan']\n",
    "encoder = OrdinalEncoder(categories=[x])\n",
    "df['Loan'] = encoder.fit_transform(df[['Type_of_Loan']])"
   ]
  },
  {
   "cell_type": "markdown",
   "id": "5cdf02b1",
   "metadata": {},
   "source": [
    "### Made new dataframe by grouping dataframe on some values."
   ]
  },
  {
   "cell_type": "code",
   "execution_count": 29,
   "id": "154699be",
   "metadata": {},
   "outputs": [],
   "source": [
    "ddf = df.groupby(['Annual_Income', 'Monthly_Inhand_Salary','Num_Bank_Accounts','Num_Credit_Card'])['Loan'].mean().reset_index()"
   ]
  },
  {
   "cell_type": "code",
   "execution_count": 30,
   "id": "03600d29",
   "metadata": {},
   "outputs": [],
   "source": [
    "df1 = df.copy()"
   ]
  },
  {
   "cell_type": "markdown",
   "id": "742ca2c3",
   "metadata": {},
   "source": [
    "### made a copy of existing data do a left join with above dataframe"
   ]
  },
  {
   "cell_type": "code",
   "execution_count": 31,
   "id": "a18588e6",
   "metadata": {},
   "outputs": [],
   "source": [
    "df1 =pd.merge(df1,ddf, how='left',on=['Annual_Income', 'Monthly_Inhand_Salary','Num_Bank_Accounts','Num_Credit_Card'])"
   ]
  },
  {
   "cell_type": "markdown",
   "id": "5db3f523",
   "metadata": {},
   "source": [
    "### replaced the value in original dataset with the value from previous dataframe"
   ]
  },
  {
   "cell_type": "code",
   "execution_count": 32,
   "id": "4cf6e29f",
   "metadata": {},
   "outputs": [],
   "source": [
    "df['Loan'] =df['Loan'].replace('missing', np.nan)\n",
    "df['Loan'] =df['Loan'].fillna(df1['Loan_y'])"
   ]
  },
  {
   "cell_type": "markdown",
   "id": "ed40d5eb",
   "metadata": {},
   "source": [
    "### Removed the encoding on 'Type_of_Loan' column done previously"
   ]
  },
  {
   "cell_type": "code",
   "execution_count": 33,
   "id": "f6a8c3e7",
   "metadata": {},
   "outputs": [],
   "source": [
    "\n",
    "x = {0: 'Auto Loan', 1: 'Credit-Builder Loan', 2: 'Not Specified', 3:'missing',\n",
    "      4: 'Personal Loan', 5:'Payday Loan', 6:'Mortgage Loan',\n",
    "       7:'Home Equity Loan', 8:'Debt Consolidation Loan', 9:'Student Loan'}\n",
    "\n",
    "df['Type_of_Loan'] = df['Loan'].map(x)"
   ]
  },
  {
   "cell_type": "code",
   "execution_count": 34,
   "id": "8e33ae30",
   "metadata": {},
   "outputs": [
    {
     "data": {
      "text/plain": [
       "0"
      ]
     },
     "execution_count": 34,
     "metadata": {},
     "output_type": "execute_result"
    }
   ],
   "source": [
    "pd.isna(df['Type_of_Loan']).sum()"
   ]
  },
  {
   "cell_type": "markdown",
   "id": "45dde1ef",
   "metadata": {},
   "source": [
    "**Type_of_Loan Column is also cleaned**"
   ]
  },
  {
   "cell_type": "code",
   "execution_count": 35,
   "id": "2c4844de",
   "metadata": {},
   "outputs": [
    {
     "name": "stdout",
     "output_type": "stream",
     "text": [
      "Missing Data: =  15125\n",
      "Total Data: =  150000\n",
      "Data is courupted:  10.083333333333332 %\n"
     ]
    }
   ],
   "source": [
    "x = pd.isna(df['SSN']).sum()\n",
    "y = df['SSN'].shape[0]\n",
    "print(\"Missing Data: = \" ,x)\n",
    "print(\"Total Data: = \" ,y)\n",
    "print(\"Data is courupted: \", (x/y)*100,\"%\" )"
   ]
  },
  {
   "cell_type": "markdown",
   "id": "7707e2a2",
   "metadata": {},
   "source": [
    "- we are dropping only 10 % of data. Thats fine "
   ]
  },
  {
   "cell_type": "markdown",
   "id": "294ef7de",
   "metadata": {},
   "source": [
    "### Split the dataset back into training and test datasets"
   ]
  },
  {
   "cell_type": "code",
   "execution_count": 36,
   "id": "ca60dc6c",
   "metadata": {},
   "outputs": [],
   "source": [
    "test  = df[df['Credit_Score'].isna()]"
   ]
  },
  {
   "cell_type": "code",
   "execution_count": 37,
   "id": "1a3ac870",
   "metadata": {},
   "outputs": [
    {
     "name": "stderr",
     "output_type": "stream",
     "text": [
      "C:\\Users\\Abhinav\\AppData\\Local\\Temp\\ipykernel_14848\\1398534447.py:1: SettingWithCopyWarning: \n",
      "A value is trying to be set on a copy of a slice from a DataFrame\n",
      "\n",
      "See the caveats in the documentation: https://pandas.pydata.org/pandas-docs/stable/user_guide/indexing.html#returning-a-view-versus-a-copy\n",
      "  test.drop('Credit_Score',axis=1, inplace=True)\n",
      "C:\\Users\\Abhinav\\AppData\\Local\\Temp\\ipykernel_14848\\1398534447.py:2: SettingWithCopyWarning: \n",
      "A value is trying to be set on a copy of a slice from a DataFrame\n",
      "\n",
      "See the caveats in the documentation: https://pandas.pydata.org/pandas-docs/stable/user_guide/indexing.html#returning-a-view-versus-a-copy\n",
      "  test.dropna(inplace=True)\n"
     ]
    }
   ],
   "source": [
    "test.drop('Credit_Score',axis=1, inplace=True)\n",
    "test.dropna(inplace=True)"
   ]
  },
  {
   "cell_type": "markdown",
   "id": "929ee13b",
   "metadata": {},
   "source": [
    "### Droped all Null values"
   ]
  },
  {
   "cell_type": "code",
   "execution_count": 38,
   "id": "2f1b2ca4",
   "metadata": {},
   "outputs": [],
   "source": [
    "df.dropna(inplace=True)"
   ]
  },
  {
   "cell_type": "code",
   "execution_count": 39,
   "id": "d25d3be9",
   "metadata": {},
   "outputs": [
    {
     "data": {
      "text/plain": [
       "<Axes: >"
      ]
     },
     "execution_count": 39,
     "metadata": {},
     "output_type": "execute_result"
    },
    {
     "data": {
      "image/png": "[encoded data removed]",
      "text/plain": [
       "<Figure size 800x300 with 1 Axes>"
      ]
     },
     "metadata": {},
     "output_type": "display_data"
    }
   ],
   "source": [
    "plt.figure(figsize=(8,3))\n",
    "sns.heatmap(df.isnull(), yticklabels=False, cbar=False, cmap='viridis')"
   ]
  },
  {
   "cell_type": "code",
   "execution_count": 40,
   "id": "5cc42b3e",
   "metadata": {},
   "outputs": [
    {
     "data": {
      "text/plain": [
       "<Axes: >"
      ]
     },
     "execution_count": 40,
     "metadata": {},
     "output_type": "execute_result"
    },
    {
     "data": {
      "image/png": "[encoded data removed]",
      "text/plain": [
       "<Figure size 800x300 with 1 Axes>"
      ]
     },
     "metadata": {},
     "output_type": "display_data"
    }
   ],
   "source": [
    "plt.figure(figsize=(8,3))\n",
    "sns.heatmap(test.isnull(), yticklabels=False, cbar=False, cmap='viridis')"
   ]
  },
  {
   "cell_type": "markdown",
   "id": "45405c62",
   "metadata": {},
   "source": [
    "# Data type correction\n",
    "\n",
    "### Again mearged both dataset for appling more transformations"
   ]
  },
  {
   "cell_type": "code",
   "execution_count": 41,
   "id": "dca5f101",
   "metadata": {},
   "outputs": [],
   "source": [
    "df = pd.concat([df,test])"
   ]
  },
  {
   "cell_type": "markdown",
   "id": "38b6edeb",
   "metadata": {},
   "source": [
    "### data type correction for Age column."
   ]
  },
  {
   "cell_type": "code",
   "execution_count": 42,
   "id": "2c30aa85",
   "metadata": {},
   "outputs": [
    {
     "name": "stderr",
     "output_type": "stream",
     "text": [
      "C:\\Users\\Abhinav\\AppData\\Local\\Temp\\ipykernel_14848\\2853690472.py:1: FutureWarning: The default value of regex will change from True to False in a future version. In addition, single character regular expressions will *not* be treated as literal strings when regex=True.\n",
      "  df['Age'] =df['Age'].str.replace('_', '').str.replace(']', '').str.replace('[', '')\n"
     ]
    }
   ],
   "source": [
    "df['Age'] =df['Age'].str.replace('_', '').str.replace(']', '').str.replace('[', '')\n",
    "df['Age'] = df['Age'].astype(int)"
   ]
  },
  {
   "cell_type": "code",
   "execution_count": 43,
   "id": "2da3e9a9",
   "metadata": {},
   "outputs": [
    {
     "data": {
      "text/plain": [
       "array([  23, -500,   28, ..., 5586,  326, 7910])"
      ]
     },
     "execution_count": 43,
     "metadata": {},
     "output_type": "execute_result"
    }
   ],
   "source": [
    "df['Age'].unique()"
   ]
  },
  {
   "cell_type": "code",
   "execution_count": 44,
   "id": "b7c66509",
   "metadata": {},
   "outputs": [
    {
     "data": {
      "text/plain": [
       "<seaborn.axisgrid.FacetGrid at 0x1dfa4eb0220>"
      ]
     },
     "execution_count": 44,
     "metadata": {},
     "output_type": "execute_result"
    },
    {
     "data": {
      "image/png": "[encoded data removed]",
      "text/plain": [
       "<Figure size 500x500 with 1 Axes>"
      ]
     },
     "metadata": {},
     "output_type": "display_data"
    }
   ],
   "source": [
    "sns.displot(df['Age'], kde=True)"
   ]
  },
  {
   "cell_type": "markdown",
   "id": "6d2633bc",
   "metadata": {},
   "source": [
    "### Age is below 0 and above 70 thats an issue lets solve it"
   ]
  },
  {
   "cell_type": "code",
   "execution_count": 45,
   "id": "f0bcacc3",
   "metadata": {},
   "outputs": [
    {
     "data": {
      "text/plain": [
       "34.27159983135386"
      ]
     },
     "metadata": {},
     "output_type": "display_data"
    }
   ],
   "source": [
    "display(df[(df['Age'] > 16)& (df['Age'] < 70)]['Age'].mean())"
   ]
  },
  {
   "cell_type": "code",
   "execution_count": 46,
   "id": "61e8554a",
   "metadata": {},
   "outputs": [],
   "source": [
    "mn =df[(df['Age'] > 16)& (df['Age'] < 70)]['Age'].mean()\n",
    "mde =df[(df['Age'] > 16)& (df['Age'] < 70)]['Age'].mode()"
   ]
  },
  {
   "cell_type": "markdown",
   "id": "4800fd84",
   "metadata": {},
   "source": [
    "### randomly filled the wrong age values with values between  mean and mode"
   ]
  },
  {
   "cell_type": "code",
   "execution_count": 47,
   "id": "903dc37c",
   "metadata": {},
   "outputs": [],
   "source": [
    "\n",
    "def age_p (x, mn=mn, mde=mde):\n",
    "    if x < 0 or x > 70:\n",
    "        return np.random.randint(mde,mn+1)\n",
    "    else : return x\n",
    "df['Age'] = df['Age'].apply(age_p)    "
   ]
  },
  {
   "cell_type": "markdown",
   "id": "74e44449",
   "metadata": {},
   "source": [
    "### Age column is cleaned"
   ]
  },
  {
   "cell_type": "markdown",
   "id": "39334184",
   "metadata": {},
   "source": [
    "### data type correction for Month column."
   ]
  },
  {
   "cell_type": "code",
   "execution_count": 48,
   "id": "211e24f8",
   "metadata": {},
   "outputs": [],
   "source": [
    "df['Month'] =df['Month'].replace(to_replace=['January', 'February', 'March', 'April', 'May', 'June', 'July',\n",
    "       'August','September', 'October','November', 'December'],value=[1,2,3,4,5,6,7,8,9,10,11,12])"
   ]
  },
  {
   "cell_type": "markdown",
   "id": "1b7aa8aa",
   "metadata": {},
   "source": [
    "### data type correction for Annual_Income column."
   ]
  },
  {
   "cell_type": "code",
   "execution_count": 49,
   "id": "6fb34007",
   "metadata": {},
   "outputs": [],
   "source": [
    "df['Annual_Income'] =df['Annual_Income'].astype(float)"
   ]
  },
  {
   "cell_type": "markdown",
   "id": "9e8d7532",
   "metadata": {},
   "source": [
    "### data type correction for Monthly_Inhand_Salary column."
   ]
  },
  {
   "cell_type": "code",
   "execution_count": 50,
   "id": "9f4c3039",
   "metadata": {},
   "outputs": [],
   "source": [
    "df['Monthly_Inhand_Salary'] =df['Monthly_Inhand_Salary'].astype(float)"
   ]
  },
  {
   "cell_type": "markdown",
   "id": "5bda8b6e",
   "metadata": {},
   "source": [
    "### data type correction for Num_Bank_Accounts column."
   ]
  },
  {
   "cell_type": "code",
   "execution_count": 51,
   "id": "c59bd7f8",
   "metadata": {},
   "outputs": [
    {
     "data": {
      "text/plain": [
       "array([ 3.,  2.,  1.,  7.,  4.,  0.,  8.,  5.,  6.,  9., 10., -1., 11.])"
      ]
     },
     "execution_count": 51,
     "metadata": {},
     "output_type": "execute_result"
    }
   ],
   "source": [
    "df['Num_Bank_Accounts'].unique()"
   ]
  },
  {
   "cell_type": "markdown",
   "id": "a203a6b2",
   "metadata": {},
   "source": [
    "### data type correction for Num_Bank_Accounts column."
   ]
  },
  {
   "cell_type": "code",
   "execution_count": 52,
   "id": "f5e0e688",
   "metadata": {},
   "outputs": [],
   "source": [
    "df['Num_Bank_Accounts'] = df['Num_Bank_Accounts'].astype(int)\n",
    "df['Num_Bank_Accounts']= df['Num_Bank_Accounts'].replace(to_replace=-1, value=1)"
   ]
  },
  {
   "cell_type": "markdown",
   "id": "066fb341",
   "metadata": {},
   "source": [
    "### data type correction for Num_Credit_Card column."
   ]
  },
  {
   "cell_type": "code",
   "execution_count": 53,
   "id": "618292e3",
   "metadata": {},
   "outputs": [],
   "source": [
    "df['Num_Credit_Card'] =df['Num_Credit_Card'].astype(int)"
   ]
  },
  {
   "cell_type": "markdown",
   "id": "29837668",
   "metadata": {},
   "source": [
    "### data type correction for Interest_Rate column."
   ]
  },
  {
   "cell_type": "code",
   "execution_count": 54,
   "id": "4868dfe5",
   "metadata": {},
   "outputs": [],
   "source": [
    "df['Interest_Rate'] =df['Interest_Rate'].astype(int)"
   ]
  },
  {
   "cell_type": "markdown",
   "id": "f77150b9",
   "metadata": {},
   "source": [
    "### data type correction for Num_of_Loan column."
   ]
  },
  {
   "cell_type": "code",
   "execution_count": 55,
   "id": "cab7b2b3",
   "metadata": {},
   "outputs": [],
   "source": [
    "df['Num_of_Loan'] =df['Num_of_Loan'].transform(lambda x: x.str.replace('_', ''))\n",
    "df['Num_of_Loan'] =df['Num_of_Loan'].astype(int)\n",
    "df['Num_of_Loan'] =df['Num_of_Loan'].replace(to_replace=-100, value=0)"
   ]
  },
  {
   "cell_type": "code",
   "execution_count": 56,
   "id": "c6e77bb8",
   "metadata": {},
   "outputs": [],
   "source": [
    "### data type correction for Delay_from_due_date column."
   ]
  },
  {
   "cell_type": "code",
   "execution_count": 57,
   "id": "fc557647",
   "metadata": {},
   "outputs": [],
   "source": [
    "df['Delay_from_due_date']=df['Delay_from_due_date'].astype(int)"
   ]
  },
  {
   "cell_type": "markdown",
   "id": "797f14df",
   "metadata": {},
   "source": [
    "### data type correction for Num_of_Delayed_Payment column."
   ]
  },
  {
   "cell_type": "code",
   "execution_count": 58,
   "id": "91d3cf78",
   "metadata": {},
   "outputs": [],
   "source": [
    "df['Num_of_Delayed_Payment']= df['Num_of_Delayed_Payment'].transform(lambda x: x.str.replace('_', ''))\n",
    "df['Num_of_Delayed_Payment']= df['Num_of_Delayed_Payment'].astype(int)\n",
    "df['Num_of_Delayed_Payment']= df['Num_of_Delayed_Payment'].replace(to_replace=[-1,-2,-3,-4,-5], value=0)"
   ]
  },
  {
   "cell_type": "markdown",
   "id": "17ed3c1a",
   "metadata": {},
   "source": [
    "### data type correction for Changed_Credit_Limit column."
   ]
  },
  {
   "cell_type": "code",
   "execution_count": 59,
   "id": "41b05955",
   "metadata": {},
   "outputs": [],
   "source": [
    "df['Changed_Credit_Limit']=df['Changed_Credit_Limit'].transform(lambda x: x.str.replace('_', '0'))\n",
    "df['Changed_Credit_Limit']=df['Changed_Credit_Limit'].astype(float)"
   ]
  },
  {
   "cell_type": "markdown",
   "id": "4febb4e0",
   "metadata": {},
   "source": [
    "### data type correction for Num_Credit_Inquiries column."
   ]
  },
  {
   "cell_type": "code",
   "execution_count": 60,
   "id": "e725cef2",
   "metadata": {
    "scrolled": false
   },
   "outputs": [],
   "source": [
    "df['Num_Credit_Inquiries']=df['Num_Credit_Inquiries'].astype(int)"
   ]
  },
  {
   "cell_type": "markdown",
   "id": "14b63c04",
   "metadata": {},
   "source": [
    "### data type correction for Outstanding_Debt column."
   ]
  },
  {
   "cell_type": "code",
   "execution_count": 61,
   "id": "76f23afd",
   "metadata": {},
   "outputs": [],
   "source": [
    "df['Outstanding_Debt']=df['Outstanding_Debt'].astype(float)"
   ]
  },
  {
   "cell_type": "markdown",
   "id": "9870ce5d",
   "metadata": {},
   "source": [
    "### data type correction for Credit_Utilization_Ratio column."
   ]
  },
  {
   "cell_type": "code",
   "execution_count": 62,
   "id": "74381135",
   "metadata": {},
   "outputs": [],
   "source": [
    "df['Credit_Utilization_Ratio']=df['Credit_Utilization_Ratio'].astype(float)"
   ]
  },
  {
   "cell_type": "markdown",
   "id": "383fc165",
   "metadata": {},
   "source": [
    "### data type correction for Credit_History_Age column."
   ]
  },
  {
   "cell_type": "code",
   "execution_count": 63,
   "id": "71ea2422",
   "metadata": {},
   "outputs": [],
   "source": [
    "df['Credit_History_Age'] = df.Credit_History_Age.str.split(' ').str[0].astype(int)+df.Credit_History_Age.str.split(' ').str[3].astype('int')/12\n",
    "df['Credit_History_Age'] = df['Credit_History_Age'].round(2)"
   ]
  },
  {
   "cell_type": "markdown",
   "id": "5bc815e2",
   "metadata": {},
   "source": [
    "### data type correction for Total_EMI_per_month column."
   ]
  },
  {
   "cell_type": "code",
   "execution_count": 64,
   "id": "c1fa7bc9",
   "metadata": {},
   "outputs": [],
   "source": [
    "df['Total_EMI_per_month']=df['Total_EMI_per_month'].astype(float)"
   ]
  },
  {
   "cell_type": "markdown",
   "id": "a333a5a3",
   "metadata": {},
   "source": [
    "### data type correction for Amount_invested_monthly column."
   ]
  },
  {
   "cell_type": "code",
   "execution_count": 65,
   "id": "54849ee7",
   "metadata": {},
   "outputs": [],
   "source": [
    "df['Amount_invested_monthly']=df['Amount_invested_monthly'].transform(lambda x: x.str.replace('_', ''))\n",
    "df['Amount_invested_monthly']=df['Amount_invested_monthly'].astype(float)"
   ]
  },
  {
   "cell_type": "markdown",
   "id": "e9be345a",
   "metadata": {},
   "source": [
    "### data type correction for Monthly_Balance column."
   ]
  },
  {
   "cell_type": "code",
   "execution_count": 66,
   "id": "7c31b365",
   "metadata": {},
   "outputs": [],
   "source": [
    "df['Monthly_Balance']=df['Monthly_Balance'].astype(float)"
   ]
  },
  {
   "cell_type": "code",
   "execution_count": 67,
   "id": "4db44efd",
   "metadata": {},
   "outputs": [
    {
     "name": "stderr",
     "output_type": "stream",
     "text": [
      "C:\\Users\\Abhinav\\AppData\\Local\\Temp\\ipykernel_14848\\135562111.py:1: FutureWarning: Indexing with multiple keys (implicitly converted to a tuple of keys) will be deprecated, use a list instead.\n",
      "  df.groupby('Payment_Behaviour')['Monthly_Balance','Num_Bank_Accounts','Num_Credit_Card','Interest_Rate','Num_of_Loan','Total_EMI_per_month'].mean().reset_index()\n"
     ]
    },
    {
     "data": {
      "text/html": [
       "<div>\n",
       "<style scoped>\n",
       "    .dataframe tbody tr th:only-of-type {\n",
       "        vertical-align: middle;\n",
       "    }\n",
       "\n",
       "    .dataframe tbody tr th {\n",
       "        vertical-align: top;\n",
       "    }\n",
       "\n",
       "    .dataframe thead th {\n",
       "        text-align: right;\n",
       "    }\n",
       "</style>\n",
       "<table border=\"1\" class=\"dataframe\">\n",
       "  <thead>\n",
       "    <tr style=\"text-align: right;\">\n",
       "      <th></th>\n",
       "      <th>Payment_Behaviour</th>\n",
       "      <th>Monthly_Balance</th>\n",
       "      <th>Num_Bank_Accounts</th>\n",
       "      <th>Num_Credit_Card</th>\n",
       "      <th>Interest_Rate</th>\n",
       "      <th>Num_of_Loan</th>\n",
       "      <th>Total_EMI_per_month</th>\n",
       "    </tr>\n",
       "  </thead>\n",
       "  <tbody>\n",
       "    <tr>\n",
       "      <th>0</th>\n",
       "      <td>!@9#%8</td>\n",
       "      <td>282.393872</td>\n",
       "      <td>5.332688</td>\n",
       "      <td>5.565921</td>\n",
       "      <td>13.795459</td>\n",
       "      <td>3.443584</td>\n",
       "      <td>125.956165</td>\n",
       "    </tr>\n",
       "    <tr>\n",
       "      <th>1</th>\n",
       "      <td>High_spent_Large_value_payments</td>\n",
       "      <td>386.115682</td>\n",
       "      <td>4.626304</td>\n",
       "      <td>5.078178</td>\n",
       "      <td>11.824233</td>\n",
       "      <td>2.936724</td>\n",
       "      <td>177.183449</td>\n",
       "    </tr>\n",
       "    <tr>\n",
       "      <th>2</th>\n",
       "      <td>High_spent_Medium_value_payments</td>\n",
       "      <td>256.272760</td>\n",
       "      <td>5.242061</td>\n",
       "      <td>5.440504</td>\n",
       "      <td>14.186986</td>\n",
       "      <td>3.409091</td>\n",
       "      <td>130.383466</td>\n",
       "    </tr>\n",
       "    <tr>\n",
       "      <th>3</th>\n",
       "      <td>High_spent_Small_value_payments</td>\n",
       "      <td>243.515278</td>\n",
       "      <td>5.410878</td>\n",
       "      <td>5.620483</td>\n",
       "      <td>14.472743</td>\n",
       "      <td>3.483033</td>\n",
       "      <td>103.556519</td>\n",
       "    </tr>\n",
       "    <tr>\n",
       "      <th>4</th>\n",
       "      <td>Low_spent_Large_value_payments</td>\n",
       "      <td>243.895742</td>\n",
       "      <td>5.411915</td>\n",
       "      <td>5.419437</td>\n",
       "      <td>14.000000</td>\n",
       "      <td>3.383331</td>\n",
       "      <td>91.519128</td>\n",
       "    </tr>\n",
       "    <tr>\n",
       "      <th>5</th>\n",
       "      <td>Low_spent_Medium_value_payments</td>\n",
       "      <td>322.229819</td>\n",
       "      <td>5.206204</td>\n",
       "      <td>5.392602</td>\n",
       "      <td>14.047391</td>\n",
       "      <td>3.374423</td>\n",
       "      <td>121.110690</td>\n",
       "    </tr>\n",
       "    <tr>\n",
       "      <th>6</th>\n",
       "      <td>Low_spent_Small_value_payments</td>\n",
       "      <td>213.821398</td>\n",
       "      <td>5.920819</td>\n",
       "      <td>5.891420</td>\n",
       "      <td>16.626565</td>\n",
       "      <td>4.048828</td>\n",
       "      <td>62.203774</td>\n",
       "    </tr>\n",
       "  </tbody>\n",
       "</table>\n",
       "</div>"
      ],
      "text/plain": [
       "                  Payment_Behaviour  Monthly_Balance  Num_Bank_Accounts  \\\n",
       "0                            !@9#%8       282.393872           5.332688   \n",
       "1   High_spent_Large_value_payments       386.115682           4.626304   \n",
       "2  High_spent_Medium_value_payments       256.272760           5.242061   \n",
       "3   High_spent_Small_value_payments       243.515278           5.410878   \n",
       "4    Low_spent_Large_value_payments       243.895742           5.411915   \n",
       "5   Low_spent_Medium_value_payments       322.229819           5.206204   \n",
       "6    Low_spent_Small_value_payments       213.821398           5.920819   \n",
       "\n",
       "   Num_Credit_Card  Interest_Rate  Num_of_Loan  Total_EMI_per_month  \n",
       "0         5.565921      13.795459     3.443584           125.956165  \n",
       "1         5.078178      11.824233     2.936724           177.183449  \n",
       "2         5.440504      14.186986     3.409091           130.383466  \n",
       "3         5.620483      14.472743     3.483033           103.556519  \n",
       "4         5.419437      14.000000     3.383331            91.519128  \n",
       "5         5.392602      14.047391     3.374423           121.110690  \n",
       "6         5.891420      16.626565     4.048828            62.203774  "
      ]
     },
     "execution_count": 67,
     "metadata": {},
     "output_type": "execute_result"
    }
   ],
   "source": [
    "df.groupby('Payment_Behaviour')['Monthly_Balance','Num_Bank_Accounts','Num_Credit_Card','Interest_Rate','Num_of_Loan','Total_EMI_per_month'].mean().reset_index()"
   ]
  },
  {
   "cell_type": "markdown",
   "id": "c2473f72",
   "metadata": {},
   "source": [
    "### Based on the above values we can say that !@9#%8 is actually is High_spent_Medium_value_payments"
   ]
  },
  {
   "cell_type": "code",
   "execution_count": 68,
   "id": "6e111a3c",
   "metadata": {},
   "outputs": [],
   "source": [
    "df['Payment_Behaviour']=df['Payment_Behaviour'].transform(lambda x: x.str.replace('!@9#%8', 'High_spent_Medium_value_payments'))"
   ]
  },
  {
   "cell_type": "markdown",
   "id": "7eba9da8",
   "metadata": {},
   "source": [
    "### Dropping temperory columns "
   ]
  },
  {
   "cell_type": "code",
   "execution_count": 69,
   "id": "b6c90703",
   "metadata": {},
   "outputs": [],
   "source": [
    "df.drop(['naan', 'naanoc', 'Loan'], axis=1,inplace=True)"
   ]
  },
  {
   "cell_type": "markdown",
   "id": "2a28d1a8",
   "metadata": {},
   "source": [
    "### Spilling into train and test datasets"
   ]
  },
  {
   "cell_type": "code",
   "execution_count": 70,
   "id": "fdb19790",
   "metadata": {},
   "outputs": [],
   "source": [
    "train = df.iloc[:89930,:]\n",
    "test =  df.iloc[89930:,:-1]"
   ]
  },
  {
   "cell_type": "markdown",
   "id": "217b19b9",
   "metadata": {},
   "source": [
    "### Saving datasets as train_cleaned.csv and test_cleaned.csv"
   ]
  },
  {
   "cell_type": "code",
   "execution_count": 71,
   "id": "c1d4027d",
   "metadata": {},
   "outputs": [],
   "source": [
    "train.to_csv('train_cleaned.csv', index=False)\n",
    "test.to_csv('test_cleaned.csv', index=False)"
   ]
  },
  {
   "cell_type": "code",
   "execution_count": null,
   "id": "a5abde53",
   "metadata": {},
   "outputs": [],
   "source": []
  }
 ],
 "metadata": {
  "kernelspec": {
   "display_name": "Python 3 (ipykernel)",
   "language": "python",
   "name": "python3"
  },
  "language_info": {
   "codemirror_mode": {
    "name": "ipython",
    "version": 3
   },
   "file_extension": ".py",
   "mimetype": "text/x-python",
   "name": "python",
   "nbconvert_exporter": "python",
   "pygments_lexer": "ipython3",
   "version": "3.9.11"
  }
 },
 "nbformat": 4,
 "nbformat_minor": 5
}
