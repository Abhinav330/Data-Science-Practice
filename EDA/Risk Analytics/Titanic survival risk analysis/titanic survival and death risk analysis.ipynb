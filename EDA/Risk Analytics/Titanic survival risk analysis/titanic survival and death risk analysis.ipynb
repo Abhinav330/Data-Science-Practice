{
 "cells": [
  {
   "cell_type": "markdown",
   "metadata": {},
   "source": [
    "**Titanic Dataset Good Scoring = Simple Data Cleaning + Simple Feature Engineering + Ensemble model**\n",
    "\n",
    "I am begineer trying to understand This dataset from basic level. If you are a begineer it can also help you."
   ]
  },
  {
   "cell_type": "markdown",
   "metadata": {},
   "source": [
    "## Importing All necesery Liberaries"
   ]
  },
  {
   "cell_type": "code",
   "execution_count": 1,
   "metadata": {
    "execution": {
     "iopub.execute_input": "2023-03-02T08:16:23.006951Z",
     "iopub.status.busy": "2023-03-02T08:16:23.006519Z",
     "iopub.status.idle": "2023-03-02T08:16:23.757582Z",
     "shell.execute_reply": "2023-03-02T08:16:23.756123Z",
     "shell.execute_reply.started": "2023-03-02T08:16:23.006914Z"
    }
   },
   "outputs": [],
   "source": [
    "import numpy as np\n",
    "import pandas as pd\n",
    "import matplotlib.pyplot as plt\n",
    "import seaborn as sns\n",
    "import warnings\n",
    "warnings.filterwarnings('ignore')\n",
    "%matplotlib inline"
   ]
  },
  {
   "cell_type": "markdown",
   "metadata": {},
   "source": [
    "## Loading Datasets"
   ]
  },
  {
   "cell_type": "code",
   "execution_count": 2,
   "metadata": {
    "execution": {
     "iopub.execute_input": "2023-03-02T08:16:25.574935Z",
     "iopub.status.busy": "2023-03-02T08:16:25.574501Z",
     "iopub.status.idle": "2023-03-02T08:16:25.606914Z",
     "shell.execute_reply": "2023-03-02T08:16:25.605667Z",
     "shell.execute_reply.started": "2023-03-02T08:16:25.574898Z"
    }
   },
   "outputs": [],
   "source": [
    "train_df = pd.read_csv('train.csv')\n",
    "test_original = pd.read_csv('test.csv')\n",
    "test_df = test_original.copy()"
   ]
  },
  {
   "cell_type": "code",
   "execution_count": 3,
   "metadata": {
    "execution": {
     "iopub.execute_input": "2023-03-02T08:16:25.852382Z",
     "iopub.status.busy": "2023-03-02T08:16:25.851962Z",
     "iopub.status.idle": "2023-03-02T08:16:25.872246Z",
     "shell.execute_reply": "2023-03-02T08:16:25.870934Z",
     "shell.execute_reply.started": "2023-03-02T08:16:25.852347Z"
    }
   },
   "outputs": [],
   "source": [
    "df = pd.concat([train_df,test_df], axis = 0)"
   ]
  },
  {
   "cell_type": "code",
   "execution_count": 4,
   "metadata": {
    "execution": {
     "iopub.execute_input": "2023-03-02T08:16:26.090945Z",
     "iopub.status.busy": "2023-03-02T08:16:26.090500Z",
     "iopub.status.idle": "2023-03-02T08:16:26.116793Z",
     "shell.execute_reply": "2023-03-02T08:16:26.115479Z",
     "shell.execute_reply.started": "2023-03-02T08:16:26.090905Z"
    }
   },
   "outputs": [
    {
     "name": "stdout",
     "output_type": "stream",
     "text": [
      "<class 'pandas.core.frame.DataFrame'>\n",
      "Int64Index: 1309 entries, 0 to 417\n",
      "Data columns (total 12 columns):\n",
      " #   Column       Non-Null Count  Dtype  \n",
      "---  ------       --------------  -----  \n",
      " 0   PassengerId  1309 non-null   int64  \n",
      " 1   Survived     891 non-null    float64\n",
      " 2   Pclass       1309 non-null   int64  \n",
      " 3   Name         1309 non-null   object \n",
      " 4   Sex          1309 non-null   object \n",
      " 5   Age          1046 non-null   float64\n",
      " 6   SibSp        1309 non-null   int64  \n",
      " 7   Parch        1309 non-null   int64  \n",
      " 8   Ticket       1309 non-null   object \n",
      " 9   Fare         1308 non-null   float64\n",
      " 10  Cabin        295 non-null    object \n",
      " 11  Embarked     1307 non-null   object \n",
      "dtypes: float64(3), int64(4), object(5)\n",
      "memory usage: 132.9+ KB\n"
     ]
    }
   ],
   "source": [
    "df.info()"
   ]
  },
  {
   "cell_type": "markdown",
   "metadata": {},
   "source": [
    "## Insights:\n",
    "- we got 11 features to predict Survived or not survived Label.\n",
    "- PassengerID is Primary key : unique for each entry so of no use. \n",
    "- Numerical columns: 5 \n",
    "- Sting columns: 5\n",
    "- Continous data: Age and Fare \n",
    "- Categorical Data: Pclass,Sibsp,Parch, Embarked.\n",
    "- Categorical String Data: Sex, Embarked.\n",
    "- String Data: Name, Ticket, Cabin."
   ]
  },
  {
   "cell_type": "markdown",
   "metadata": {},
   "source": [
    "## Missing Values analysis"
   ]
  },
  {
   "cell_type": "code",
   "execution_count": 5,
   "metadata": {
    "execution": {
     "iopub.execute_input": "2023-03-02T08:16:26.702534Z",
     "iopub.status.busy": "2023-03-02T08:16:26.702099Z",
     "iopub.status.idle": "2023-03-02T08:16:26.715078Z",
     "shell.execute_reply": "2023-03-02T08:16:26.713979Z",
     "shell.execute_reply.started": "2023-03-02T08:16:26.702492Z"
    }
   },
   "outputs": [
    {
     "data": {
      "text/plain": [
       "PassengerId       0\n",
       "Survived        418\n",
       "Pclass            0\n",
       "Name              0\n",
       "Sex               0\n",
       "Age             263\n",
       "SibSp             0\n",
       "Parch             0\n",
       "Ticket            0\n",
       "Fare              1\n",
       "Cabin          1014\n",
       "Embarked          2\n",
       "dtype: int64"
      ]
     },
     "execution_count": 5,
     "metadata": {},
     "output_type": "execute_result"
    }
   ],
   "source": [
    "pd.isnull(df).sum()"
   ]
  },
  {
   "cell_type": "markdown",
   "metadata": {},
   "source": [
    "# Visuals"
   ]
  },
  {
   "cell_type": "code",
   "execution_count": 6,
   "metadata": {
    "execution": {
     "iopub.execute_input": "2023-03-02T08:16:27.079229Z",
     "iopub.status.busy": "2023-03-02T08:16:27.078130Z",
     "iopub.status.idle": "2023-03-02T08:16:27.353188Z",
     "shell.execute_reply": "2023-03-02T08:16:27.351863Z",
     "shell.execute_reply.started": "2023-03-02T08:16:27.079185Z"
    }
   },
   "outputs": [
    {
     "data": {
      "text/plain": [
       "<Axes: >"
      ]
     },
     "execution_count": 6,
     "metadata": {},
     "output_type": "execute_result"
    },
    {
     "data": {
      "image/png": "[encoded data removed]",
      "text/plain": [
       "<Figure size 500x300 with 1 Axes>"
      ]
     },
     "metadata": {},
     "output_type": "display_data"
    }
   ],
   "source": [
    "plt.figure(figsize=(5,3))\n",
    "sns.heatmap(df.isnull(), yticklabels=False, cbar=False, cmap='viridis')"
   ]
  },
  {
   "cell_type": "markdown",
   "metadata": {},
   "source": [
    "## Insights:\n",
    "- Survived column have missing values for test dataset.\n",
    "- Age Column have lots of missing values.\n",
    "- 1 missing value for Fair.\n",
    "- 2 missing values for Embarked."
   ]
  },
  {
   "cell_type": "markdown",
   "metadata": {},
   "source": [
    "### We will do oulier analysis on Continous data : Age and Fare column.\n",
    "- Age got multiple missing values so if it will be perfectly distributed then we can use groupby methord to generalise and fill missing values on that basis.\n",
    "- Fare should be chaecked beacaue there can be some outliers which can harm our ML model."
   ]
  },
  {
   "cell_type": "markdown",
   "metadata": {},
   "source": [
    "## Outlier analysis:"
   ]
  },
  {
   "cell_type": "code",
   "execution_count": 7,
   "metadata": {
    "execution": {
     "iopub.execute_input": "2023-03-02T08:16:27.856710Z",
     "iopub.status.busy": "2023-03-02T08:16:27.855591Z",
     "iopub.status.idle": "2023-03-02T08:16:28.144427Z",
     "shell.execute_reply": "2023-03-02T08:16:28.143099Z",
     "shell.execute_reply.started": "2023-03-02T08:16:27.856635Z"
    }
   },
   "outputs": [
    {
     "data": {
      "text/plain": [
       "<Axes: xlabel='Age', ylabel='Density'>"
      ]
     },
     "execution_count": 7,
     "metadata": {},
     "output_type": "execute_result"
    },
    {
     "data": {
      "image/png": "[encoded data removed]",
      "text/plain": [
       "<Figure size 640x480 with 1 Axes>"
      ]
     },
     "metadata": {},
     "output_type": "display_data"
    }
   ],
   "source": [
    "sns.distplot(df['Age'])"
   ]
  },
  {
   "cell_type": "markdown",
   "metadata": {},
   "source": [
    "# Insights:\n",
    "- Age column have good distribution.\n",
    "- We gets a perfect bell like shape so its good."
   ]
  },
  {
   "cell_type": "code",
   "execution_count": 8,
   "metadata": {
    "execution": {
     "iopub.execute_input": "2023-03-02T08:16:28.259035Z",
     "iopub.status.busy": "2023-03-02T08:16:28.258582Z",
     "iopub.status.idle": "2023-03-02T08:16:28.608214Z",
     "shell.execute_reply": "2023-03-02T08:16:28.606722Z",
     "shell.execute_reply.started": "2023-03-02T08:16:28.258981Z"
    }
   },
   "outputs": [
    {
     "data": {
      "text/plain": [
       "<Axes: xlabel='Fare', ylabel='Density'>"
      ]
     },
     "execution_count": 8,
     "metadata": {},
     "output_type": "execute_result"
    },
    {
     "data": {
      "image/png": "[encoded data removed]",
      "text/plain": [
       "<Figure size 640x480 with 1 Axes>"
      ]
     },
     "metadata": {},
     "output_type": "display_data"
    }
   ],
   "source": [
    "sns.distplot(df['Fare'])"
   ]
  },
  {
   "cell_type": "markdown",
   "metadata": {},
   "source": [
    "## Insights:\n",
    "- There are outliers on upper as well as lower side.\n",
    "- For upper side we can clearly see that there are outliers above 250\n",
    "- lets check our dataframe to understand this in better way."
   ]
  },
  {
   "cell_type": "code",
   "execution_count": 9,
   "metadata": {
    "execution": {
     "iopub.execute_input": "2023-03-02T08:16:28.681773Z",
     "iopub.status.busy": "2023-03-02T08:16:28.681310Z",
     "iopub.status.idle": "2023-03-02T08:16:28.719716Z",
     "shell.execute_reply": "2023-03-02T08:16:28.718352Z",
     "shell.execute_reply.started": "2023-03-02T08:16:28.681728Z"
    }
   },
   "outputs": [
    {
     "data": {
      "text/html": [
       "<div>\n",
       "<style scoped>\n",
       "    .dataframe tbody tr th:only-of-type {\n",
       "        vertical-align: middle;\n",
       "    }\n",
       "\n",
       "    .dataframe tbody tr th {\n",
       "        vertical-align: top;\n",
       "    }\n",
       "\n",
       "    .dataframe thead th {\n",
       "        text-align: right;\n",
       "    }\n",
       "</style>\n",
       "<table border=\"1\" class=\"dataframe\">\n",
       "  <thead>\n",
       "    <tr style=\"text-align: right;\">\n",
       "      <th></th>\n",
       "      <th>PassengerId</th>\n",
       "      <th>Survived</th>\n",
       "      <th>Pclass</th>\n",
       "      <th>Name</th>\n",
       "      <th>Sex</th>\n",
       "      <th>Age</th>\n",
       "      <th>SibSp</th>\n",
       "      <th>Parch</th>\n",
       "      <th>Ticket</th>\n",
       "      <th>Fare</th>\n",
       "      <th>Cabin</th>\n",
       "      <th>Embarked</th>\n",
       "    </tr>\n",
       "  </thead>\n",
       "  <tbody>\n",
       "    <tr>\n",
       "      <th>258</th>\n",
       "      <td>259</td>\n",
       "      <td>1.0</td>\n",
       "      <td>1</td>\n",
       "      <td>Ward, Miss. Anna</td>\n",
       "      <td>female</td>\n",
       "      <td>35.0</td>\n",
       "      <td>0</td>\n",
       "      <td>0</td>\n",
       "      <td>PC 17755</td>\n",
       "      <td>512.3292</td>\n",
       "      <td>NaN</td>\n",
       "      <td>C</td>\n",
       "    </tr>\n",
       "    <tr>\n",
       "      <th>679</th>\n",
       "      <td>680</td>\n",
       "      <td>1.0</td>\n",
       "      <td>1</td>\n",
       "      <td>Cardeza, Mr. Thomas Drake Martinez</td>\n",
       "      <td>male</td>\n",
       "      <td>36.0</td>\n",
       "      <td>0</td>\n",
       "      <td>1</td>\n",
       "      <td>PC 17755</td>\n",
       "      <td>512.3292</td>\n",
       "      <td>B51 B53 B55</td>\n",
       "      <td>C</td>\n",
       "    </tr>\n",
       "    <tr>\n",
       "      <th>737</th>\n",
       "      <td>738</td>\n",
       "      <td>1.0</td>\n",
       "      <td>1</td>\n",
       "      <td>Lesurer, Mr. Gustave J</td>\n",
       "      <td>male</td>\n",
       "      <td>35.0</td>\n",
       "      <td>0</td>\n",
       "      <td>0</td>\n",
       "      <td>PC 17755</td>\n",
       "      <td>512.3292</td>\n",
       "      <td>B101</td>\n",
       "      <td>C</td>\n",
       "    </tr>\n",
       "    <tr>\n",
       "      <th>343</th>\n",
       "      <td>1235</td>\n",
       "      <td>NaN</td>\n",
       "      <td>1</td>\n",
       "      <td>Cardeza, Mrs. James Warburton Martinez (Charlo...</td>\n",
       "      <td>female</td>\n",
       "      <td>58.0</td>\n",
       "      <td>0</td>\n",
       "      <td>1</td>\n",
       "      <td>PC 17755</td>\n",
       "      <td>512.3292</td>\n",
       "      <td>B51 B53 B55</td>\n",
       "      <td>C</td>\n",
       "    </tr>\n",
       "  </tbody>\n",
       "</table>\n",
       "</div>"
      ],
      "text/plain": [
       "     PassengerId  Survived  Pclass  \\\n",
       "258          259       1.0       1   \n",
       "679          680       1.0       1   \n",
       "737          738       1.0       1   \n",
       "343         1235       NaN       1   \n",
       "\n",
       "                                                  Name     Sex   Age  SibSp  \\\n",
       "258                                   Ward, Miss. Anna  female  35.0      0   \n",
       "679                 Cardeza, Mr. Thomas Drake Martinez    male  36.0      0   \n",
       "737                             Lesurer, Mr. Gustave J    male  35.0      0   \n",
       "343  Cardeza, Mrs. James Warburton Martinez (Charlo...  female  58.0      0   \n",
       "\n",
       "     Parch    Ticket      Fare        Cabin Embarked  \n",
       "258      0  PC 17755  512.3292          NaN        C  \n",
       "679      1  PC 17755  512.3292  B51 B53 B55        C  \n",
       "737      0  PC 17755  512.3292         B101        C  \n",
       "343      1  PC 17755  512.3292  B51 B53 B55        C  "
      ]
     },
     "execution_count": 9,
     "metadata": {},
     "output_type": "execute_result"
    }
   ],
   "source": [
    "df[df['Fare']>500]"
   ]
  },
  {
   "cell_type": "markdown",
   "metadata": {},
   "source": [
    "aah Fair is same for all the people traveling together.\n",
    "<br>\n",
    "## Create a new Feature to store Price. \n",
    "- Price will be Fare divided by count of people having same ticket "
   ]
  },
  {
   "cell_type": "code",
   "execution_count": 10,
   "metadata": {
    "execution": {
     "iopub.execute_input": "2023-03-02T08:17:07.873703Z",
     "iopub.status.busy": "2023-03-02T08:17:07.872742Z",
     "iopub.status.idle": "2023-03-02T08:17:07.900729Z",
     "shell.execute_reply": "2023-03-02T08:17:07.899626Z",
     "shell.execute_reply.started": "2023-03-02T08:17:07.873657Z"
    }
   },
   "outputs": [
    {
     "data": {
      "text/html": [
       "<div>\n",
       "<style scoped>\n",
       "    .dataframe tbody tr th:only-of-type {\n",
       "        vertical-align: middle;\n",
       "    }\n",
       "\n",
       "    .dataframe tbody tr th {\n",
       "        vertical-align: top;\n",
       "    }\n",
       "\n",
       "    .dataframe thead th {\n",
       "        text-align: right;\n",
       "    }\n",
       "</style>\n",
       "<table border=\"1\" class=\"dataframe\">\n",
       "  <thead>\n",
       "    <tr style=\"text-align: right;\">\n",
       "      <th></th>\n",
       "      <th>Ticket</th>\n",
       "      <th>Fare</th>\n",
       "      <th>Ticket_Count</th>\n",
       "      <th>Price</th>\n",
       "    </tr>\n",
       "  </thead>\n",
       "  <tbody>\n",
       "    <tr>\n",
       "      <th>0</th>\n",
       "      <td>CA. 2343</td>\n",
       "      <td>69.5500</td>\n",
       "      <td>11</td>\n",
       "      <td>6.322727</td>\n",
       "    </tr>\n",
       "    <tr>\n",
       "      <th>1</th>\n",
       "      <td>1601</td>\n",
       "      <td>56.4958</td>\n",
       "      <td>8</td>\n",
       "      <td>7.061975</td>\n",
       "    </tr>\n",
       "    <tr>\n",
       "      <th>2</th>\n",
       "      <td>CA 2144</td>\n",
       "      <td>46.9000</td>\n",
       "      <td>8</td>\n",
       "      <td>5.862500</td>\n",
       "    </tr>\n",
       "    <tr>\n",
       "      <th>3</th>\n",
       "      <td>3101295</td>\n",
       "      <td>39.6875</td>\n",
       "      <td>7</td>\n",
       "      <td>5.669643</td>\n",
       "    </tr>\n",
       "    <tr>\n",
       "      <th>4</th>\n",
       "      <td>347077</td>\n",
       "      <td>31.3875</td>\n",
       "      <td>7</td>\n",
       "      <td>4.483929</td>\n",
       "    </tr>\n",
       "    <tr>\n",
       "      <th>...</th>\n",
       "      <td>...</td>\n",
       "      <td>...</td>\n",
       "      <td>...</td>\n",
       "      <td>...</td>\n",
       "    </tr>\n",
       "    <tr>\n",
       "      <th>924</th>\n",
       "      <td>342826</td>\n",
       "      <td>8.0500</td>\n",
       "      <td>1</td>\n",
       "      <td>8.050000</td>\n",
       "    </tr>\n",
       "    <tr>\n",
       "      <th>925</th>\n",
       "      <td>343095</td>\n",
       "      <td>8.0500</td>\n",
       "      <td>1</td>\n",
       "      <td>8.050000</td>\n",
       "    </tr>\n",
       "    <tr>\n",
       "      <th>926</th>\n",
       "      <td>343120</td>\n",
       "      <td>7.6500</td>\n",
       "      <td>1</td>\n",
       "      <td>7.650000</td>\n",
       "    </tr>\n",
       "    <tr>\n",
       "      <th>927</th>\n",
       "      <td>343271</td>\n",
       "      <td>7.0000</td>\n",
       "      <td>1</td>\n",
       "      <td>7.000000</td>\n",
       "    </tr>\n",
       "    <tr>\n",
       "      <th>928</th>\n",
       "      <td>349223</td>\n",
       "      <td>7.8958</td>\n",
       "      <td>1</td>\n",
       "      <td>7.895800</td>\n",
       "    </tr>\n",
       "  </tbody>\n",
       "</table>\n",
       "<p>929 rows × 4 columns</p>\n",
       "</div>"
      ],
      "text/plain": [
       "       Ticket     Fare  Ticket_Count     Price\n",
       "0    CA. 2343  69.5500            11  6.322727\n",
       "1        1601  56.4958             8  7.061975\n",
       "2     CA 2144  46.9000             8  5.862500\n",
       "3     3101295  39.6875             7  5.669643\n",
       "4      347077  31.3875             7  4.483929\n",
       "..        ...      ...           ...       ...\n",
       "924    342826   8.0500             1  8.050000\n",
       "925    343095   8.0500             1  8.050000\n",
       "926    343120   7.6500             1  7.650000\n",
       "927    343271   7.0000             1  7.000000\n",
       "928    349223   7.8958             1  7.895800\n",
       "\n",
       "[929 rows x 4 columns]"
      ]
     },
     "execution_count": 10,
     "metadata": {},
     "output_type": "execute_result"
    }
   ],
   "source": [
    "temp_df = df[['Ticket','Fare']].value_counts().reset_index()\n",
    "temp_df['Price'] = temp_df['Fare']/temp_df[0]\n",
    "temp_df.rename(columns={0:'Ticket_Count'},inplace=True)\n",
    "temp_df"
   ]
  },
  {
   "cell_type": "markdown",
   "metadata": {},
   "source": [
    "- Now we have ticket count as well as Price for each ticket. \n",
    "- Now I will do left join on both the tables on Ticket and Fare."
   ]
  },
  {
   "cell_type": "code",
   "execution_count": 11,
   "metadata": {
    "execution": {
     "iopub.execute_input": "2023-03-02T08:17:09.757648Z",
     "iopub.status.busy": "2023-03-02T08:17:09.757259Z",
     "iopub.status.idle": "2023-03-02T08:17:09.793105Z",
     "shell.execute_reply": "2023-03-02T08:17:09.791924Z",
     "shell.execute_reply.started": "2023-03-02T08:17:09.757614Z"
    }
   },
   "outputs": [
    {
     "data": {
      "text/html": [
       "<div>\n",
       "<style scoped>\n",
       "    .dataframe tbody tr th:only-of-type {\n",
       "        vertical-align: middle;\n",
       "    }\n",
       "\n",
       "    .dataframe tbody tr th {\n",
       "        vertical-align: top;\n",
       "    }\n",
       "\n",
       "    .dataframe thead th {\n",
       "        text-align: right;\n",
       "    }\n",
       "</style>\n",
       "<table border=\"1\" class=\"dataframe\">\n",
       "  <thead>\n",
       "    <tr style=\"text-align: right;\">\n",
       "      <th></th>\n",
       "      <th>PassengerId</th>\n",
       "      <th>Survived</th>\n",
       "      <th>Pclass</th>\n",
       "      <th>Name</th>\n",
       "      <th>Sex</th>\n",
       "      <th>Age</th>\n",
       "      <th>SibSp</th>\n",
       "      <th>Parch</th>\n",
       "      <th>Ticket</th>\n",
       "      <th>Fare</th>\n",
       "      <th>Cabin</th>\n",
       "      <th>Embarked</th>\n",
       "      <th>Ticket_Count</th>\n",
       "      <th>Price</th>\n",
       "    </tr>\n",
       "  </thead>\n",
       "  <tbody>\n",
       "    <tr>\n",
       "      <th>0</th>\n",
       "      <td>1</td>\n",
       "      <td>0.0</td>\n",
       "      <td>3</td>\n",
       "      <td>Braund, Mr. Owen Harris</td>\n",
       "      <td>male</td>\n",
       "      <td>22.0</td>\n",
       "      <td>1</td>\n",
       "      <td>0</td>\n",
       "      <td>A/5 21171</td>\n",
       "      <td>7.2500</td>\n",
       "      <td>NaN</td>\n",
       "      <td>S</td>\n",
       "      <td>1.0</td>\n",
       "      <td>7.250000</td>\n",
       "    </tr>\n",
       "    <tr>\n",
       "      <th>1</th>\n",
       "      <td>2</td>\n",
       "      <td>1.0</td>\n",
       "      <td>1</td>\n",
       "      <td>Cumings, Mrs. John Bradley (Florence Briggs Th...</td>\n",
       "      <td>female</td>\n",
       "      <td>38.0</td>\n",
       "      <td>1</td>\n",
       "      <td>0</td>\n",
       "      <td>PC 17599</td>\n",
       "      <td>71.2833</td>\n",
       "      <td>C85</td>\n",
       "      <td>C</td>\n",
       "      <td>2.0</td>\n",
       "      <td>35.641650</td>\n",
       "    </tr>\n",
       "    <tr>\n",
       "      <th>2</th>\n",
       "      <td>3</td>\n",
       "      <td>1.0</td>\n",
       "      <td>3</td>\n",
       "      <td>Heikkinen, Miss. Laina</td>\n",
       "      <td>female</td>\n",
       "      <td>26.0</td>\n",
       "      <td>0</td>\n",
       "      <td>0</td>\n",
       "      <td>STON/O2. 3101282</td>\n",
       "      <td>7.9250</td>\n",
       "      <td>NaN</td>\n",
       "      <td>S</td>\n",
       "      <td>1.0</td>\n",
       "      <td>7.925000</td>\n",
       "    </tr>\n",
       "    <tr>\n",
       "      <th>3</th>\n",
       "      <td>4</td>\n",
       "      <td>1.0</td>\n",
       "      <td>1</td>\n",
       "      <td>Futrelle, Mrs. Jacques Heath (Lily May Peel)</td>\n",
       "      <td>female</td>\n",
       "      <td>35.0</td>\n",
       "      <td>1</td>\n",
       "      <td>0</td>\n",
       "      <td>113803</td>\n",
       "      <td>53.1000</td>\n",
       "      <td>C123</td>\n",
       "      <td>S</td>\n",
       "      <td>2.0</td>\n",
       "      <td>26.550000</td>\n",
       "    </tr>\n",
       "    <tr>\n",
       "      <th>4</th>\n",
       "      <td>5</td>\n",
       "      <td>0.0</td>\n",
       "      <td>3</td>\n",
       "      <td>Allen, Mr. William Henry</td>\n",
       "      <td>male</td>\n",
       "      <td>35.0</td>\n",
       "      <td>0</td>\n",
       "      <td>0</td>\n",
       "      <td>373450</td>\n",
       "      <td>8.0500</td>\n",
       "      <td>NaN</td>\n",
       "      <td>S</td>\n",
       "      <td>1.0</td>\n",
       "      <td>8.050000</td>\n",
       "    </tr>\n",
       "    <tr>\n",
       "      <th>...</th>\n",
       "      <td>...</td>\n",
       "      <td>...</td>\n",
       "      <td>...</td>\n",
       "      <td>...</td>\n",
       "      <td>...</td>\n",
       "      <td>...</td>\n",
       "      <td>...</td>\n",
       "      <td>...</td>\n",
       "      <td>...</td>\n",
       "      <td>...</td>\n",
       "      <td>...</td>\n",
       "      <td>...</td>\n",
       "      <td>...</td>\n",
       "      <td>...</td>\n",
       "    </tr>\n",
       "    <tr>\n",
       "      <th>1304</th>\n",
       "      <td>1305</td>\n",
       "      <td>NaN</td>\n",
       "      <td>3</td>\n",
       "      <td>Spector, Mr. Woolf</td>\n",
       "      <td>male</td>\n",
       "      <td>NaN</td>\n",
       "      <td>0</td>\n",
       "      <td>0</td>\n",
       "      <td>A.5. 3236</td>\n",
       "      <td>8.0500</td>\n",
       "      <td>NaN</td>\n",
       "      <td>S</td>\n",
       "      <td>1.0</td>\n",
       "      <td>8.050000</td>\n",
       "    </tr>\n",
       "    <tr>\n",
       "      <th>1305</th>\n",
       "      <td>1306</td>\n",
       "      <td>NaN</td>\n",
       "      <td>1</td>\n",
       "      <td>Oliva y Ocana, Dona. Fermina</td>\n",
       "      <td>female</td>\n",
       "      <td>39.0</td>\n",
       "      <td>0</td>\n",
       "      <td>0</td>\n",
       "      <td>PC 17758</td>\n",
       "      <td>108.9000</td>\n",
       "      <td>C105</td>\n",
       "      <td>C</td>\n",
       "      <td>3.0</td>\n",
       "      <td>36.300000</td>\n",
       "    </tr>\n",
       "    <tr>\n",
       "      <th>1306</th>\n",
       "      <td>1307</td>\n",
       "      <td>NaN</td>\n",
       "      <td>3</td>\n",
       "      <td>Saether, Mr. Simon Sivertsen</td>\n",
       "      <td>male</td>\n",
       "      <td>38.5</td>\n",
       "      <td>0</td>\n",
       "      <td>0</td>\n",
       "      <td>SOTON/O.Q. 3101262</td>\n",
       "      <td>7.2500</td>\n",
       "      <td>NaN</td>\n",
       "      <td>S</td>\n",
       "      <td>1.0</td>\n",
       "      <td>7.250000</td>\n",
       "    </tr>\n",
       "    <tr>\n",
       "      <th>1307</th>\n",
       "      <td>1308</td>\n",
       "      <td>NaN</td>\n",
       "      <td>3</td>\n",
       "      <td>Ware, Mr. Frederick</td>\n",
       "      <td>male</td>\n",
       "      <td>NaN</td>\n",
       "      <td>0</td>\n",
       "      <td>0</td>\n",
       "      <td>359309</td>\n",
       "      <td>8.0500</td>\n",
       "      <td>NaN</td>\n",
       "      <td>S</td>\n",
       "      <td>1.0</td>\n",
       "      <td>8.050000</td>\n",
       "    </tr>\n",
       "    <tr>\n",
       "      <th>1308</th>\n",
       "      <td>1309</td>\n",
       "      <td>NaN</td>\n",
       "      <td>3</td>\n",
       "      <td>Peter, Master. Michael J</td>\n",
       "      <td>male</td>\n",
       "      <td>NaN</td>\n",
       "      <td>1</td>\n",
       "      <td>1</td>\n",
       "      <td>2668</td>\n",
       "      <td>22.3583</td>\n",
       "      <td>NaN</td>\n",
       "      <td>C</td>\n",
       "      <td>3.0</td>\n",
       "      <td>7.452767</td>\n",
       "    </tr>\n",
       "  </tbody>\n",
       "</table>\n",
       "<p>1309 rows × 14 columns</p>\n",
       "</div>"
      ],
      "text/plain": [
       "      PassengerId  Survived  Pclass  \\\n",
       "0               1       0.0       3   \n",
       "1               2       1.0       1   \n",
       "2               3       1.0       3   \n",
       "3               4       1.0       1   \n",
       "4               5       0.0       3   \n",
       "...           ...       ...     ...   \n",
       "1304         1305       NaN       3   \n",
       "1305         1306       NaN       1   \n",
       "1306         1307       NaN       3   \n",
       "1307         1308       NaN       3   \n",
       "1308         1309       NaN       3   \n",
       "\n",
       "                                                   Name     Sex   Age  SibSp  \\\n",
       "0                               Braund, Mr. Owen Harris    male  22.0      1   \n",
       "1     Cumings, Mrs. John Bradley (Florence Briggs Th...  female  38.0      1   \n",
       "2                                Heikkinen, Miss. Laina  female  26.0      0   \n",
       "3          Futrelle, Mrs. Jacques Heath (Lily May Peel)  female  35.0      1   \n",
       "4                              Allen, Mr. William Henry    male  35.0      0   \n",
       "...                                                 ...     ...   ...    ...   \n",
       "1304                                 Spector, Mr. Woolf    male   NaN      0   \n",
       "1305                       Oliva y Ocana, Dona. Fermina  female  39.0      0   \n",
       "1306                       Saether, Mr. Simon Sivertsen    male  38.5      0   \n",
       "1307                                Ware, Mr. Frederick    male   NaN      0   \n",
       "1308                           Peter, Master. Michael J    male   NaN      1   \n",
       "\n",
       "      Parch              Ticket      Fare Cabin Embarked  Ticket_Count  \\\n",
       "0         0           A/5 21171    7.2500   NaN        S           1.0   \n",
       "1         0            PC 17599   71.2833   C85        C           2.0   \n",
       "2         0    STON/O2. 3101282    7.9250   NaN        S           1.0   \n",
       "3         0              113803   53.1000  C123        S           2.0   \n",
       "4         0              373450    8.0500   NaN        S           1.0   \n",
       "...     ...                 ...       ...   ...      ...           ...   \n",
       "1304      0           A.5. 3236    8.0500   NaN        S           1.0   \n",
       "1305      0            PC 17758  108.9000  C105        C           3.0   \n",
       "1306      0  SOTON/O.Q. 3101262    7.2500   NaN        S           1.0   \n",
       "1307      0              359309    8.0500   NaN        S           1.0   \n",
       "1308      1                2668   22.3583   NaN        C           3.0   \n",
       "\n",
       "          Price  \n",
       "0      7.250000  \n",
       "1     35.641650  \n",
       "2      7.925000  \n",
       "3     26.550000  \n",
       "4      8.050000  \n",
       "...         ...  \n",
       "1304   8.050000  \n",
       "1305  36.300000  \n",
       "1306   7.250000  \n",
       "1307   8.050000  \n",
       "1308   7.452767  \n",
       "\n",
       "[1309 rows x 14 columns]"
      ]
     },
     "execution_count": 11,
     "metadata": {},
     "output_type": "execute_result"
    }
   ],
   "source": [
    "df =pd.merge(df,temp_df, how ='left', on=['Ticket','Fare'])\n",
    "df"
   ]
  },
  {
   "cell_type": "markdown",
   "metadata": {},
   "source": [
    "### Boom Now i have Ticket count as well as Price for each passenger."
   ]
  },
  {
   "cell_type": "code",
   "execution_count": 12,
   "metadata": {
    "execution": {
     "iopub.execute_input": "2023-03-02T08:17:10.454736Z",
     "iopub.status.busy": "2023-03-02T08:17:10.454287Z",
     "iopub.status.idle": "2023-03-02T08:17:10.816792Z",
     "shell.execute_reply": "2023-03-02T08:17:10.815557Z",
     "shell.execute_reply.started": "2023-03-02T08:17:10.454696Z"
    }
   },
   "outputs": [
    {
     "data": {
      "text/plain": [
       "<Axes: xlabel='Price', ylabel='Density'>"
      ]
     },
     "execution_count": 12,
     "metadata": {},
     "output_type": "execute_result"
    },
    {
     "data": {
      "image/png": "[encoded data removed]",
      "text/plain": [
       "<Figure size 640x480 with 1 Axes>"
      ]
     },
     "metadata": {},
     "output_type": "display_data"
    }
   ],
   "source": [
    "sns.distplot(df['Price'])"
   ]
  },
  {
   "cell_type": "markdown",
   "metadata": {},
   "source": [
    "Now Distribution is Looking Good , Well again there are only few values between 70 to 140 so you we can remove it or alter it ."
   ]
  },
  {
   "cell_type": "code",
   "execution_count": 13,
   "metadata": {
    "execution": {
     "iopub.execute_input": "2023-03-02T08:17:10.875804Z",
     "iopub.status.busy": "2023-03-02T08:17:10.875397Z",
     "iopub.status.idle": "2023-03-02T08:17:10.899485Z",
     "shell.execute_reply": "2023-03-02T08:17:10.898206Z",
     "shell.execute_reply.started": "2023-03-02T08:17:10.875769Z"
    }
   },
   "outputs": [
    {
     "data": {
      "text/html": [
       "<div>\n",
       "<style scoped>\n",
       "    .dataframe tbody tr th:only-of-type {\n",
       "        vertical-align: middle;\n",
       "    }\n",
       "\n",
       "    .dataframe tbody tr th {\n",
       "        vertical-align: top;\n",
       "    }\n",
       "\n",
       "    .dataframe thead th {\n",
       "        text-align: right;\n",
       "    }\n",
       "</style>\n",
       "<table border=\"1\" class=\"dataframe\">\n",
       "  <thead>\n",
       "    <tr style=\"text-align: right;\">\n",
       "      <th></th>\n",
       "      <th>PassengerId</th>\n",
       "      <th>Survived</th>\n",
       "      <th>Pclass</th>\n",
       "      <th>Name</th>\n",
       "      <th>Sex</th>\n",
       "      <th>Age</th>\n",
       "      <th>SibSp</th>\n",
       "      <th>Parch</th>\n",
       "      <th>Ticket</th>\n",
       "      <th>Fare</th>\n",
       "      <th>Cabin</th>\n",
       "      <th>Embarked</th>\n",
       "      <th>Ticket_Count</th>\n",
       "      <th>Price</th>\n",
       "    </tr>\n",
       "  </thead>\n",
       "  <tbody>\n",
       "    <tr>\n",
       "      <th>118</th>\n",
       "      <td>119</td>\n",
       "      <td>0.0</td>\n",
       "      <td>1</td>\n",
       "      <td>Baxter, Mr. Quigg Edmond</td>\n",
       "      <td>male</td>\n",
       "      <td>24.0</td>\n",
       "      <td>0</td>\n",
       "      <td>1</td>\n",
       "      <td>PC 17558</td>\n",
       "      <td>247.5208</td>\n",
       "      <td>B58 B60</td>\n",
       "      <td>C</td>\n",
       "      <td>3.0</td>\n",
       "      <td>82.506933</td>\n",
       "    </tr>\n",
       "    <tr>\n",
       "      <th>258</th>\n",
       "      <td>259</td>\n",
       "      <td>1.0</td>\n",
       "      <td>1</td>\n",
       "      <td>Ward, Miss. Anna</td>\n",
       "      <td>female</td>\n",
       "      <td>35.0</td>\n",
       "      <td>0</td>\n",
       "      <td>0</td>\n",
       "      <td>PC 17755</td>\n",
       "      <td>512.3292</td>\n",
       "      <td>NaN</td>\n",
       "      <td>C</td>\n",
       "      <td>4.0</td>\n",
       "      <td>128.082300</td>\n",
       "    </tr>\n",
       "    <tr>\n",
       "      <th>299</th>\n",
       "      <td>300</td>\n",
       "      <td>1.0</td>\n",
       "      <td>1</td>\n",
       "      <td>Baxter, Mrs. James (Helene DeLaudeniere Chaput)</td>\n",
       "      <td>female</td>\n",
       "      <td>50.0</td>\n",
       "      <td>0</td>\n",
       "      <td>1</td>\n",
       "      <td>PC 17558</td>\n",
       "      <td>247.5208</td>\n",
       "      <td>B58 B60</td>\n",
       "      <td>C</td>\n",
       "      <td>3.0</td>\n",
       "      <td>82.506933</td>\n",
       "    </tr>\n",
       "    <tr>\n",
       "      <th>679</th>\n",
       "      <td>680</td>\n",
       "      <td>1.0</td>\n",
       "      <td>1</td>\n",
       "      <td>Cardeza, Mr. Thomas Drake Martinez</td>\n",
       "      <td>male</td>\n",
       "      <td>36.0</td>\n",
       "      <td>0</td>\n",
       "      <td>1</td>\n",
       "      <td>PC 17755</td>\n",
       "      <td>512.3292</td>\n",
       "      <td>B51 B53 B55</td>\n",
       "      <td>C</td>\n",
       "      <td>4.0</td>\n",
       "      <td>128.082300</td>\n",
       "    </tr>\n",
       "    <tr>\n",
       "      <th>737</th>\n",
       "      <td>738</td>\n",
       "      <td>1.0</td>\n",
       "      <td>1</td>\n",
       "      <td>Lesurer, Mr. Gustave J</td>\n",
       "      <td>male</td>\n",
       "      <td>35.0</td>\n",
       "      <td>0</td>\n",
       "      <td>0</td>\n",
       "      <td>PC 17755</td>\n",
       "      <td>512.3292</td>\n",
       "      <td>B101</td>\n",
       "      <td>C</td>\n",
       "      <td>4.0</td>\n",
       "      <td>128.082300</td>\n",
       "    </tr>\n",
       "    <tr>\n",
       "      <th>1075</th>\n",
       "      <td>1076</td>\n",
       "      <td>NaN</td>\n",
       "      <td>1</td>\n",
       "      <td>Douglas, Mrs. Frederick Charles (Mary Helene B...</td>\n",
       "      <td>female</td>\n",
       "      <td>27.0</td>\n",
       "      <td>1</td>\n",
       "      <td>1</td>\n",
       "      <td>PC 17558</td>\n",
       "      <td>247.5208</td>\n",
       "      <td>B58 B60</td>\n",
       "      <td>C</td>\n",
       "      <td>3.0</td>\n",
       "      <td>82.506933</td>\n",
       "    </tr>\n",
       "    <tr>\n",
       "      <th>1234</th>\n",
       "      <td>1235</td>\n",
       "      <td>NaN</td>\n",
       "      <td>1</td>\n",
       "      <td>Cardeza, Mrs. James Warburton Martinez (Charlo...</td>\n",
       "      <td>female</td>\n",
       "      <td>58.0</td>\n",
       "      <td>0</td>\n",
       "      <td>1</td>\n",
       "      <td>PC 17755</td>\n",
       "      <td>512.3292</td>\n",
       "      <td>B51 B53 B55</td>\n",
       "      <td>C</td>\n",
       "      <td>4.0</td>\n",
       "      <td>128.082300</td>\n",
       "    </tr>\n",
       "  </tbody>\n",
       "</table>\n",
       "</div>"
      ],
      "text/plain": [
       "      PassengerId  Survived  Pclass  \\\n",
       "118           119       0.0       1   \n",
       "258           259       1.0       1   \n",
       "299           300       1.0       1   \n",
       "679           680       1.0       1   \n",
       "737           738       1.0       1   \n",
       "1075         1076       NaN       1   \n",
       "1234         1235       NaN       1   \n",
       "\n",
       "                                                   Name     Sex   Age  SibSp  \\\n",
       "118                            Baxter, Mr. Quigg Edmond    male  24.0      0   \n",
       "258                                    Ward, Miss. Anna  female  35.0      0   \n",
       "299     Baxter, Mrs. James (Helene DeLaudeniere Chaput)  female  50.0      0   \n",
       "679                  Cardeza, Mr. Thomas Drake Martinez    male  36.0      0   \n",
       "737                              Lesurer, Mr. Gustave J    male  35.0      0   \n",
       "1075  Douglas, Mrs. Frederick Charles (Mary Helene B...  female  27.0      1   \n",
       "1234  Cardeza, Mrs. James Warburton Martinez (Charlo...  female  58.0      0   \n",
       "\n",
       "      Parch    Ticket      Fare        Cabin Embarked  Ticket_Count  \\\n",
       "118       1  PC 17558  247.5208      B58 B60        C           3.0   \n",
       "258       0  PC 17755  512.3292          NaN        C           4.0   \n",
       "299       1  PC 17558  247.5208      B58 B60        C           3.0   \n",
       "679       1  PC 17755  512.3292  B51 B53 B55        C           4.0   \n",
       "737       0  PC 17755  512.3292         B101        C           4.0   \n",
       "1075      1  PC 17558  247.5208      B58 B60        C           3.0   \n",
       "1234      1  PC 17755  512.3292  B51 B53 B55        C           4.0   \n",
       "\n",
       "           Price  \n",
       "118    82.506933  \n",
       "258   128.082300  \n",
       "299    82.506933  \n",
       "679   128.082300  \n",
       "737   128.082300  \n",
       "1075   82.506933  \n",
       "1234  128.082300  "
      ]
     },
     "execution_count": 13,
     "metadata": {},
     "output_type": "execute_result"
    }
   ],
   "source": [
    "df[df['Price']>70]"
   ]
  },
  {
   "cell_type": "code",
   "execution_count": 14,
   "metadata": {
    "execution": {
     "iopub.execute_input": "2023-03-02T08:17:11.063571Z",
     "iopub.status.busy": "2023-03-02T08:17:11.063103Z",
     "iopub.status.idle": "2023-03-02T08:17:11.071505Z",
     "shell.execute_reply": "2023-03-02T08:17:11.069945Z",
     "shell.execute_reply.started": "2023-03-02T08:17:11.063511Z"
    }
   },
   "outputs": [],
   "source": [
    "df['Price'].replace(to_replace=128.082300,value=np.nan,inplace=True)"
   ]
  },
  {
   "cell_type": "markdown",
   "metadata": {},
   "source": [
    "- Just removing the higest value so that we can alter it later?\n",
    "### Checking Lower Bound of price"
   ]
  },
  {
   "cell_type": "code",
   "execution_count": 15,
   "metadata": {
    "execution": {
     "iopub.execute_input": "2023-03-02T08:17:11.460615Z",
     "iopub.status.busy": "2023-03-02T08:17:11.460217Z",
     "iopub.status.idle": "2023-03-02T08:17:11.489570Z",
     "shell.execute_reply": "2023-03-02T08:17:11.488071Z",
     "shell.execute_reply.started": "2023-03-02T08:17:11.460581Z"
    }
   },
   "outputs": [
    {
     "data": {
      "text/html": [
       "<div>\n",
       "<style scoped>\n",
       "    .dataframe tbody tr th:only-of-type {\n",
       "        vertical-align: middle;\n",
       "    }\n",
       "\n",
       "    .dataframe tbody tr th {\n",
       "        vertical-align: top;\n",
       "    }\n",
       "\n",
       "    .dataframe thead th {\n",
       "        text-align: right;\n",
       "    }\n",
       "</style>\n",
       "<table border=\"1\" class=\"dataframe\">\n",
       "  <thead>\n",
       "    <tr style=\"text-align: right;\">\n",
       "      <th></th>\n",
       "      <th>PassengerId</th>\n",
       "      <th>Survived</th>\n",
       "      <th>Pclass</th>\n",
       "      <th>Name</th>\n",
       "      <th>Sex</th>\n",
       "      <th>Age</th>\n",
       "      <th>SibSp</th>\n",
       "      <th>Parch</th>\n",
       "      <th>Ticket</th>\n",
       "      <th>Fare</th>\n",
       "      <th>Cabin</th>\n",
       "      <th>Embarked</th>\n",
       "      <th>Ticket_Count</th>\n",
       "      <th>Price</th>\n",
       "    </tr>\n",
       "  </thead>\n",
       "  <tbody>\n",
       "    <tr>\n",
       "      <th>179</th>\n",
       "      <td>180</td>\n",
       "      <td>0.0</td>\n",
       "      <td>3</td>\n",
       "      <td>Leonard, Mr. Lionel</td>\n",
       "      <td>male</td>\n",
       "      <td>36.0</td>\n",
       "      <td>0</td>\n",
       "      <td>0</td>\n",
       "      <td>LINE</td>\n",
       "      <td>0.0</td>\n",
       "      <td>NaN</td>\n",
       "      <td>S</td>\n",
       "      <td>4.0</td>\n",
       "      <td>0.0</td>\n",
       "    </tr>\n",
       "    <tr>\n",
       "      <th>263</th>\n",
       "      <td>264</td>\n",
       "      <td>0.0</td>\n",
       "      <td>1</td>\n",
       "      <td>Harrison, Mr. William</td>\n",
       "      <td>male</td>\n",
       "      <td>40.0</td>\n",
       "      <td>0</td>\n",
       "      <td>0</td>\n",
       "      <td>112059</td>\n",
       "      <td>0.0</td>\n",
       "      <td>B94</td>\n",
       "      <td>S</td>\n",
       "      <td>1.0</td>\n",
       "      <td>0.0</td>\n",
       "    </tr>\n",
       "    <tr>\n",
       "      <th>271</th>\n",
       "      <td>272</td>\n",
       "      <td>1.0</td>\n",
       "      <td>3</td>\n",
       "      <td>Tornquist, Mr. William Henry</td>\n",
       "      <td>male</td>\n",
       "      <td>25.0</td>\n",
       "      <td>0</td>\n",
       "      <td>0</td>\n",
       "      <td>LINE</td>\n",
       "      <td>0.0</td>\n",
       "      <td>NaN</td>\n",
       "      <td>S</td>\n",
       "      <td>4.0</td>\n",
       "      <td>0.0</td>\n",
       "    </tr>\n",
       "    <tr>\n",
       "      <th>277</th>\n",
       "      <td>278</td>\n",
       "      <td>0.0</td>\n",
       "      <td>2</td>\n",
       "      <td>Parkes, Mr. Francis \"Frank\"</td>\n",
       "      <td>male</td>\n",
       "      <td>NaN</td>\n",
       "      <td>0</td>\n",
       "      <td>0</td>\n",
       "      <td>239853</td>\n",
       "      <td>0.0</td>\n",
       "      <td>NaN</td>\n",
       "      <td>S</td>\n",
       "      <td>3.0</td>\n",
       "      <td>0.0</td>\n",
       "    </tr>\n",
       "    <tr>\n",
       "      <th>302</th>\n",
       "      <td>303</td>\n",
       "      <td>0.0</td>\n",
       "      <td>3</td>\n",
       "      <td>Johnson, Mr. William Cahoone Jr</td>\n",
       "      <td>male</td>\n",
       "      <td>19.0</td>\n",
       "      <td>0</td>\n",
       "      <td>0</td>\n",
       "      <td>LINE</td>\n",
       "      <td>0.0</td>\n",
       "      <td>NaN</td>\n",
       "      <td>S</td>\n",
       "      <td>4.0</td>\n",
       "      <td>0.0</td>\n",
       "    </tr>\n",
       "    <tr>\n",
       "      <th>413</th>\n",
       "      <td>414</td>\n",
       "      <td>0.0</td>\n",
       "      <td>2</td>\n",
       "      <td>Cunningham, Mr. Alfred Fleming</td>\n",
       "      <td>male</td>\n",
       "      <td>NaN</td>\n",
       "      <td>0</td>\n",
       "      <td>0</td>\n",
       "      <td>239853</td>\n",
       "      <td>0.0</td>\n",
       "      <td>NaN</td>\n",
       "      <td>S</td>\n",
       "      <td>3.0</td>\n",
       "      <td>0.0</td>\n",
       "    </tr>\n",
       "    <tr>\n",
       "      <th>466</th>\n",
       "      <td>467</td>\n",
       "      <td>0.0</td>\n",
       "      <td>2</td>\n",
       "      <td>Campbell, Mr. William</td>\n",
       "      <td>male</td>\n",
       "      <td>NaN</td>\n",
       "      <td>0</td>\n",
       "      <td>0</td>\n",
       "      <td>239853</td>\n",
       "      <td>0.0</td>\n",
       "      <td>NaN</td>\n",
       "      <td>S</td>\n",
       "      <td>3.0</td>\n",
       "      <td>0.0</td>\n",
       "    </tr>\n",
       "    <tr>\n",
       "      <th>481</th>\n",
       "      <td>482</td>\n",
       "      <td>0.0</td>\n",
       "      <td>2</td>\n",
       "      <td>Frost, Mr. Anthony Wood \"Archie\"</td>\n",
       "      <td>male</td>\n",
       "      <td>NaN</td>\n",
       "      <td>0</td>\n",
       "      <td>0</td>\n",
       "      <td>239854</td>\n",
       "      <td>0.0</td>\n",
       "      <td>NaN</td>\n",
       "      <td>S</td>\n",
       "      <td>1.0</td>\n",
       "      <td>0.0</td>\n",
       "    </tr>\n",
       "    <tr>\n",
       "      <th>597</th>\n",
       "      <td>598</td>\n",
       "      <td>0.0</td>\n",
       "      <td>3</td>\n",
       "      <td>Johnson, Mr. Alfred</td>\n",
       "      <td>male</td>\n",
       "      <td>49.0</td>\n",
       "      <td>0</td>\n",
       "      <td>0</td>\n",
       "      <td>LINE</td>\n",
       "      <td>0.0</td>\n",
       "      <td>NaN</td>\n",
       "      <td>S</td>\n",
       "      <td>4.0</td>\n",
       "      <td>0.0</td>\n",
       "    </tr>\n",
       "    <tr>\n",
       "      <th>633</th>\n",
       "      <td>634</td>\n",
       "      <td>0.0</td>\n",
       "      <td>1</td>\n",
       "      <td>Parr, Mr. William Henry Marsh</td>\n",
       "      <td>male</td>\n",
       "      <td>NaN</td>\n",
       "      <td>0</td>\n",
       "      <td>0</td>\n",
       "      <td>112052</td>\n",
       "      <td>0.0</td>\n",
       "      <td>NaN</td>\n",
       "      <td>S</td>\n",
       "      <td>1.0</td>\n",
       "      <td>0.0</td>\n",
       "    </tr>\n",
       "    <tr>\n",
       "      <th>674</th>\n",
       "      <td>675</td>\n",
       "      <td>0.0</td>\n",
       "      <td>2</td>\n",
       "      <td>Watson, Mr. Ennis Hastings</td>\n",
       "      <td>male</td>\n",
       "      <td>NaN</td>\n",
       "      <td>0</td>\n",
       "      <td>0</td>\n",
       "      <td>239856</td>\n",
       "      <td>0.0</td>\n",
       "      <td>NaN</td>\n",
       "      <td>S</td>\n",
       "      <td>1.0</td>\n",
       "      <td>0.0</td>\n",
       "    </tr>\n",
       "    <tr>\n",
       "      <th>732</th>\n",
       "      <td>733</td>\n",
       "      <td>0.0</td>\n",
       "      <td>2</td>\n",
       "      <td>Knight, Mr. Robert J</td>\n",
       "      <td>male</td>\n",
       "      <td>NaN</td>\n",
       "      <td>0</td>\n",
       "      <td>0</td>\n",
       "      <td>239855</td>\n",
       "      <td>0.0</td>\n",
       "      <td>NaN</td>\n",
       "      <td>S</td>\n",
       "      <td>1.0</td>\n",
       "      <td>0.0</td>\n",
       "    </tr>\n",
       "    <tr>\n",
       "      <th>806</th>\n",
       "      <td>807</td>\n",
       "      <td>0.0</td>\n",
       "      <td>1</td>\n",
       "      <td>Andrews, Mr. Thomas Jr</td>\n",
       "      <td>male</td>\n",
       "      <td>39.0</td>\n",
       "      <td>0</td>\n",
       "      <td>0</td>\n",
       "      <td>112050</td>\n",
       "      <td>0.0</td>\n",
       "      <td>A36</td>\n",
       "      <td>S</td>\n",
       "      <td>1.0</td>\n",
       "      <td>0.0</td>\n",
       "    </tr>\n",
       "    <tr>\n",
       "      <th>815</th>\n",
       "      <td>816</td>\n",
       "      <td>0.0</td>\n",
       "      <td>1</td>\n",
       "      <td>Fry, Mr. Richard</td>\n",
       "      <td>male</td>\n",
       "      <td>NaN</td>\n",
       "      <td>0</td>\n",
       "      <td>0</td>\n",
       "      <td>112058</td>\n",
       "      <td>0.0</td>\n",
       "      <td>B102</td>\n",
       "      <td>S</td>\n",
       "      <td>2.0</td>\n",
       "      <td>0.0</td>\n",
       "    </tr>\n",
       "    <tr>\n",
       "      <th>822</th>\n",
       "      <td>823</td>\n",
       "      <td>0.0</td>\n",
       "      <td>1</td>\n",
       "      <td>Reuchlin, Jonkheer. John George</td>\n",
       "      <td>male</td>\n",
       "      <td>38.0</td>\n",
       "      <td>0</td>\n",
       "      <td>0</td>\n",
       "      <td>19972</td>\n",
       "      <td>0.0</td>\n",
       "      <td>NaN</td>\n",
       "      <td>S</td>\n",
       "      <td>1.0</td>\n",
       "      <td>0.0</td>\n",
       "    </tr>\n",
       "    <tr>\n",
       "      <th>1157</th>\n",
       "      <td>1158</td>\n",
       "      <td>NaN</td>\n",
       "      <td>1</td>\n",
       "      <td>Chisholm, Mr. Roderick Robert Crispin</td>\n",
       "      <td>male</td>\n",
       "      <td>NaN</td>\n",
       "      <td>0</td>\n",
       "      <td>0</td>\n",
       "      <td>112051</td>\n",
       "      <td>0.0</td>\n",
       "      <td>NaN</td>\n",
       "      <td>S</td>\n",
       "      <td>1.0</td>\n",
       "      <td>0.0</td>\n",
       "    </tr>\n",
       "    <tr>\n",
       "      <th>1263</th>\n",
       "      <td>1264</td>\n",
       "      <td>NaN</td>\n",
       "      <td>1</td>\n",
       "      <td>Ismay, Mr. Joseph Bruce</td>\n",
       "      <td>male</td>\n",
       "      <td>49.0</td>\n",
       "      <td>0</td>\n",
       "      <td>0</td>\n",
       "      <td>112058</td>\n",
       "      <td>0.0</td>\n",
       "      <td>B52 B54 B56</td>\n",
       "      <td>S</td>\n",
       "      <td>2.0</td>\n",
       "      <td>0.0</td>\n",
       "    </tr>\n",
       "  </tbody>\n",
       "</table>\n",
       "</div>"
      ],
      "text/plain": [
       "      PassengerId  Survived  Pclass                                   Name  \\\n",
       "179           180       0.0       3                    Leonard, Mr. Lionel   \n",
       "263           264       0.0       1                  Harrison, Mr. William   \n",
       "271           272       1.0       3           Tornquist, Mr. William Henry   \n",
       "277           278       0.0       2            Parkes, Mr. Francis \"Frank\"   \n",
       "302           303       0.0       3        Johnson, Mr. William Cahoone Jr   \n",
       "413           414       0.0       2         Cunningham, Mr. Alfred Fleming   \n",
       "466           467       0.0       2                  Campbell, Mr. William   \n",
       "481           482       0.0       2       Frost, Mr. Anthony Wood \"Archie\"   \n",
       "597           598       0.0       3                    Johnson, Mr. Alfred   \n",
       "633           634       0.0       1          Parr, Mr. William Henry Marsh   \n",
       "674           675       0.0       2             Watson, Mr. Ennis Hastings   \n",
       "732           733       0.0       2                   Knight, Mr. Robert J   \n",
       "806           807       0.0       1                 Andrews, Mr. Thomas Jr   \n",
       "815           816       0.0       1                       Fry, Mr. Richard   \n",
       "822           823       0.0       1        Reuchlin, Jonkheer. John George   \n",
       "1157         1158       NaN       1  Chisholm, Mr. Roderick Robert Crispin   \n",
       "1263         1264       NaN       1                Ismay, Mr. Joseph Bruce   \n",
       "\n",
       "       Sex   Age  SibSp  Parch  Ticket  Fare        Cabin Embarked  \\\n",
       "179   male  36.0      0      0    LINE   0.0          NaN        S   \n",
       "263   male  40.0      0      0  112059   0.0          B94        S   \n",
       "271   male  25.0      0      0    LINE   0.0          NaN        S   \n",
       "277   male   NaN      0      0  239853   0.0          NaN        S   \n",
       "302   male  19.0      0      0    LINE   0.0          NaN        S   \n",
       "413   male   NaN      0      0  239853   0.0          NaN        S   \n",
       "466   male   NaN      0      0  239853   0.0          NaN        S   \n",
       "481   male   NaN      0      0  239854   0.0          NaN        S   \n",
       "597   male  49.0      0      0    LINE   0.0          NaN        S   \n",
       "633   male   NaN      0      0  112052   0.0          NaN        S   \n",
       "674   male   NaN      0      0  239856   0.0          NaN        S   \n",
       "732   male   NaN      0      0  239855   0.0          NaN        S   \n",
       "806   male  39.0      0      0  112050   0.0          A36        S   \n",
       "815   male   NaN      0      0  112058   0.0         B102        S   \n",
       "822   male  38.0      0      0   19972   0.0          NaN        S   \n",
       "1157  male   NaN      0      0  112051   0.0          NaN        S   \n",
       "1263  male  49.0      0      0  112058   0.0  B52 B54 B56        S   \n",
       "\n",
       "      Ticket_Count  Price  \n",
       "179            4.0    0.0  \n",
       "263            1.0    0.0  \n",
       "271            4.0    0.0  \n",
       "277            3.0    0.0  \n",
       "302            4.0    0.0  \n",
       "413            3.0    0.0  \n",
       "466            3.0    0.0  \n",
       "481            1.0    0.0  \n",
       "597            4.0    0.0  \n",
       "633            1.0    0.0  \n",
       "674            1.0    0.0  \n",
       "732            1.0    0.0  \n",
       "806            1.0    0.0  \n",
       "815            2.0    0.0  \n",
       "822            1.0    0.0  \n",
       "1157           1.0    0.0  \n",
       "1263           2.0    0.0  "
      ]
     },
     "execution_count": 15,
     "metadata": {},
     "output_type": "execute_result"
    }
   ],
   "source": [
    "df[df['Price']< 1]"
   ]
  },
  {
   "cell_type": "markdown",
   "metadata": {},
   "source": [
    "- Mostly Dead people paid 0$, Even there Age and Cabin is missing.\n",
    "- Sorry lets have some respect for dead people. actully they paid but data collection can't be done.\n",
    "-I need to Make 1 more feature so that i can apply group by on more better way.\n"
   ]
  },
  {
   "cell_type": "markdown",
   "metadata": {},
   "source": [
    "### Making New feature Cabin_Count\n",
    "- It will give the count of cabin a particular passenger booked."
   ]
  },
  {
   "cell_type": "code",
   "execution_count": 16,
   "metadata": {
    "execution": {
     "iopub.execute_input": "2023-03-02T08:17:12.101205Z",
     "iopub.status.busy": "2023-03-02T08:17:12.100745Z",
     "iopub.status.idle": "2023-03-02T08:17:12.107990Z",
     "shell.execute_reply": "2023-03-02T08:17:12.106544Z",
     "shell.execute_reply.started": "2023-03-02T08:17:12.101166Z"
    }
   },
   "outputs": [],
   "source": [
    "def cabin_count(x):\n",
    "    if str(x) == 'nan':\n",
    "        return 0\n",
    "    else: return len(str(x).split(\" \"))\n",
    "    "
   ]
  },
  {
   "cell_type": "code",
   "execution_count": 17,
   "metadata": {
    "execution": {
     "iopub.execute_input": "2023-03-02T08:17:12.304223Z",
     "iopub.status.busy": "2023-03-02T08:17:12.303383Z",
     "iopub.status.idle": "2023-03-02T08:17:12.312013Z",
     "shell.execute_reply": "2023-03-02T08:17:12.310361Z",
     "shell.execute_reply.started": "2023-03-02T08:17:12.304177Z"
    }
   },
   "outputs": [],
   "source": [
    "df['Cabin_Count'] =df['Cabin'].apply(cabin_count)"
   ]
  },
  {
   "cell_type": "code",
   "execution_count": 18,
   "metadata": {
    "execution": {
     "iopub.execute_input": "2023-03-02T08:17:12.506901Z",
     "iopub.status.busy": "2023-03-02T08:17:12.506498Z",
     "iopub.status.idle": "2023-03-02T08:17:12.539375Z",
     "shell.execute_reply": "2023-03-02T08:17:12.538062Z",
     "shell.execute_reply.started": "2023-03-02T08:17:12.506865Z"
    }
   },
   "outputs": [
    {
     "data": {
      "text/html": [
       "<div>\n",
       "<style scoped>\n",
       "    .dataframe tbody tr th:only-of-type {\n",
       "        vertical-align: middle;\n",
       "    }\n",
       "\n",
       "    .dataframe tbody tr th {\n",
       "        vertical-align: top;\n",
       "    }\n",
       "\n",
       "    .dataframe thead th {\n",
       "        text-align: right;\n",
       "    }\n",
       "</style>\n",
       "<table border=\"1\" class=\"dataframe\">\n",
       "  <thead>\n",
       "    <tr style=\"text-align: right;\">\n",
       "      <th></th>\n",
       "      <th>PassengerId</th>\n",
       "      <th>Survived</th>\n",
       "      <th>Pclass</th>\n",
       "      <th>Name</th>\n",
       "      <th>Sex</th>\n",
       "      <th>Age</th>\n",
       "      <th>SibSp</th>\n",
       "      <th>Parch</th>\n",
       "      <th>Ticket</th>\n",
       "      <th>Fare</th>\n",
       "      <th>Cabin</th>\n",
       "      <th>Embarked</th>\n",
       "      <th>Ticket_Count</th>\n",
       "      <th>Price</th>\n",
       "      <th>Cabin_Count</th>\n",
       "    </tr>\n",
       "  </thead>\n",
       "  <tbody>\n",
       "    <tr>\n",
       "      <th>0</th>\n",
       "      <td>1</td>\n",
       "      <td>0.0</td>\n",
       "      <td>3</td>\n",
       "      <td>Braund, Mr. Owen Harris</td>\n",
       "      <td>male</td>\n",
       "      <td>22.0</td>\n",
       "      <td>1</td>\n",
       "      <td>0</td>\n",
       "      <td>A/5 21171</td>\n",
       "      <td>7.2500</td>\n",
       "      <td>NaN</td>\n",
       "      <td>S</td>\n",
       "      <td>1.0</td>\n",
       "      <td>7.250000</td>\n",
       "      <td>0</td>\n",
       "    </tr>\n",
       "    <tr>\n",
       "      <th>1</th>\n",
       "      <td>2</td>\n",
       "      <td>1.0</td>\n",
       "      <td>1</td>\n",
       "      <td>Cumings, Mrs. John Bradley (Florence Briggs Th...</td>\n",
       "      <td>female</td>\n",
       "      <td>38.0</td>\n",
       "      <td>1</td>\n",
       "      <td>0</td>\n",
       "      <td>PC 17599</td>\n",
       "      <td>71.2833</td>\n",
       "      <td>C85</td>\n",
       "      <td>C</td>\n",
       "      <td>2.0</td>\n",
       "      <td>35.641650</td>\n",
       "      <td>1</td>\n",
       "    </tr>\n",
       "    <tr>\n",
       "      <th>2</th>\n",
       "      <td>3</td>\n",
       "      <td>1.0</td>\n",
       "      <td>3</td>\n",
       "      <td>Heikkinen, Miss. Laina</td>\n",
       "      <td>female</td>\n",
       "      <td>26.0</td>\n",
       "      <td>0</td>\n",
       "      <td>0</td>\n",
       "      <td>STON/O2. 3101282</td>\n",
       "      <td>7.9250</td>\n",
       "      <td>NaN</td>\n",
       "      <td>S</td>\n",
       "      <td>1.0</td>\n",
       "      <td>7.925000</td>\n",
       "      <td>0</td>\n",
       "    </tr>\n",
       "    <tr>\n",
       "      <th>3</th>\n",
       "      <td>4</td>\n",
       "      <td>1.0</td>\n",
       "      <td>1</td>\n",
       "      <td>Futrelle, Mrs. Jacques Heath (Lily May Peel)</td>\n",
       "      <td>female</td>\n",
       "      <td>35.0</td>\n",
       "      <td>1</td>\n",
       "      <td>0</td>\n",
       "      <td>113803</td>\n",
       "      <td>53.1000</td>\n",
       "      <td>C123</td>\n",
       "      <td>S</td>\n",
       "      <td>2.0</td>\n",
       "      <td>26.550000</td>\n",
       "      <td>1</td>\n",
       "    </tr>\n",
       "    <tr>\n",
       "      <th>4</th>\n",
       "      <td>5</td>\n",
       "      <td>0.0</td>\n",
       "      <td>3</td>\n",
       "      <td>Allen, Mr. William Henry</td>\n",
       "      <td>male</td>\n",
       "      <td>35.0</td>\n",
       "      <td>0</td>\n",
       "      <td>0</td>\n",
       "      <td>373450</td>\n",
       "      <td>8.0500</td>\n",
       "      <td>NaN</td>\n",
       "      <td>S</td>\n",
       "      <td>1.0</td>\n",
       "      <td>8.050000</td>\n",
       "      <td>0</td>\n",
       "    </tr>\n",
       "    <tr>\n",
       "      <th>...</th>\n",
       "      <td>...</td>\n",
       "      <td>...</td>\n",
       "      <td>...</td>\n",
       "      <td>...</td>\n",
       "      <td>...</td>\n",
       "      <td>...</td>\n",
       "      <td>...</td>\n",
       "      <td>...</td>\n",
       "      <td>...</td>\n",
       "      <td>...</td>\n",
       "      <td>...</td>\n",
       "      <td>...</td>\n",
       "      <td>...</td>\n",
       "      <td>...</td>\n",
       "      <td>...</td>\n",
       "    </tr>\n",
       "    <tr>\n",
       "      <th>1304</th>\n",
       "      <td>1305</td>\n",
       "      <td>NaN</td>\n",
       "      <td>3</td>\n",
       "      <td>Spector, Mr. Woolf</td>\n",
       "      <td>male</td>\n",
       "      <td>NaN</td>\n",
       "      <td>0</td>\n",
       "      <td>0</td>\n",
       "      <td>A.5. 3236</td>\n",
       "      <td>8.0500</td>\n",
       "      <td>NaN</td>\n",
       "      <td>S</td>\n",
       "      <td>1.0</td>\n",
       "      <td>8.050000</td>\n",
       "      <td>0</td>\n",
       "    </tr>\n",
       "    <tr>\n",
       "      <th>1305</th>\n",
       "      <td>1306</td>\n",
       "      <td>NaN</td>\n",
       "      <td>1</td>\n",
       "      <td>Oliva y Ocana, Dona. Fermina</td>\n",
       "      <td>female</td>\n",
       "      <td>39.0</td>\n",
       "      <td>0</td>\n",
       "      <td>0</td>\n",
       "      <td>PC 17758</td>\n",
       "      <td>108.9000</td>\n",
       "      <td>C105</td>\n",
       "      <td>C</td>\n",
       "      <td>3.0</td>\n",
       "      <td>36.300000</td>\n",
       "      <td>1</td>\n",
       "    </tr>\n",
       "    <tr>\n",
       "      <th>1306</th>\n",
       "      <td>1307</td>\n",
       "      <td>NaN</td>\n",
       "      <td>3</td>\n",
       "      <td>Saether, Mr. Simon Sivertsen</td>\n",
       "      <td>male</td>\n",
       "      <td>38.5</td>\n",
       "      <td>0</td>\n",
       "      <td>0</td>\n",
       "      <td>SOTON/O.Q. 3101262</td>\n",
       "      <td>7.2500</td>\n",
       "      <td>NaN</td>\n",
       "      <td>S</td>\n",
       "      <td>1.0</td>\n",
       "      <td>7.250000</td>\n",
       "      <td>0</td>\n",
       "    </tr>\n",
       "    <tr>\n",
       "      <th>1307</th>\n",
       "      <td>1308</td>\n",
       "      <td>NaN</td>\n",
       "      <td>3</td>\n",
       "      <td>Ware, Mr. Frederick</td>\n",
       "      <td>male</td>\n",
       "      <td>NaN</td>\n",
       "      <td>0</td>\n",
       "      <td>0</td>\n",
       "      <td>359309</td>\n",
       "      <td>8.0500</td>\n",
       "      <td>NaN</td>\n",
       "      <td>S</td>\n",
       "      <td>1.0</td>\n",
       "      <td>8.050000</td>\n",
       "      <td>0</td>\n",
       "    </tr>\n",
       "    <tr>\n",
       "      <th>1308</th>\n",
       "      <td>1309</td>\n",
       "      <td>NaN</td>\n",
       "      <td>3</td>\n",
       "      <td>Peter, Master. Michael J</td>\n",
       "      <td>male</td>\n",
       "      <td>NaN</td>\n",
       "      <td>1</td>\n",
       "      <td>1</td>\n",
       "      <td>2668</td>\n",
       "      <td>22.3583</td>\n",
       "      <td>NaN</td>\n",
       "      <td>C</td>\n",
       "      <td>3.0</td>\n",
       "      <td>7.452767</td>\n",
       "      <td>0</td>\n",
       "    </tr>\n",
       "  </tbody>\n",
       "</table>\n",
       "<p>1309 rows × 15 columns</p>\n",
       "</div>"
      ],
      "text/plain": [
       "      PassengerId  Survived  Pclass  \\\n",
       "0               1       0.0       3   \n",
       "1               2       1.0       1   \n",
       "2               3       1.0       3   \n",
       "3               4       1.0       1   \n",
       "4               5       0.0       3   \n",
       "...           ...       ...     ...   \n",
       "1304         1305       NaN       3   \n",
       "1305         1306       NaN       1   \n",
       "1306         1307       NaN       3   \n",
       "1307         1308       NaN       3   \n",
       "1308         1309       NaN       3   \n",
       "\n",
       "                                                   Name     Sex   Age  SibSp  \\\n",
       "0                               Braund, Mr. Owen Harris    male  22.0      1   \n",
       "1     Cumings, Mrs. John Bradley (Florence Briggs Th...  female  38.0      1   \n",
       "2                                Heikkinen, Miss. Laina  female  26.0      0   \n",
       "3          Futrelle, Mrs. Jacques Heath (Lily May Peel)  female  35.0      1   \n",
       "4                              Allen, Mr. William Henry    male  35.0      0   \n",
       "...                                                 ...     ...   ...    ...   \n",
       "1304                                 Spector, Mr. Woolf    male   NaN      0   \n",
       "1305                       Oliva y Ocana, Dona. Fermina  female  39.0      0   \n",
       "1306                       Saether, Mr. Simon Sivertsen    male  38.5      0   \n",
       "1307                                Ware, Mr. Frederick    male   NaN      0   \n",
       "1308                           Peter, Master. Michael J    male   NaN      1   \n",
       "\n",
       "      Parch              Ticket      Fare Cabin Embarked  Ticket_Count  \\\n",
       "0         0           A/5 21171    7.2500   NaN        S           1.0   \n",
       "1         0            PC 17599   71.2833   C85        C           2.0   \n",
       "2         0    STON/O2. 3101282    7.9250   NaN        S           1.0   \n",
       "3         0              113803   53.1000  C123        S           2.0   \n",
       "4         0              373450    8.0500   NaN        S           1.0   \n",
       "...     ...                 ...       ...   ...      ...           ...   \n",
       "1304      0           A.5. 3236    8.0500   NaN        S           1.0   \n",
       "1305      0            PC 17758  108.9000  C105        C           3.0   \n",
       "1306      0  SOTON/O.Q. 3101262    7.2500   NaN        S           1.0   \n",
       "1307      0              359309    8.0500   NaN        S           1.0   \n",
       "1308      1                2668   22.3583   NaN        C           3.0   \n",
       "\n",
       "          Price  Cabin_Count  \n",
       "0      7.250000            0  \n",
       "1     35.641650            1  \n",
       "2      7.925000            0  \n",
       "3     26.550000            1  \n",
       "4      8.050000            0  \n",
       "...         ...          ...  \n",
       "1304   8.050000            0  \n",
       "1305  36.300000            1  \n",
       "1306   7.250000            0  \n",
       "1307   8.050000            0  \n",
       "1308   7.452767            0  \n",
       "\n",
       "[1309 rows x 15 columns]"
      ]
     },
     "execution_count": 18,
     "metadata": {},
     "output_type": "execute_result"
    }
   ],
   "source": [
    "df"
   ]
  },
  {
   "cell_type": "markdown",
   "metadata": {},
   "source": [
    "- Now Replacing 0$ with nan so that we can alter it in next steps. "
   ]
  },
  {
   "cell_type": "code",
   "execution_count": 19,
   "metadata": {
    "execution": {
     "iopub.execute_input": "2023-03-02T08:17:12.904405Z",
     "iopub.status.busy": "2023-03-02T08:17:12.903949Z",
     "iopub.status.idle": "2023-03-02T08:17:12.911856Z",
     "shell.execute_reply": "2023-03-02T08:17:12.910212Z",
     "shell.execute_reply.started": "2023-03-02T08:17:12.904363Z"
    }
   },
   "outputs": [],
   "source": [
    "df['Price'].replace(to_replace=0,value=np.nan,inplace=True)"
   ]
  },
  {
   "cell_type": "markdown",
   "metadata": {},
   "source": [
    "- Creating a table which will give median value of Price on the basis of Sex, Ticket_count, and Cabin_Count "
   ]
  },
  {
   "cell_type": "code",
   "execution_count": 20,
   "metadata": {
    "execution": {
     "iopub.execute_input": "2023-03-02T08:17:13.364355Z",
     "iopub.status.busy": "2023-03-02T08:17:13.363352Z",
     "iopub.status.idle": "2023-03-02T08:17:13.375883Z",
     "shell.execute_reply": "2023-03-02T08:17:13.374770Z",
     "shell.execute_reply.started": "2023-03-02T08:17:13.364299Z"
    }
   },
   "outputs": [],
   "source": [
    "ddf =df.groupby(['Sex','Ticket_Count','Cabin_Count'])['Price'].median().reset_index()\n",
    "# ddf"
   ]
  },
  {
   "cell_type": "code",
   "execution_count": 21,
   "metadata": {
    "execution": {
     "iopub.execute_input": "2023-03-02T08:17:13.563355Z",
     "iopub.status.busy": "2023-03-02T08:17:13.562048Z",
     "iopub.status.idle": "2023-03-02T08:17:13.568665Z",
     "shell.execute_reply": "2023-03-02T08:17:13.567508Z",
     "shell.execute_reply.started": "2023-03-02T08:17:13.563311Z"
    }
   },
   "outputs": [],
   "source": [
    "df1 = df.copy()"
   ]
  },
  {
   "cell_type": "code",
   "execution_count": 22,
   "metadata": {
    "execution": {
     "iopub.execute_input": "2023-03-02T08:17:13.760960Z",
     "iopub.status.busy": "2023-03-02T08:17:13.760506Z",
     "iopub.status.idle": "2023-03-02T08:17:13.773833Z",
     "shell.execute_reply": "2023-03-02T08:17:13.772734Z",
     "shell.execute_reply.started": "2023-03-02T08:17:13.760918Z"
    }
   },
   "outputs": [],
   "source": [
    "df1 = pd.merge(df1,ddf, how='left',on=['Sex','Ticket_Count','Cabin_Count'])"
   ]
  },
  {
   "cell_type": "markdown",
   "metadata": {},
   "source": [
    "- Now we will fill the null values of Price as median price on the basis of Sex, Ticket_count , and Cabin_Count."
   ]
  },
  {
   "cell_type": "code",
   "execution_count": 23,
   "metadata": {
    "execution": {
     "iopub.execute_input": "2023-03-02T08:17:14.252453Z",
     "iopub.status.busy": "2023-03-02T08:17:14.252027Z",
     "iopub.status.idle": "2023-03-02T08:17:14.259426Z",
     "shell.execute_reply": "2023-03-02T08:17:14.257926Z",
     "shell.execute_reply.started": "2023-03-02T08:17:14.252414Z"
    }
   },
   "outputs": [],
   "source": [
    "df['Price'] =df['Price'].fillna(df1['Price_y'])"
   ]
  },
  {
   "cell_type": "markdown",
   "metadata": {},
   "source": [
    "- Still there are some null values simply putting median of Price there. "
   ]
  },
  {
   "cell_type": "code",
   "execution_count": 24,
   "metadata": {
    "execution": {
     "iopub.execute_input": "2023-03-02T08:17:15.264973Z",
     "iopub.status.busy": "2023-03-02T08:17:15.263557Z",
     "iopub.status.idle": "2023-03-02T08:17:15.270874Z",
     "shell.execute_reply": "2023-03-02T08:17:15.269976Z",
     "shell.execute_reply.started": "2023-03-02T08:17:15.264919Z"
    }
   },
   "outputs": [],
   "source": [
    "df['Price'].fillna(df['Price'].median(), inplace=True)"
   ]
  },
  {
   "cell_type": "code",
   "execution_count": 25,
   "metadata": {
    "execution": {
     "iopub.execute_input": "2023-03-02T08:17:15.630292Z",
     "iopub.status.busy": "2023-03-02T08:17:15.629447Z",
     "iopub.status.idle": "2023-03-02T08:17:15.977914Z",
     "shell.execute_reply": "2023-03-02T08:17:15.976515Z",
     "shell.execute_reply.started": "2023-03-02T08:17:15.630245Z"
    }
   },
   "outputs": [
    {
     "data": {
      "text/plain": [
       "<Axes: xlabel='Price', ylabel='Density'>"
      ]
     },
     "execution_count": 25,
     "metadata": {},
     "output_type": "execute_result"
    },
    {
     "data": {
      "image/png": "[encoded data removed]",
      "text/plain": [
       "<Figure size 640x480 with 1 Axes>"
      ]
     },
     "metadata": {},
     "output_type": "display_data"
    }
   ],
   "source": [
    "sns.distplot(df['Price'])"
   ]
  },
  {
   "cell_type": "markdown",
   "metadata": {},
   "source": [
    "## Insights:\n",
    "- Finally Distribution of Price column is looking good and clearly we can see 3 different sections.\n",
    "- 0-20 one section ,20 to 45 another section and 45 to above another class. \n",
    "- May be it represt the Price of Different Pclass.\n",
    "### we were able to convert the distribution range of Fare from 0 to 500 to range of 3 to 90.\n",
    "### Outlier analysis done"
   ]
  },
  {
   "cell_type": "markdown",
   "metadata": {},
   "source": [
    "## Now focusing on filling missing values"
   ]
  },
  {
   "cell_type": "code",
   "execution_count": 26,
   "metadata": {
    "execution": {
     "iopub.execute_input": "2023-03-02T08:17:16.751034Z",
     "iopub.status.busy": "2023-03-02T08:17:16.750593Z",
     "iopub.status.idle": "2023-03-02T08:17:16.762539Z",
     "shell.execute_reply": "2023-03-02T08:17:16.761329Z",
     "shell.execute_reply.started": "2023-03-02T08:17:16.750982Z"
    }
   },
   "outputs": [
    {
     "data": {
      "text/plain": [
       "PassengerId        0\n",
       "Survived         418\n",
       "Pclass             0\n",
       "Name               0\n",
       "Sex                0\n",
       "Age              263\n",
       "SibSp              0\n",
       "Parch              0\n",
       "Ticket             0\n",
       "Fare               1\n",
       "Cabin           1014\n",
       "Embarked           2\n",
       "Ticket_Count       1\n",
       "Price              0\n",
       "Cabin_Count        0\n",
       "dtype: int64"
      ]
     },
     "execution_count": 26,
     "metadata": {},
     "output_type": "execute_result"
    }
   ],
   "source": [
    "pd.isnull(df).sum()"
   ]
  },
  {
   "cell_type": "markdown",
   "metadata": {},
   "source": [
    "- Survived missing values is not we are worried about.\n",
    "- Lets try to fill the missing values of Age."
   ]
  },
  {
   "cell_type": "markdown",
   "metadata": {},
   "source": [
    "## Making a new feature title.\n",
    "- using the name column we will try to find  their title."
   ]
  },
  {
   "cell_type": "code",
   "execution_count": 27,
   "metadata": {
    "execution": {
     "iopub.execute_input": "2023-03-02T08:17:18.767853Z",
     "iopub.status.busy": "2023-03-02T08:17:18.766798Z",
     "iopub.status.idle": "2023-03-02T08:17:18.780944Z",
     "shell.execute_reply": "2023-03-02T08:17:18.779354Z",
     "shell.execute_reply.started": "2023-03-02T08:17:18.767811Z"
    }
   },
   "outputs": [],
   "source": [
    "df['title']  =df.Name.str.split(', ').str[1].str.split('. ').str[0]"
   ]
  },
  {
   "cell_type": "code",
   "execution_count": 28,
   "metadata": {
    "execution": {
     "iopub.execute_input": "2023-03-02T08:17:20.000765Z",
     "iopub.status.busy": "2023-03-02T08:17:19.999415Z",
     "iopub.status.idle": "2023-03-02T08:17:20.014303Z",
     "shell.execute_reply": "2023-03-02T08:17:20.012833Z",
     "shell.execute_reply.started": "2023-03-02T08:17:20.000700Z"
    }
   },
   "outputs": [
    {
     "data": {
      "text/plain": [
       "Mr          757\n",
       "Miss        260\n",
       "Mrs         197\n",
       "Master       61\n",
       "Rev           8\n",
       "Dr            8\n",
       "Col           4\n",
       "Mlle          2\n",
       "Major         2\n",
       "Ms            2\n",
       "Lady          1\n",
       "Sir           1\n",
       "Mme           1\n",
       "Don           1\n",
       "Capt          1\n",
       "th            1\n",
       "Jonkheer      1\n",
       "Dona          1\n",
       "Name: title, dtype: int64"
      ]
     },
     "execution_count": 28,
     "metadata": {},
     "output_type": "execute_result"
    }
   ],
   "source": [
    "df['title'].value_counts()"
   ]
  },
  {
   "cell_type": "markdown",
   "metadata": {},
   "source": [
    "There are so many title we need to make catagories of similer titles."
   ]
  },
  {
   "cell_type": "code",
   "execution_count": 29,
   "metadata": {
    "execution": {
     "iopub.execute_input": "2023-03-02T08:17:20.703725Z",
     "iopub.status.busy": "2023-03-02T08:17:20.702908Z",
     "iopub.status.idle": "2023-03-02T08:17:20.721129Z",
     "shell.execute_reply": "2023-03-02T08:17:20.719548Z",
     "shell.execute_reply.started": "2023-03-02T08:17:20.703683Z"
    }
   },
   "outputs": [],
   "source": [
    "df.loc[df.title.eq('Mrs'), 'title'] = 'Mrs'\n",
    "df.loc[df.title.eq('Mr'), 'title'] = 'Mr'\n",
    "\n",
    "df.loc[df.title.isin(['Miss','Ms']),'title'] = 'Miss'\n",
    "df.loc[df.title.eq('Master'),'title'] = 'Master'\n",
    "\n",
    "df.loc[~df.title.isin(['Mrs','Mr','Miss','Master']),'title'] = 'Celeb'"
   ]
  },
  {
   "cell_type": "markdown",
   "metadata": {},
   "source": [
    "- Mrs ,Mr, Master will as it is.\n",
    "- Miss and Ms will be as Miss.\n",
    "- Title not as Mrs ,Mr, Master ,Miss and Ms will be as Celeb"
   ]
  },
  {
   "cell_type": "code",
   "execution_count": 30,
   "metadata": {
    "execution": {
     "iopub.execute_input": "2023-03-02T08:17:21.129230Z",
     "iopub.status.busy": "2023-03-02T08:17:21.128336Z",
     "iopub.status.idle": "2023-03-02T08:17:21.150606Z",
     "shell.execute_reply": "2023-03-02T08:17:21.149660Z",
     "shell.execute_reply.started": "2023-03-02T08:17:21.129174Z"
    }
   },
   "outputs": [],
   "source": [
    "titles = list(df.title.unique())\n",
    "for title in titles:\n",
    "    df.loc[(df.Age.isna() & df.title.eq(title)), 'Age'] = df.loc[df.title.eq(title), 'Age'].median()"
   ]
  },
  {
   "cell_type": "markdown",
   "metadata": {},
   "source": [
    "### Filled the Age of pasangers as median Age on the basis of title from which this passenger belongs to. "
   ]
  },
  {
   "cell_type": "code",
   "execution_count": 31,
   "metadata": {
    "execution": {
     "iopub.execute_input": "2023-03-02T08:17:22.061142Z",
     "iopub.status.busy": "2023-03-02T08:17:22.060121Z",
     "iopub.status.idle": "2023-03-02T08:17:22.070162Z",
     "shell.execute_reply": "2023-03-02T08:17:22.069314Z",
     "shell.execute_reply.started": "2023-03-02T08:17:22.061102Z"
    }
   },
   "outputs": [
    {
     "data": {
      "text/plain": [
       "PassengerId        0\n",
       "Survived         418\n",
       "Pclass             0\n",
       "Name               0\n",
       "Sex                0\n",
       "Age                0\n",
       "SibSp              0\n",
       "Parch              0\n",
       "Ticket             0\n",
       "Fare               1\n",
       "Cabin           1014\n",
       "Embarked           2\n",
       "Ticket_Count       1\n",
       "Price              0\n",
       "Cabin_Count        0\n",
       "title              0\n",
       "dtype: int64"
      ]
     },
     "execution_count": 31,
     "metadata": {},
     "output_type": "execute_result"
    }
   ],
   "source": [
    "pd.isnull(df).sum()"
   ]
  },
  {
   "cell_type": "markdown",
   "metadata": {},
   "source": [
    "- missing 1 value in fare , 2 in Embarked and 1 in Ticket count. \n",
    "- We made Price column to replace Fare so no need to fill its null value.\n",
    "## After age lets fill missing values for Embarked"
   ]
  },
  {
   "cell_type": "code",
   "execution_count": 32,
   "metadata": {
    "execution": {
     "iopub.execute_input": "2023-03-02T08:17:22.626254Z",
     "iopub.status.busy": "2023-03-02T08:17:22.625125Z",
     "iopub.status.idle": "2023-03-02T08:17:22.647335Z",
     "shell.execute_reply": "2023-03-02T08:17:22.646307Z",
     "shell.execute_reply.started": "2023-03-02T08:17:22.626176Z"
    }
   },
   "outputs": [
    {
     "data": {
      "text/html": [
       "<div>\n",
       "<style scoped>\n",
       "    .dataframe tbody tr th:only-of-type {\n",
       "        vertical-align: middle;\n",
       "    }\n",
       "\n",
       "    .dataframe tbody tr th {\n",
       "        vertical-align: top;\n",
       "    }\n",
       "\n",
       "    .dataframe thead th {\n",
       "        text-align: right;\n",
       "    }\n",
       "</style>\n",
       "<table border=\"1\" class=\"dataframe\">\n",
       "  <thead>\n",
       "    <tr style=\"text-align: right;\">\n",
       "      <th></th>\n",
       "      <th>PassengerId</th>\n",
       "      <th>Survived</th>\n",
       "      <th>Pclass</th>\n",
       "      <th>Name</th>\n",
       "      <th>Sex</th>\n",
       "      <th>Age</th>\n",
       "      <th>SibSp</th>\n",
       "      <th>Parch</th>\n",
       "      <th>Ticket</th>\n",
       "      <th>Fare</th>\n",
       "      <th>Cabin</th>\n",
       "      <th>Embarked</th>\n",
       "      <th>Ticket_Count</th>\n",
       "      <th>Price</th>\n",
       "      <th>Cabin_Count</th>\n",
       "      <th>title</th>\n",
       "    </tr>\n",
       "  </thead>\n",
       "  <tbody>\n",
       "    <tr>\n",
       "      <th>61</th>\n",
       "      <td>62</td>\n",
       "      <td>1.0</td>\n",
       "      <td>1</td>\n",
       "      <td>Icard, Miss. Amelie</td>\n",
       "      <td>female</td>\n",
       "      <td>38.0</td>\n",
       "      <td>0</td>\n",
       "      <td>0</td>\n",
       "      <td>113572</td>\n",
       "      <td>80.0</td>\n",
       "      <td>B28</td>\n",
       "      <td>NaN</td>\n",
       "      <td>2.0</td>\n",
       "      <td>40.0</td>\n",
       "      <td>1</td>\n",
       "      <td>Miss</td>\n",
       "    </tr>\n",
       "    <tr>\n",
       "      <th>829</th>\n",
       "      <td>830</td>\n",
       "      <td>1.0</td>\n",
       "      <td>1</td>\n",
       "      <td>Stone, Mrs. George Nelson (Martha Evelyn)</td>\n",
       "      <td>female</td>\n",
       "      <td>62.0</td>\n",
       "      <td>0</td>\n",
       "      <td>0</td>\n",
       "      <td>113572</td>\n",
       "      <td>80.0</td>\n",
       "      <td>B28</td>\n",
       "      <td>NaN</td>\n",
       "      <td>2.0</td>\n",
       "      <td>40.0</td>\n",
       "      <td>1</td>\n",
       "      <td>Mrs</td>\n",
       "    </tr>\n",
       "  </tbody>\n",
       "</table>\n",
       "</div>"
      ],
      "text/plain": [
       "     PassengerId  Survived  Pclass                                       Name  \\\n",
       "61            62       1.0       1                        Icard, Miss. Amelie   \n",
       "829          830       1.0       1  Stone, Mrs. George Nelson (Martha Evelyn)   \n",
       "\n",
       "        Sex   Age  SibSp  Parch  Ticket  Fare Cabin Embarked  Ticket_Count  \\\n",
       "61   female  38.0      0      0  113572  80.0   B28      NaN           2.0   \n",
       "829  female  62.0      0      0  113572  80.0   B28      NaN           2.0   \n",
       "\n",
       "     Price  Cabin_Count title  \n",
       "61    40.0            1  Miss  \n",
       "829   40.0            1   Mrs  "
      ]
     },
     "execution_count": 32,
     "metadata": {},
     "output_type": "execute_result"
    }
   ],
   "source": [
    "df[df['Embarked'].isna()]"
   ]
  },
  {
   "cell_type": "markdown",
   "metadata": {},
   "source": [
    "- Google said Mrs Martha Evelyn Embarked from Charlestown, Massachusetts with her maid.  "
   ]
  },
  {
   "cell_type": "code",
   "execution_count": 33,
   "metadata": {
    "execution": {
     "iopub.execute_input": "2023-03-02T08:17:23.090055Z",
     "iopub.status.busy": "2023-03-02T08:17:23.088989Z",
     "iopub.status.idle": "2023-03-02T08:17:23.095803Z",
     "shell.execute_reply": "2023-03-02T08:17:23.094800Z",
     "shell.execute_reply.started": "2023-03-02T08:17:23.090014Z"
    }
   },
   "outputs": [],
   "source": [
    "df['Embarked'].fillna('C',inplace=True)"
   ]
  },
  {
   "cell_type": "markdown",
   "metadata": {},
   "source": [
    "There is one missing value in Ticket_Count lets check"
   ]
  },
  {
   "cell_type": "code",
   "execution_count": 34,
   "metadata": {
    "execution": {
     "iopub.execute_input": "2023-03-02T08:17:23.662561Z",
     "iopub.status.busy": "2023-03-02T08:17:23.662156Z",
     "iopub.status.idle": "2023-03-02T08:17:23.681080Z",
     "shell.execute_reply": "2023-03-02T08:17:23.679976Z",
     "shell.execute_reply.started": "2023-03-02T08:17:23.662526Z"
    }
   },
   "outputs": [
    {
     "data": {
      "text/html": [
       "<div>\n",
       "<style scoped>\n",
       "    .dataframe tbody tr th:only-of-type {\n",
       "        vertical-align: middle;\n",
       "    }\n",
       "\n",
       "    .dataframe tbody tr th {\n",
       "        vertical-align: top;\n",
       "    }\n",
       "\n",
       "    .dataframe thead th {\n",
       "        text-align: right;\n",
       "    }\n",
       "</style>\n",
       "<table border=\"1\" class=\"dataframe\">\n",
       "  <thead>\n",
       "    <tr style=\"text-align: right;\">\n",
       "      <th></th>\n",
       "      <th>PassengerId</th>\n",
       "      <th>Survived</th>\n",
       "      <th>Pclass</th>\n",
       "      <th>Name</th>\n",
       "      <th>Sex</th>\n",
       "      <th>Age</th>\n",
       "      <th>SibSp</th>\n",
       "      <th>Parch</th>\n",
       "      <th>Ticket</th>\n",
       "      <th>Fare</th>\n",
       "      <th>Cabin</th>\n",
       "      <th>Embarked</th>\n",
       "      <th>Ticket_Count</th>\n",
       "      <th>Price</th>\n",
       "      <th>Cabin_Count</th>\n",
       "      <th>title</th>\n",
       "    </tr>\n",
       "  </thead>\n",
       "  <tbody>\n",
       "    <tr>\n",
       "      <th>1043</th>\n",
       "      <td>1044</td>\n",
       "      <td>NaN</td>\n",
       "      <td>3</td>\n",
       "      <td>Storey, Mr. Thomas</td>\n",
       "      <td>male</td>\n",
       "      <td>60.5</td>\n",
       "      <td>0</td>\n",
       "      <td>0</td>\n",
       "      <td>3701</td>\n",
       "      <td>NaN</td>\n",
       "      <td>NaN</td>\n",
       "      <td>S</td>\n",
       "      <td>NaN</td>\n",
       "      <td>8.05</td>\n",
       "      <td>0</td>\n",
       "      <td>Mr</td>\n",
       "    </tr>\n",
       "  </tbody>\n",
       "</table>\n",
       "</div>"
      ],
      "text/plain": [
       "      PassengerId  Survived  Pclass                Name   Sex   Age  SibSp  \\\n",
       "1043         1044       NaN       3  Storey, Mr. Thomas  male  60.5      0   \n",
       "\n",
       "      Parch Ticket  Fare Cabin Embarked  Ticket_Count  Price  Cabin_Count  \\\n",
       "1043      0   3701   NaN   NaN        S           NaN   8.05            0   \n",
       "\n",
       "     title  \n",
       "1043    Mr  "
      ]
     },
     "execution_count": 34,
     "metadata": {},
     "output_type": "execute_result"
    }
   ],
   "source": [
    "df[df['Ticket_Count'].isna()]"
   ]
  },
  {
   "cell_type": "markdown",
   "metadata": {},
   "source": [
    "ok it should be 1 "
   ]
  },
  {
   "cell_type": "code",
   "execution_count": 35,
   "metadata": {
    "execution": {
     "iopub.execute_input": "2023-03-02T08:17:24.870541Z",
     "iopub.status.busy": "2023-03-02T08:17:24.869412Z",
     "iopub.status.idle": "2023-03-02T08:17:24.875852Z",
     "shell.execute_reply": "2023-03-02T08:17:24.874467Z",
     "shell.execute_reply.started": "2023-03-02T08:17:24.870497Z"
    }
   },
   "outputs": [],
   "source": [
    "df['Ticket_Count'].fillna(1,inplace=True)"
   ]
  },
  {
   "cell_type": "markdown",
   "metadata": {},
   "source": [
    "## Making New Feature Family count "
   ]
  },
  {
   "cell_type": "code",
   "execution_count": 36,
   "metadata": {
    "execution": {
     "iopub.execute_input": "2023-03-02T08:17:26.799236Z",
     "iopub.status.busy": "2023-03-02T08:17:26.798805Z",
     "iopub.status.idle": "2023-03-02T08:17:26.806152Z",
     "shell.execute_reply": "2023-03-02T08:17:26.804658Z",
     "shell.execute_reply.started": "2023-03-02T08:17:26.799197Z"
    }
   },
   "outputs": [],
   "source": [
    "df['family']= 1+ df['SibSp'] + df['Parch']"
   ]
  },
  {
   "cell_type": "code",
   "execution_count": null,
   "metadata": {},
   "outputs": [],
   "source": [
    "## Creating New "
   ]
  },
  {
   "cell_type": "code",
   "execution_count": 37,
   "metadata": {},
   "outputs": [],
   "source": [
    "def is_alone_cabin(df):\n",
    "    df['IsAlone'] = 1\n",
    "    df['IsAlone'].loc[df['family'] > 1] = 0\n",
    "    df['IsCabin'] = 1 \n",
    "    df['IsCabin'].loc[df['Cabin'].isna()] = 0\n",
    "    return df"
   ]
  },
  {
   "cell_type": "code",
   "execution_count": 38,
   "metadata": {},
   "outputs": [],
   "source": [
    "df = is_alone_cabin(df)"
   ]
  },
  {
   "cell_type": "code",
   "execution_count": 39,
   "metadata": {},
   "outputs": [],
   "source": [
    "df['Age_Range']=pd.cut(df['Age'],6,labels=[1,2,3,4,5,6])"
   ]
  },
  {
   "cell_type": "code",
   "execution_count": 41,
   "metadata": {},
   "outputs": [],
   "source": [
    "df['Fare'].fillna(df['Fare'].mean(),inplace=True)"
   ]
  },
  {
   "cell_type": "code",
   "execution_count": 42,
   "metadata": {},
   "outputs": [],
   "source": [
    "df['c*f']= df['Fare']*df['Pclass']"
   ]
  },
  {
   "cell_type": "markdown",
   "metadata": {},
   "source": [
    "# EDA"
   ]
  },
  {
   "cell_type": "code",
   "execution_count": 43,
   "metadata": {
    "execution": {
     "iopub.execute_input": "2023-03-02T08:17:27.670586Z",
     "iopub.status.busy": "2023-03-02T08:17:27.670162Z",
     "iopub.status.idle": "2023-03-02T08:17:27.677184Z",
     "shell.execute_reply": "2023-03-02T08:17:27.675754Z",
     "shell.execute_reply.started": "2023-03-02T08:17:27.670547Z"
    }
   },
   "outputs": [],
   "source": [
    "def show_val(x):\n",
    "    sns.catplot(x = x, y ='Survived', data=df, kind='bar', n_boot=1)\n",
    "    plt.title(f'{x} vs Survival ')\n",
    "    plt.show()\n",
    "    print(df.groupby(x)['Survived'].mean().reset_index())"
   ]
  },
  {
   "cell_type": "code",
   "execution_count": 45,
   "metadata": {},
   "outputs": [
    {
     "data": {
      "image/png": "[encoded data removed]",
      "text/plain": [
       "<Figure size 500x500 with 1 Axes>"
      ]
     },
     "metadata": {},
     "output_type": "display_data"
    },
    {
     "name": "stdout",
     "output_type": "stream",
     "text": [
      "  Age_Range  Survived\n",
      "0         1  0.586667\n",
      "1         2  0.387324\n",
      "2         3  0.349081\n",
      "3         4  0.386139\n",
      "4         5  0.348837\n",
      "5         6  0.142857\n"
     ]
    }
   ],
   "source": [
    "show_val('Age_Range')"
   ]
  },
  {
   "cell_type": "code",
   "execution_count": 46,
   "metadata": {},
   "outputs": [
    {
     "data": {
      "image/png": "[encoded data removed]",
      "text/plain": [
       "<Figure size 500x500 with 1 Axes>"
      ]
     },
     "metadata": {},
     "output_type": "display_data"
    },
    {
     "name": "stdout",
     "output_type": "stream",
     "text": [
      "   IsAlone  Survived\n",
      "0        0  0.505650\n",
      "1        1  0.303538\n"
     ]
    }
   ],
   "source": [
    "show_val('IsAlone')"
   ]
  },
  {
   "cell_type": "code",
   "execution_count": 47,
   "metadata": {},
   "outputs": [
    {
     "data": {
      "image/png": "[encoded data removed]",
      "text/plain": [
       "<Figure size 500x500 with 1 Axes>"
      ]
     },
     "metadata": {},
     "output_type": "display_data"
    },
    {
     "name": "stdout",
     "output_type": "stream",
     "text": [
      "   IsCabin  Survived\n",
      "0        0  0.299854\n",
      "1        1  0.666667\n"
     ]
    }
   ],
   "source": [
    "show_val('IsCabin')"
   ]
  },
  {
   "cell_type": "code",
   "execution_count": 48,
   "metadata": {
    "execution": {
     "iopub.execute_input": "2023-03-02T08:17:28.599234Z",
     "iopub.status.busy": "2023-03-02T08:17:28.598546Z",
     "iopub.status.idle": "2023-03-02T08:17:28.885757Z",
     "shell.execute_reply": "2023-03-02T08:17:28.882875Z",
     "shell.execute_reply.started": "2023-03-02T08:17:28.599184Z"
    }
   },
   "outputs": [
    {
     "data": {
      "image/png": "[encoded data removed]",
      "text/plain": [
       "<Figure size 500x500 with 1 Axes>"
      ]
     },
     "metadata": {},
     "output_type": "display_data"
    },
    {
     "name": "stdout",
     "output_type": "stream",
     "text": [
      "      Sex  Survived\n",
      "0  female  0.742038\n",
      "1    male  0.188908\n"
     ]
    }
   ],
   "source": [
    "show_val('Sex')"
   ]
  },
  {
   "cell_type": "markdown",
   "metadata": {},
   "source": [
    "Insights:\n",
    "- Male survival chance: 19%\n",
    "- Female survival chance 74%"
   ]
  },
  {
   "cell_type": "code",
   "execution_count": 49,
   "metadata": {
    "execution": {
     "iopub.execute_input": "2023-03-02T08:17:30.045704Z",
     "iopub.status.busy": "2023-03-02T08:17:30.045304Z",
     "iopub.status.idle": "2023-03-02T08:17:30.331090Z",
     "shell.execute_reply": "2023-03-02T08:17:30.329849Z",
     "shell.execute_reply.started": "2023-03-02T08:17:30.045670Z"
    }
   },
   "outputs": [
    {
     "data": {
      "image/png": "[encoded data removed]",
      "text/plain": [
       "<Figure size 500x500 with 1 Axes>"
      ]
     },
     "metadata": {},
     "output_type": "display_data"
    },
    {
     "name": "stdout",
     "output_type": "stream",
     "text": [
      "   Pclass  Survived\n",
      "0       1  0.629630\n",
      "1       2  0.472826\n",
      "2       3  0.242363\n"
     ]
    }
   ],
   "source": [
    "show_val('Pclass')"
   ]
  },
  {
   "cell_type": "markdown",
   "metadata": {},
   "source": [
    "Insights:\n",
    "- Pclass 1 survival chance: 63%\n",
    "- Pclass 2 survival chance 47%\n",
    "- Pclass 3 survival chance 24%"
   ]
  },
  {
   "cell_type": "code",
   "execution_count": 50,
   "metadata": {
    "execution": {
     "iopub.execute_input": "2023-03-02T08:17:31.068155Z",
     "iopub.status.busy": "2023-03-02T08:17:31.067692Z",
     "iopub.status.idle": "2023-03-02T08:17:31.376556Z",
     "shell.execute_reply": "2023-03-02T08:17:31.375267Z",
     "shell.execute_reply.started": "2023-03-02T08:17:31.068115Z"
    }
   },
   "outputs": [
    {
     "data": {
      "image/png": "[encoded data removed]",
      "text/plain": [
       "<Figure size 500x500 with 1 Axes>"
      ]
     },
     "metadata": {},
     "output_type": "display_data"
    },
    {
     "name": "stdout",
     "output_type": "stream",
     "text": [
      "   SibSp  Survived\n",
      "0      0  0.345395\n",
      "1      1  0.535885\n",
      "2      2  0.464286\n",
      "3      3  0.250000\n",
      "4      4  0.166667\n",
      "5      5  0.000000\n",
      "6      8  0.000000\n"
     ]
    }
   ],
   "source": [
    "show_val('SibSp')"
   ]
  },
  {
   "cell_type": "markdown",
   "metadata": {},
   "source": [
    "Insights:\n",
    "- 0% survival rate for  SibSp as 5 and 8\n",
    "- Good survival changes for SibSp as 1 and 2"
   ]
  },
  {
   "cell_type": "code",
   "execution_count": 51,
   "metadata": {
    "execution": {
     "iopub.execute_input": "2023-03-02T08:17:32.969546Z",
     "iopub.status.busy": "2023-03-02T08:17:32.968476Z",
     "iopub.status.idle": "2023-03-02T08:17:33.290485Z",
     "shell.execute_reply": "2023-03-02T08:17:33.289223Z",
     "shell.execute_reply.started": "2023-03-02T08:17:32.969493Z"
    }
   },
   "outputs": [
    {
     "data": {
      "image/png": "[encoded data removed]",
      "text/plain": [
       "<Figure size 500x500 with 1 Axes>"
      ]
     },
     "metadata": {},
     "output_type": "display_data"
    },
    {
     "name": "stdout",
     "output_type": "stream",
     "text": [
      "   Parch  Survived\n",
      "0      0  0.343658\n",
      "1      1  0.550847\n",
      "2      2  0.500000\n",
      "3      3  0.600000\n",
      "4      4  0.000000\n",
      "5      5  0.200000\n",
      "6      6  0.000000\n",
      "7      9       NaN\n"
     ]
    }
   ],
   "source": [
    "show_val('Parch')"
   ]
  },
  {
   "cell_type": "markdown",
   "metadata": {},
   "source": [
    "## Insight:\n",
    "- 0% survival chances for Parch: 4 ,6 and 9\n",
    "- 60% survival chance for Parchas 3"
   ]
  },
  {
   "cell_type": "code",
   "execution_count": 52,
   "metadata": {
    "execution": {
     "iopub.execute_input": "2023-03-02T08:17:34.657175Z",
     "iopub.status.busy": "2023-03-02T08:17:34.656722Z",
     "iopub.status.idle": "2023-03-02T08:17:34.941507Z",
     "shell.execute_reply": "2023-03-02T08:17:34.940092Z",
     "shell.execute_reply.started": "2023-03-02T08:17:34.657140Z"
    }
   },
   "outputs": [
    {
     "data": {
      "image/png": "[encoded data removed]",
      "text/plain": [
       "<Figure size 500x500 with 1 Axes>"
      ]
     },
     "metadata": {},
     "output_type": "display_data"
    },
    {
     "name": "stdout",
     "output_type": "stream",
     "text": [
      "  Embarked  Survived\n",
      "0        C  0.558824\n",
      "1        Q  0.389610\n",
      "2        S  0.336957\n"
     ]
    }
   ],
   "source": [
    "show_val('Embarked')"
   ]
  },
  {
   "cell_type": "markdown",
   "metadata": {},
   "source": [
    "## Insights:\n",
    "More Surival chances for those who embarked from C but it is also like 50-50"
   ]
  },
  {
   "cell_type": "code",
   "execution_count": 53,
   "metadata": {
    "execution": {
     "iopub.execute_input": "2023-03-02T08:17:35.626621Z",
     "iopub.status.busy": "2023-03-02T08:17:35.625955Z",
     "iopub.status.idle": "2023-03-02T08:17:35.971083Z",
     "shell.execute_reply": "2023-03-02T08:17:35.969731Z",
     "shell.execute_reply.started": "2023-03-02T08:17:35.626580Z"
    }
   },
   "outputs": [
    {
     "data": {
      "image/png": "[encoded data removed]",
      "text/plain": [
       "<Figure size 500x500 with 1 Axes>"
      ]
     },
     "metadata": {},
     "output_type": "display_data"
    },
    {
     "name": "stdout",
     "output_type": "stream",
     "text": [
      "   Ticket_Count  Survived\n",
      "0           1.0  0.269151\n",
      "1           2.0  0.519553\n",
      "2           3.0  0.653465\n",
      "3           4.0  0.727273\n",
      "4           5.0  0.333333\n",
      "5           6.0  0.210526\n",
      "6           7.0  0.208333\n",
      "7           8.0  0.384615\n",
      "8          11.0  0.000000\n"
     ]
    }
   ],
   "source": [
    "show_val('Ticket_Count')"
   ]
  },
  {
   "cell_type": "markdown",
   "metadata": {},
   "source": [
    "## Insights:\n",
    "- Ticket count as 4 and 3 is more survival chances.\n",
    "- Ticket count as 11 ,6 and 7 have very low chances"
   ]
  },
  {
   "cell_type": "code",
   "execution_count": 54,
   "metadata": {
    "execution": {
     "iopub.execute_input": "2023-03-02T08:17:54.387578Z",
     "iopub.status.busy": "2023-03-02T08:17:54.387131Z",
     "iopub.status.idle": "2023-03-02T08:17:54.826531Z",
     "shell.execute_reply": "2023-03-02T08:17:54.825415Z",
     "shell.execute_reply.started": "2023-03-02T08:17:54.387542Z"
    }
   },
   "outputs": [
    {
     "data": {
      "image/png": "[encoded data removed]",
      "text/plain": [
       "<Figure size 500x500 with 1 Axes>"
      ]
     },
     "metadata": {},
     "output_type": "display_data"
    },
    {
     "name": "stdout",
     "output_type": "stream",
     "text": [
      "   Cabin_Count  Survived\n",
      "0            0  0.299854\n",
      "1            1  0.677778\n",
      "2            2  0.562500\n",
      "3            3  0.500000\n",
      "4            4  1.000000\n"
     ]
    }
   ],
   "source": [
    "show_val('Cabin_Count')"
   ]
  },
  {
   "cell_type": "markdown",
   "metadata": {},
   "source": [
    "## Insights:\n",
    "- Those who got 4 cabins they all survived.\n",
    "-those who got 1 cabin they allso have more than 50% chance."
   ]
  },
  {
   "cell_type": "code",
   "execution_count": 55,
   "metadata": {
    "execution": {
     "iopub.execute_input": "2023-03-02T08:17:56.068614Z",
     "iopub.status.busy": "2023-03-02T08:17:56.068202Z",
     "iopub.status.idle": "2023-03-02T08:17:56.368193Z",
     "shell.execute_reply": "2023-03-02T08:17:56.366832Z",
     "shell.execute_reply.started": "2023-03-02T08:17:56.068581Z"
    }
   },
   "outputs": [
    {
     "data": {
      "image/png": "[encoded data removed]",
      "text/plain": [
       "<Figure size 500x500 with 1 Axes>"
      ]
     },
     "metadata": {},
     "output_type": "display_data"
    },
    {
     "name": "stdout",
     "output_type": "stream",
     "text": [
      "    title  Survived\n",
      "0   Celeb  0.423077\n",
      "1  Master  0.575000\n",
      "2    Miss  0.699454\n",
      "3      Mr  0.156673\n",
      "4     Mrs  0.792000\n"
     ]
    }
   ],
   "source": [
    "show_val('title')"
   ]
  },
  {
   "cell_type": "markdown",
   "metadata": {},
   "source": [
    "# Insights:\n",
    "- Mrs , Miss have more chanes of survival"
   ]
  },
  {
   "cell_type": "code",
   "execution_count": 56,
   "metadata": {
    "execution": {
     "iopub.execute_input": "2023-03-02T08:17:58.272036Z",
     "iopub.status.busy": "2023-03-02T08:17:58.271567Z",
     "iopub.status.idle": "2023-03-02T08:17:58.529404Z",
     "shell.execute_reply": "2023-03-02T08:17:58.528153Z",
     "shell.execute_reply.started": "2023-03-02T08:17:58.271982Z"
    }
   },
   "outputs": [
    {
     "data": {
      "image/png": "[encoded data removed]",
      "text/plain": [
       "<Figure size 500x500 with 1 Axes>"
      ]
     },
     "metadata": {},
     "output_type": "display_data"
    },
    {
     "name": "stdout",
     "output_type": "stream",
     "text": [
      "   family  Survived\n",
      "0       1  0.303538\n",
      "1       2  0.552795\n",
      "2       3  0.578431\n",
      "3       4  0.724138\n",
      "4       5  0.200000\n",
      "5       6  0.136364\n",
      "6       7  0.333333\n",
      "7       8  0.000000\n",
      "8      11  0.000000\n"
     ]
    }
   ],
   "source": [
    "show_val('family')"
   ]
  },
  {
   "cell_type": "markdown",
   "metadata": {},
   "source": [
    "## Insights:\n",
    "- Family size as 11 and 8 have 0% surtvival rate.\n",
    "- Family size as 6,5,1 have very low chances.\n",
    "- Family size as 4 and 3 have more Surival chances."
   ]
  },
  {
   "cell_type": "code",
   "execution_count": 57,
   "metadata": {},
   "outputs": [
    {
     "data": {
      "image/png": "[encoded data removed]",
      "text/plain": [
       "<Figure size 1272.11x300 with 1 Axes>"
      ]
     },
     "metadata": {},
     "output_type": "display_data"
    }
   ],
   "source": [
    "facet = sns.FacetGrid(train_df, hue=\"Survived\",aspect=4)\n",
    "facet.map(sns.kdeplot,'Age',shade= True)\n",
    "facet.set(xlim=(0, train_df['Age'].max()))\n",
    "facet.add_legend()\n",
    " \n",
    "plt.show() "
   ]
  },
  {
   "cell_type": "code",
   "execution_count": 58,
   "metadata": {},
   "outputs": [
    {
     "data": {
      "image/png": "[encoded data removed]",
      "text/plain": [
       "<Figure size 1272.11x300 with 1 Axes>"
      ]
     },
     "metadata": {},
     "output_type": "display_data"
    }
   ],
   "source": [
    "facet = sns.FacetGrid(df, hue=\"Survived\",aspect=4)\n",
    "facet.map(sns.kdeplot,'Price',shade= True)\n",
    "facet.set(xlim=(0, df['Price'].max()))\n",
    "facet.add_legend()\n",
    " \n",
    "plt.show()  "
   ]
  },
  {
   "cell_type": "markdown",
   "metadata": {},
   "source": [
    "## Droping Unused columns"
   ]
  },
  {
   "cell_type": "code",
   "execution_count": 59,
   "metadata": {
    "execution": {
     "iopub.execute_input": "2023-03-02T08:18:02.668674Z",
     "iopub.status.busy": "2023-03-02T08:18:02.668256Z",
     "iopub.status.idle": "2023-03-02T08:18:02.676426Z",
     "shell.execute_reply": "2023-03-02T08:18:02.674903Z",
     "shell.execute_reply.started": "2023-03-02T08:18:02.668639Z"
    }
   },
   "outputs": [],
   "source": [
    "df.drop(['Fare','family'],axis=1,inplace=True)"
   ]
  },
  {
   "cell_type": "markdown",
   "metadata": {},
   "source": [
    "## One-Hot-Encoding\n",
    "- many columns are already label encoded but some text catagorical columns needs one hot encoding"
   ]
  },
  {
   "cell_type": "code",
   "execution_count": 60,
   "metadata": {
    "execution": {
     "iopub.execute_input": "2023-03-02T08:18:08.363552Z",
     "iopub.status.busy": "2023-03-02T08:18:08.363120Z",
     "iopub.status.idle": "2023-03-02T08:18:08.369640Z",
     "shell.execute_reply": "2023-03-02T08:18:08.368369Z",
     "shell.execute_reply.started": "2023-03-02T08:18:08.363513Z"
    }
   },
   "outputs": [],
   "source": [
    "# def dum(df,x):\n",
    "#     dum1 = pd.get_dummies(df[x], drop_first=True)\n",
    "#     df = pd.concat([df,dum1],axis=1)\n",
    "#     df.drop(x,axis=1,inplace=True)\n",
    "#     return df\n",
    "        "
   ]
  },
  {
   "cell_type": "code",
   "execution_count": 61,
   "metadata": {
    "execution": {
     "iopub.execute_input": "2023-03-02T08:18:10.376452Z",
     "iopub.status.busy": "2023-03-02T08:18:10.376011Z",
     "iopub.status.idle": "2023-03-02T08:18:10.395763Z",
     "shell.execute_reply": "2023-03-02T08:18:10.394366Z",
     "shell.execute_reply.started": "2023-03-02T08:18:10.376414Z"
    }
   },
   "outputs": [],
   "source": [
    "# for i in ['Sex','Embarked','title']:\n",
    "#     df = dum(df ,i)"
   ]
  },
  {
   "cell_type": "markdown",
   "metadata": {},
   "source": [
    "- One hot encoding for Sex, Embarked and title columns."
   ]
  },
  {
   "cell_type": "code",
   "execution_count": 62,
   "metadata": {
    "execution": {
     "iopub.execute_input": "2023-03-02T08:22:29.883920Z",
     "iopub.status.busy": "2023-03-02T08:22:29.882581Z",
     "iopub.status.idle": "2023-03-02T08:22:29.895668Z",
     "shell.execute_reply": "2023-03-02T08:22:29.894349Z",
     "shell.execute_reply.started": "2023-03-02T08:22:29.883865Z"
    }
   },
   "outputs": [
    {
     "data": {
      "text/plain": [
       "Survived        1.000000\n",
       "IsCabin         0.316912\n",
       "Price           0.277940\n",
       "Cabin_Count     0.277053\n",
       "c*f             0.183627\n",
       "Parch           0.081629\n",
       "Ticket_Count    0.065920\n",
       "PassengerId    -0.005007\n",
       "SibSp          -0.035322\n",
       "Age            -0.071235\n",
       "IsAlone        -0.203367\n",
       "Pclass         -0.338481\n",
       "Name: Survived, dtype: float64"
      ]
     },
     "execution_count": 62,
     "metadata": {},
     "output_type": "execute_result"
    }
   ],
   "source": [
    "correlation = df.corr()['Survived'].sort_values(ascending=False)\n",
    "correlation"
   ]
  },
  {
   "cell_type": "code",
   "execution_count": 63,
   "metadata": {
    "execution": {
     "iopub.execute_input": "2023-03-02T08:21:26.795985Z",
     "iopub.status.busy": "2023-03-02T08:21:26.795136Z",
     "iopub.status.idle": "2023-03-02T08:21:27.075114Z",
     "shell.execute_reply": "2023-03-02T08:21:27.073933Z",
     "shell.execute_reply.started": "2023-03-02T08:21:26.795940Z"
    }
   },
   "outputs": [
    {
     "data": {
      "image/png": "[encoded data removed]",
      "text/plain": [
       "<Figure size 1000x500 with 1 Axes>"
      ]
     },
     "metadata": {},
     "output_type": "display_data"
    }
   ],
   "source": [
    "correlation[1:].plot(kind='bar', figsize=(10,5), title='Correlation to Survival')\n",
    "plt.show()"
   ]
  },
  {
   "cell_type": "code",
   "execution_count": null,
   "metadata": {},
   "outputs": [],
   "source": []
  },
  {
   "cell_type": "markdown",
   "metadata": {},
   "source": [
    "## Well correlations map says it all:\n",
    "- Male with Mr title Traveling in Pclass 3 and Embarked from Southampton mostly died.\n",
    "- Females with Mrs and Miss title who booked 4 Cabins have higher chances of survival.\n",
    "- We can bet better insights if we do one hot encoding on family count, cabin count and ticket count. but for now we will leave it."
   ]
  },
  {
   "cell_type": "markdown",
   "metadata": {},
   "source": [
    "### now cuting data set to test and train dataset again as we joined then above."
   ]
  },
  {
   "cell_type": "code",
   "execution_count": 64,
   "metadata": {
    "execution": {
     "iopub.execute_input": "2023-03-02T08:18:13.526597Z",
     "iopub.status.busy": "2023-03-02T08:18:13.526198Z",
     "iopub.status.idle": "2023-03-02T08:18:13.533842Z",
     "shell.execute_reply": "2023-03-02T08:18:13.532957Z",
     "shell.execute_reply.started": "2023-03-02T08:18:13.526563Z"
    }
   },
   "outputs": [],
   "source": [
    "test = df[df['PassengerId']>=892]\n",
    "train = df[df['PassengerId']<892]"
   ]
  },
  {
   "cell_type": "markdown",
   "metadata": {},
   "source": [
    "### Droping PassengerId from train and test dataset."
   ]
  },
  {
   "cell_type": "code",
   "execution_count": 65,
   "metadata": {
    "execution": {
     "iopub.execute_input": "2023-03-02T08:18:14.168656Z",
     "iopub.status.busy": "2023-03-02T08:18:14.167897Z",
     "iopub.status.idle": "2023-03-02T08:18:14.175576Z",
     "shell.execute_reply": "2023-03-02T08:18:14.174413Z",
     "shell.execute_reply.started": "2023-03-02T08:18:14.168613Z"
    }
   },
   "outputs": [],
   "source": [
    "train.drop('PassengerId',axis=1,inplace=True)\n",
    "test.drop('PassengerId',axis=1,inplace=True)"
   ]
  },
  {
   "cell_type": "code",
   "execution_count": 66,
   "metadata": {},
   "outputs": [],
   "source": [
    "import category_encoders as ce\n",
    "target = train['Survived']\n",
    "# Define catboost encoder\n",
    "cbe_encoder = ce.cat_boost.CatBoostEncoder()\n",
    "  \n",
    "# Fit encoder and transform the features\n",
    "cbe_encoder.fit(train, target)\n",
    "train = cbe_encoder.transform(train)\n",
    "\n",
    "test = cbe_encoder.transform(test)"
   ]
  },
  {
   "cell_type": "code",
   "execution_count": 67,
   "metadata": {},
   "outputs": [
    {
     "data": {
      "text/plain": [
       "Survived        1.000000\n",
       "title           0.564852\n",
       "Ticket          0.552837\n",
       "Sex             0.543351\n",
       "Cabin           0.376591\n",
       "IsCabin         0.316912\n",
       "Price           0.277940\n",
       "Cabin_Count     0.277053\n",
       "c*f             0.183627\n",
       "Embarked        0.177288\n",
       "Age_Range       0.137843\n",
       "Parch           0.081629\n",
       "Ticket_Count    0.065920\n",
       "SibSp          -0.035322\n",
       "Age            -0.071235\n",
       "IsAlone        -0.203367\n",
       "Pclass         -0.338481\n",
       "Name                 NaN\n",
       "Name: Survived, dtype: float64"
      ]
     },
     "execution_count": 67,
     "metadata": {},
     "output_type": "execute_result"
    }
   ],
   "source": [
    "correlation = train.corr()['Survived'].sort_values(ascending=False)\n",
    "correlation"
   ]
  },
  {
   "cell_type": "code",
   "execution_count": 69,
   "metadata": {},
   "outputs": [
    {
     "data": {
      "image/png": "[encoded data removed]",
      "text/plain": [
       "<Figure size 1000x500 with 1 Axes>"
      ]
     },
     "metadata": {},
     "output_type": "display_data"
    }
   ],
   "source": [
    "correlation[1:].plot(kind='bar', figsize=(10,5), title='Correlation to Survival')\n",
    "plt.show()"
   ]
  },
  {
   "cell_type": "code",
   "execution_count": 70,
   "metadata": {},
   "outputs": [
    {
     "data": {
      "text/plain": [
       "<Axes: >"
      ]
     },
     "execution_count": 70,
     "metadata": {},
     "output_type": "execute_result"
    },
    {
     "data": {
      "image/png": "[encoded data removed]",
      "text/plain": [
       "<Figure size 640x480 with 1 Axes>"
      ]
     },
     "metadata": {},
     "output_type": "display_data"
    }
   ],
   "source": [
    "sns.heatmap(train.isnull(), yticklabels=False, cbar=False, cmap='viridis')"
   ]
  },
  {
   "cell_type": "code",
   "execution_count": 71,
   "metadata": {},
   "outputs": [
    {
     "data": {
      "text/plain": [
       "<Axes: >"
      ]
     },
     "execution_count": 71,
     "metadata": {},
     "output_type": "execute_result"
    },
    {
     "data": {
      "image/png": "[encoded data removed]",
      "text/plain": [
       "<Figure size 640x480 with 1 Axes>"
      ]
     },
     "metadata": {},
     "output_type": "display_data"
    }
   ],
   "source": [
    "sns.heatmap(test.isnull(), yticklabels=False, cbar=False, cmap='viridis')"
   ]
  },
  {
   "cell_type": "code",
   "execution_count": 72,
   "metadata": {
    "execution": {
     "iopub.execute_input": "2023-03-02T08:33:54.084389Z",
     "iopub.status.busy": "2023-03-02T08:33:54.083963Z",
     "iopub.status.idle": "2023-03-02T08:33:54.089629Z",
     "shell.execute_reply": "2023-03-02T08:33:54.088628Z",
     "shell.execute_reply.started": "2023-03-02T08:33:54.084352Z"
    }
   },
   "outputs": [],
   "source": [
    "from sklearn.model_selection import train_test_split, cross_val_score"
   ]
  },
  {
   "cell_type": "code",
   "execution_count": null,
   "metadata": {},
   "outputs": [],
   "source": []
  },
  {
   "cell_type": "code",
   "execution_count": 73,
   "metadata": {
    "execution": {
     "iopub.execute_input": "2023-03-02T08:34:01.848388Z",
     "iopub.status.busy": "2023-03-02T08:34:01.847955Z",
     "iopub.status.idle": "2023-03-02T08:34:01.854954Z",
     "shell.execute_reply": "2023-03-02T08:34:01.853983Z",
     "shell.execute_reply.started": "2023-03-02T08:34:01.848352Z"
    }
   },
   "outputs": [],
   "source": [
    "x = train.drop('Survived',axis=1)\n",
    "y = train['Survived']"
   ]
  },
  {
   "cell_type": "markdown",
   "metadata": {},
   "source": [
    "### Spliting dataset into train and test dataset"
   ]
  },
  {
   "cell_type": "code",
   "execution_count": 74,
   "metadata": {
    "execution": {
     "iopub.execute_input": "2023-03-02T08:34:04.003667Z",
     "iopub.status.busy": "2023-03-02T08:34:04.002489Z",
     "iopub.status.idle": "2023-03-02T08:34:04.011032Z",
     "shell.execute_reply": "2023-03-02T08:34:04.009886Z",
     "shell.execute_reply.started": "2023-03-02T08:34:04.003620Z"
    }
   },
   "outputs": [],
   "source": [
    "x_train, x_test, y_train, y_test = train_test_split(x, y, test_size=0.40)"
   ]
  },
  {
   "cell_type": "markdown",
   "metadata": {},
   "source": [
    "- This is the parameter I am using for cat plot."
   ]
  },
  {
   "cell_type": "code",
   "execution_count": 75,
   "metadata": {
    "execution": {
     "iopub.execute_input": "2023-03-02T08:35:06.991222Z",
     "iopub.status.busy": "2023-03-02T08:35:06.990602Z",
     "iopub.status.idle": "2023-03-02T08:35:06.999297Z",
     "shell.execute_reply": "2023-03-02T08:35:06.997718Z",
     "shell.execute_reply.started": "2023-03-02T08:35:06.991171Z"
    }
   },
   "outputs": [],
   "source": [
    "best_params = {'border_count': 64, 'depth': 7, 'iterations': 200, 'l2_leaf_reg': 1, 'learning_rate': 0.01, 'random_strength': 5}"
   ]
  },
  {
   "cell_type": "markdown",
   "metadata": {},
   "source": [
    "### Ensambling\n",
    "- Now i am using some models together to predict better result.\n",
    "- Use grid search for hyperparamet tuning.I am using random values."
   ]
  },
  {
   "cell_type": "code",
   "execution_count": 76,
   "metadata": {
    "execution": {
     "iopub.execute_input": "2023-03-02T08:37:41.191643Z",
     "iopub.status.busy": "2023-03-02T08:37:41.191236Z",
     "iopub.status.idle": "2023-03-02T08:37:41.198110Z",
     "shell.execute_reply": "2023-03-02T08:37:41.196808Z",
     "shell.execute_reply.started": "2023-03-02T08:37:41.191609Z"
    }
   },
   "outputs": [],
   "source": [
    "from sklearn import ensemble ,gaussian_process, naive_bayes, neighbors,svm,tree, discriminant_analysis, linear_model\n",
    "from catboost import CatBoostClassifier\n",
    "from xgboost import XGBClassifier\n",
    "from sklearn.metrics import classification_report , confusion_matrix"
   ]
  },
  {
   "cell_type": "markdown",
   "metadata": {},
   "source": [
    "- I am using 16 different models to make my ensamble model"
   ]
  },
  {
   "cell_type": "code",
   "execution_count": 77,
   "metadata": {
    "execution": {
     "iopub.execute_input": "2023-03-02T08:18:21.357720Z",
     "iopub.status.busy": "2023-03-02T08:18:21.356755Z",
     "iopub.status.idle": "2023-03-02T08:18:21.373973Z",
     "shell.execute_reply": "2023-03-02T08:18:21.372453Z",
     "shell.execute_reply.started": "2023-03-02T08:18:21.357676Z"
    }
   },
   "outputs": [],
   "source": [
    "voter = [\n",
    "    ('ada' , ensemble.AdaBoostClassifier(n_estimators=300, learning_rate=0.1, random_state=0)),\n",
    "    ('bag' , ensemble.BaggingClassifier(max_samples=0.25, n_estimators=300,random_state=0)),\n",
    "    ('etc' , ensemble.ExtraTreesClassifier(criterion='entropy', n_estimators=100, max_depth=6, random_state=0)),\n",
    "    ('gbc' , ensemble.GradientBoostingClassifier(n_estimators=100, learning_rate=0.05, max_depth=3)),\n",
    "    ('rfc' , ensemble.RandomForestClassifier(criterion='entropy', max_depth=6, n_estimators=500, oob_score= True, random_state=0)),\n",
    "    ('gpc' , gaussian_process.GaussianProcessClassifier(max_iter_predict=3, random_state=0)),\n",
    "    ('rcc' , linear_model.RidgeClassifierCV()),\n",
    "    ('bnb' , naive_bayes.BernoulliNB(alpha= 0.1)),\n",
    "    ('knc' , neighbors.KNeighborsClassifier(algorithm='brute', n_neighbors=3, weights='uniform')),\n",
    "    ('svc' , svm.SVC(probability=True)),\n",
    "    ('nvc' , svm.NuSVC(probability=True)),\n",
    "    ('lvc' , svm.LinearSVC()),\n",
    "    ('dtc' , tree.DecisionTreeClassifier()),\n",
    "    ('ttc' , tree.ExtraTreeClassifier()),\n",
    "    ('lda' , discriminant_analysis.LinearDiscriminantAnalysis()),\n",
    "    ('cat', CatBoostClassifier(**best_params, verbose=False))\n",
    "    \n",
    "    \n",
    "    ]\n",
    "\n"
   ]
  },
  {
   "cell_type": "markdown",
   "metadata": {},
   "source": [
    "#### Now voting will be done for each prediction by each model and then final prediction will be done.\n",
    "- using hard voting"
   ]
  },
  {
   "cell_type": "code",
   "execution_count": 78,
   "metadata": {
    "execution": {
     "iopub.execute_input": "2023-03-02T08:18:22.486641Z",
     "iopub.status.busy": "2023-03-02T08:18:22.486248Z",
     "iopub.status.idle": "2023-03-02T08:18:22.492493Z",
     "shell.execute_reply": "2023-03-02T08:18:22.491356Z",
     "shell.execute_reply.started": "2023-03-02T08:18:22.486606Z"
    }
   },
   "outputs": [],
   "source": [
    "vote_m = ensemble.VotingClassifier(estimators = voter , voting = 'hard')"
   ]
  },
  {
   "cell_type": "code",
   "execution_count": 79,
   "metadata": {
    "execution": {
     "iopub.execute_input": "2023-03-02T08:18:23.891350Z",
     "iopub.status.busy": "2023-03-02T08:18:23.890234Z",
     "iopub.status.idle": "2023-03-02T08:18:27.339351Z",
     "shell.execute_reply": "2023-03-02T08:18:27.337368Z",
     "shell.execute_reply.started": "2023-03-02T08:18:23.891285Z"
    }
   },
   "outputs": [],
   "source": [
    "vote_m.fit(x_train,y_train)\n",
    "pred = vote_m.predict(x_test)"
   ]
  },
  {
   "cell_type": "code",
   "execution_count": 80,
   "metadata": {
    "execution": {
     "iopub.execute_input": "2023-03-02T08:18:34.237951Z",
     "iopub.status.busy": "2023-03-02T08:18:34.237502Z",
     "iopub.status.idle": "2023-03-02T08:18:34.253778Z",
     "shell.execute_reply": "2023-03-02T08:18:34.252375Z",
     "shell.execute_reply.started": "2023-03-02T08:18:34.237910Z"
    }
   },
   "outputs": [
    {
     "name": "stdout",
     "output_type": "stream",
     "text": [
      "              precision    recall  f1-score   support\n",
      "\n",
      "         0.0       0.84      0.95      0.89       207\n",
      "         1.0       0.92      0.75      0.82       150\n",
      "\n",
      "    accuracy                           0.87       357\n",
      "   macro avg       0.88      0.85      0.86       357\n",
      "weighted avg       0.87      0.87      0.86       357\n",
      "\n",
      "[[197  10]\n",
      " [ 38 112]]\n"
     ]
    }
   ],
   "source": [
    "print(classification_report(y_test,pred))\n",
    "print(confusion_matrix(y_test,pred))"
   ]
  },
  {
   "cell_type": "markdown",
   "metadata": {},
   "source": [
    "### Confusion materix:\n",
    "- 199 is correctly predicted as not survived.\n",
    "- 97 is correctly predicted as survived.\n",
    "- 24 died but our model predicted as survived.\n",
    "- 37 Survived but predicted as Survived."
   ]
  },
  {
   "cell_type": "code",
   "execution_count": 81,
   "metadata": {
    "execution": {
     "iopub.execute_input": "2023-03-02T08:56:45.862438Z",
     "iopub.status.busy": "2023-03-02T08:56:45.862040Z",
     "iopub.status.idle": "2023-03-02T08:57:04.424749Z",
     "shell.execute_reply": "2023-03-02T08:57:04.420488Z",
     "shell.execute_reply.started": "2023-03-02T08:56:45.862403Z"
    }
   },
   "outputs": [
    {
     "name": "stdout",
     "output_type": "stream",
     "text": [
      "Accuracy:  87.88 %\n"
     ]
    }
   ],
   "source": [
    "mod_pred = cross_val_score(vote_m,x,y,cv=5,verbose=0)\n",
    "print('Accuracy: ',round(mod_pred.mean()*100,2),'%')"
   ]
  },
  {
   "cell_type": "markdown",
   "metadata": {},
   "source": [
    "# Model Average Accuracy is 83.5% \n",
    "-Thats good"
   ]
  },
  {
   "cell_type": "markdown",
   "metadata": {},
   "source": [
    "Making Df with PassengerID and Survived column "
   ]
  },
  {
   "cell_type": "code",
   "execution_count": 82,
   "metadata": {},
   "outputs": [
    {
     "data": {
      "text/plain": [
       "Survived        418\n",
       "Pclass            0\n",
       "Name              0\n",
       "Sex               0\n",
       "Age               0\n",
       "SibSp             0\n",
       "Parch             0\n",
       "Ticket            0\n",
       "Cabin             0\n",
       "Embarked          0\n",
       "Ticket_Count      0\n",
       "Price             0\n",
       "Cabin_Count       0\n",
       "title             0\n",
       "IsAlone           0\n",
       "IsCabin           0\n",
       "Age_Range         0\n",
       "c*f               0\n",
       "dtype: int64"
      ]
     },
     "execution_count": 82,
     "metadata": {},
     "output_type": "execute_result"
    }
   ],
   "source": [
    "pd.isnull(test).sum()"
   ]
  },
  {
   "cell_type": "code",
   "execution_count": 83,
   "metadata": {
    "execution": {
     "iopub.execute_input": "2023-03-02T08:18:36.286830Z",
     "iopub.status.busy": "2023-03-02T08:18:36.286443Z",
     "iopub.status.idle": "2023-03-02T08:18:36.667221Z",
     "shell.execute_reply": "2023-03-02T08:18:36.665484Z",
     "shell.execute_reply.started": "2023-03-02T08:18:36.286795Z"
    }
   },
   "outputs": [],
   "source": [
    "submission_df = pd.DataFrame()\n",
    "submission_df['PassengerId'] = test_original['PassengerId'] \n",
    "submission_df['Survived'] =vote_m.predict(test.drop('Survived',axis=1)).astype(int) "
   ]
  },
  {
   "cell_type": "code",
   "execution_count": 84,
   "metadata": {
    "execution": {
     "iopub.execute_input": "2023-03-02T08:18:41.338422Z",
     "iopub.status.busy": "2023-03-02T08:18:41.337986Z",
     "iopub.status.idle": "2023-03-02T08:18:41.352082Z",
     "shell.execute_reply": "2023-03-02T08:18:41.350819Z",
     "shell.execute_reply.started": "2023-03-02T08:18:41.338384Z"
    }
   },
   "outputs": [
    {
     "data": {
      "text/html": [
       "<div>\n",
       "<style scoped>\n",
       "    .dataframe tbody tr th:only-of-type {\n",
       "        vertical-align: middle;\n",
       "    }\n",
       "\n",
       "    .dataframe tbody tr th {\n",
       "        vertical-align: top;\n",
       "    }\n",
       "\n",
       "    .dataframe thead th {\n",
       "        text-align: right;\n",
       "    }\n",
       "</style>\n",
       "<table border=\"1\" class=\"dataframe\">\n",
       "  <thead>\n",
       "    <tr style=\"text-align: right;\">\n",
       "      <th></th>\n",
       "      <th>PassengerId</th>\n",
       "      <th>Survived</th>\n",
       "    </tr>\n",
       "  </thead>\n",
       "  <tbody>\n",
       "    <tr>\n",
       "      <th>0</th>\n",
       "      <td>892</td>\n",
       "      <td>0</td>\n",
       "    </tr>\n",
       "    <tr>\n",
       "      <th>1</th>\n",
       "      <td>893</td>\n",
       "      <td>1</td>\n",
       "    </tr>\n",
       "    <tr>\n",
       "      <th>2</th>\n",
       "      <td>894</td>\n",
       "      <td>0</td>\n",
       "    </tr>\n",
       "    <tr>\n",
       "      <th>3</th>\n",
       "      <td>895</td>\n",
       "      <td>0</td>\n",
       "    </tr>\n",
       "    <tr>\n",
       "      <th>4</th>\n",
       "      <td>896</td>\n",
       "      <td>1</td>\n",
       "    </tr>\n",
       "    <tr>\n",
       "      <th>...</th>\n",
       "      <td>...</td>\n",
       "      <td>...</td>\n",
       "    </tr>\n",
       "    <tr>\n",
       "      <th>413</th>\n",
       "      <td>1305</td>\n",
       "      <td>0</td>\n",
       "    </tr>\n",
       "    <tr>\n",
       "      <th>414</th>\n",
       "      <td>1306</td>\n",
       "      <td>1</td>\n",
       "    </tr>\n",
       "    <tr>\n",
       "      <th>415</th>\n",
       "      <td>1307</td>\n",
       "      <td>0</td>\n",
       "    </tr>\n",
       "    <tr>\n",
       "      <th>416</th>\n",
       "      <td>1308</td>\n",
       "      <td>0</td>\n",
       "    </tr>\n",
       "    <tr>\n",
       "      <th>417</th>\n",
       "      <td>1309</td>\n",
       "      <td>1</td>\n",
       "    </tr>\n",
       "  </tbody>\n",
       "</table>\n",
       "<p>418 rows × 2 columns</p>\n",
       "</div>"
      ],
      "text/plain": [
       "     PassengerId  Survived\n",
       "0            892         0\n",
       "1            893         1\n",
       "2            894         0\n",
       "3            895         0\n",
       "4            896         1\n",
       "..           ...       ...\n",
       "413         1305         0\n",
       "414         1306         1\n",
       "415         1307         0\n",
       "416         1308         0\n",
       "417         1309         1\n",
       "\n",
       "[418 rows x 2 columns]"
      ]
     },
     "execution_count": 84,
     "metadata": {},
     "output_type": "execute_result"
    }
   ],
   "source": [
    "submission_df"
   ]
  },
  {
   "cell_type": "code",
   "execution_count": 85,
   "metadata": {},
   "outputs": [
    {
     "data": {
      "text/html": [
       "<div>\n",
       "<style scoped>\n",
       "    .dataframe tbody tr th:only-of-type {\n",
       "        vertical-align: middle;\n",
       "    }\n",
       "\n",
       "    .dataframe tbody tr th {\n",
       "        vertical-align: top;\n",
       "    }\n",
       "\n",
       "    .dataframe thead th {\n",
       "        text-align: right;\n",
       "    }\n",
       "</style>\n",
       "<table border=\"1\" class=\"dataframe\">\n",
       "  <thead>\n",
       "    <tr style=\"text-align: right;\">\n",
       "      <th></th>\n",
       "      <th>PassengerId</th>\n",
       "      <th>Survived</th>\n",
       "    </tr>\n",
       "  </thead>\n",
       "  <tbody>\n",
       "    <tr>\n",
       "      <th>113</th>\n",
       "      <td>1005</td>\n",
       "      <td>1</td>\n",
       "    </tr>\n",
       "  </tbody>\n",
       "</table>\n",
       "</div>"
      ],
      "text/plain": [
       "     PassengerId  Survived\n",
       "113         1005         1"
      ]
     },
     "metadata": {},
     "output_type": "display_data"
    },
    {
     "data": {
      "text/html": [
       "<div>\n",
       "<style scoped>\n",
       "    .dataframe tbody tr th:only-of-type {\n",
       "        vertical-align: middle;\n",
       "    }\n",
       "\n",
       "    .dataframe tbody tr th {\n",
       "        vertical-align: top;\n",
       "    }\n",
       "\n",
       "    .dataframe thead th {\n",
       "        text-align: right;\n",
       "    }\n",
       "</style>\n",
       "<table border=\"1\" class=\"dataframe\">\n",
       "  <thead>\n",
       "    <tr style=\"text-align: right;\">\n",
       "      <th></th>\n",
       "      <th>PassengerId</th>\n",
       "      <th>Survived</th>\n",
       "    </tr>\n",
       "  </thead>\n",
       "  <tbody>\n",
       "    <tr>\n",
       "      <th>69</th>\n",
       "      <td>961</td>\n",
       "      <td>1</td>\n",
       "    </tr>\n",
       "  </tbody>\n",
       "</table>\n",
       "</div>"
      ],
      "text/plain": [
       "    PassengerId  Survived\n",
       "69          961         1"
      ]
     },
     "metadata": {},
     "output_type": "display_data"
    },
    {
     "data": {
      "text/html": [
       "<div>\n",
       "<style scoped>\n",
       "    .dataframe tbody tr th:only-of-type {\n",
       "        vertical-align: middle;\n",
       "    }\n",
       "\n",
       "    .dataframe tbody tr th {\n",
       "        vertical-align: top;\n",
       "    }\n",
       "\n",
       "    .dataframe thead th {\n",
       "        text-align: right;\n",
       "    }\n",
       "</style>\n",
       "<table border=\"1\" class=\"dataframe\">\n",
       "  <thead>\n",
       "    <tr style=\"text-align: right;\">\n",
       "      <th></th>\n",
       "      <th>PassengerId</th>\n",
       "      <th>Survived</th>\n",
       "    </tr>\n",
       "  </thead>\n",
       "  <tbody>\n",
       "    <tr>\n",
       "      <th>70</th>\n",
       "      <td>962</td>\n",
       "      <td>0</td>\n",
       "    </tr>\n",
       "  </tbody>\n",
       "</table>\n",
       "</div>"
      ],
      "text/plain": [
       "    PassengerId  Survived\n",
       "70          962         0"
      ]
     },
     "metadata": {},
     "output_type": "display_data"
    },
    {
     "data": {
      "text/html": [
       "<div>\n",
       "<style scoped>\n",
       "    .dataframe tbody tr th:only-of-type {\n",
       "        vertical-align: middle;\n",
       "    }\n",
       "\n",
       "    .dataframe tbody tr th {\n",
       "        vertical-align: top;\n",
       "    }\n",
       "\n",
       "    .dataframe thead th {\n",
       "        text-align: right;\n",
       "    }\n",
       "</style>\n",
       "<table border=\"1\" class=\"dataframe\">\n",
       "  <thead>\n",
       "    <tr style=\"text-align: right;\">\n",
       "      <th></th>\n",
       "      <th>PassengerId</th>\n",
       "      <th>Survived</th>\n",
       "    </tr>\n",
       "  </thead>\n",
       "  <tbody>\n",
       "    <tr>\n",
       "      <th>191</th>\n",
       "      <td>1083</td>\n",
       "      <td>0</td>\n",
       "    </tr>\n",
       "  </tbody>\n",
       "</table>\n",
       "</div>"
      ],
      "text/plain": [
       "     PassengerId  Survived\n",
       "191         1083         0"
      ]
     },
     "metadata": {},
     "output_type": "display_data"
    },
    {
     "data": {
      "text/html": [
       "<div>\n",
       "<style scoped>\n",
       "    .dataframe tbody tr th:only-of-type {\n",
       "        vertical-align: middle;\n",
       "    }\n",
       "\n",
       "    .dataframe tbody tr th {\n",
       "        vertical-align: top;\n",
       "    }\n",
       "\n",
       "    .dataframe thead th {\n",
       "        text-align: right;\n",
       "    }\n",
       "</style>\n",
       "<table border=\"1\" class=\"dataframe\">\n",
       "  <thead>\n",
       "    <tr style=\"text-align: right;\">\n",
       "      <th></th>\n",
       "      <th>PassengerId</th>\n",
       "      <th>Survived</th>\n",
       "    </tr>\n",
       "  </thead>\n",
       "  <tbody>\n",
       "    <tr>\n",
       "      <th>376</th>\n",
       "      <td>1268</td>\n",
       "      <td>0</td>\n",
       "    </tr>\n",
       "  </tbody>\n",
       "</table>\n",
       "</div>"
      ],
      "text/plain": [
       "     PassengerId  Survived\n",
       "376         1268         0"
      ]
     },
     "metadata": {},
     "output_type": "display_data"
    },
    {
     "data": {
      "text/html": [
       "<div>\n",
       "<style scoped>\n",
       "    .dataframe tbody tr th:only-of-type {\n",
       "        vertical-align: middle;\n",
       "    }\n",
       "\n",
       "    .dataframe tbody tr th {\n",
       "        vertical-align: top;\n",
       "    }\n",
       "\n",
       "    .dataframe thead th {\n",
       "        text-align: right;\n",
       "    }\n",
       "</style>\n",
       "<table border=\"1\" class=\"dataframe\">\n",
       "  <thead>\n",
       "    <tr style=\"text-align: right;\">\n",
       "      <th></th>\n",
       "      <th>PassengerId</th>\n",
       "      <th>Survived</th>\n",
       "    </tr>\n",
       "  </thead>\n",
       "  <tbody>\n",
       "    <tr>\n",
       "      <th>37</th>\n",
       "      <td>929</td>\n",
       "      <td>0</td>\n",
       "    </tr>\n",
       "  </tbody>\n",
       "</table>\n",
       "</div>"
      ],
      "text/plain": [
       "    PassengerId  Survived\n",
       "37          929         0"
      ]
     },
     "metadata": {},
     "output_type": "display_data"
    },
    {
     "data": {
      "text/html": [
       "<div>\n",
       "<style scoped>\n",
       "    .dataframe tbody tr th:only-of-type {\n",
       "        vertical-align: middle;\n",
       "    }\n",
       "\n",
       "    .dataframe tbody tr th {\n",
       "        vertical-align: top;\n",
       "    }\n",
       "\n",
       "    .dataframe thead th {\n",
       "        text-align: right;\n",
       "    }\n",
       "</style>\n",
       "<table border=\"1\" class=\"dataframe\">\n",
       "  <thead>\n",
       "    <tr style=\"text-align: right;\">\n",
       "      <th></th>\n",
       "      <th>PassengerId</th>\n",
       "      <th>Survived</th>\n",
       "    </tr>\n",
       "  </thead>\n",
       "  <tbody>\n",
       "    <tr>\n",
       "      <th>46</th>\n",
       "      <td>938</td>\n",
       "      <td>0</td>\n",
       "    </tr>\n",
       "  </tbody>\n",
       "</table>\n",
       "</div>"
      ],
      "text/plain": [
       "    PassengerId  Survived\n",
       "46          938         0"
      ]
     },
     "metadata": {},
     "output_type": "display_data"
    },
    {
     "data": {
      "text/html": [
       "<div>\n",
       "<style scoped>\n",
       "    .dataframe tbody tr th:only-of-type {\n",
       "        vertical-align: middle;\n",
       "    }\n",
       "\n",
       "    .dataframe tbody tr th {\n",
       "        vertical-align: top;\n",
       "    }\n",
       "\n",
       "    .dataframe thead th {\n",
       "        text-align: right;\n",
       "    }\n",
       "</style>\n",
       "<table border=\"1\" class=\"dataframe\">\n",
       "  <thead>\n",
       "    <tr style=\"text-align: right;\">\n",
       "      <th></th>\n",
       "      <th>PassengerId</th>\n",
       "      <th>Survived</th>\n",
       "    </tr>\n",
       "  </thead>\n",
       "  <tbody>\n",
       "    <tr>\n",
       "      <th>236</th>\n",
       "      <td>1128</td>\n",
       "      <td>0</td>\n",
       "    </tr>\n",
       "  </tbody>\n",
       "</table>\n",
       "</div>"
      ],
      "text/plain": [
       "     PassengerId  Survived\n",
       "236         1128         0"
      ]
     },
     "metadata": {},
     "output_type": "display_data"
    },
    {
     "data": {
      "text/html": [
       "<div>\n",
       "<style scoped>\n",
       "    .dataframe tbody tr th:only-of-type {\n",
       "        vertical-align: middle;\n",
       "    }\n",
       "\n",
       "    .dataframe tbody tr th {\n",
       "        vertical-align: top;\n",
       "    }\n",
       "\n",
       "    .dataframe thead th {\n",
       "        text-align: right;\n",
       "    }\n",
       "</style>\n",
       "<table border=\"1\" class=\"dataframe\">\n",
       "  <thead>\n",
       "    <tr style=\"text-align: right;\">\n",
       "      <th></th>\n",
       "      <th>PassengerId</th>\n",
       "      <th>Survived</th>\n",
       "    </tr>\n",
       "  </thead>\n",
       "  <tbody>\n",
       "    <tr>\n",
       "      <th>294</th>\n",
       "      <td>1186</td>\n",
       "      <td>0</td>\n",
       "    </tr>\n",
       "  </tbody>\n",
       "</table>\n",
       "</div>"
      ],
      "text/plain": [
       "     PassengerId  Survived\n",
       "294         1186         0"
      ]
     },
     "metadata": {},
     "output_type": "display_data"
    },
    {
     "data": {
      "text/html": [
       "<div>\n",
       "<style scoped>\n",
       "    .dataframe tbody tr th:only-of-type {\n",
       "        vertical-align: middle;\n",
       "    }\n",
       "\n",
       "    .dataframe tbody tr th {\n",
       "        vertical-align: top;\n",
       "    }\n",
       "\n",
       "    .dataframe thead th {\n",
       "        text-align: right;\n",
       "    }\n",
       "</style>\n",
       "<table border=\"1\" class=\"dataframe\">\n",
       "  <thead>\n",
       "    <tr style=\"text-align: right;\">\n",
       "      <th></th>\n",
       "      <th>PassengerId</th>\n",
       "      <th>Survived</th>\n",
       "    </tr>\n",
       "  </thead>\n",
       "  <tbody>\n",
       "    <tr>\n",
       "      <th>366</th>\n",
       "      <td>1258</td>\n",
       "      <td>0</td>\n",
       "    </tr>\n",
       "  </tbody>\n",
       "</table>\n",
       "</div>"
      ],
      "text/plain": [
       "     PassengerId  Survived\n",
       "366         1258         0"
      ]
     },
     "metadata": {},
     "output_type": "display_data"
    }
   ],
   "source": [
    "for i in [1005,961,962,1083,1268,929,938,1128,1186,1258]:\n",
    "    display(submission_df[submission_df['PassengerId']==i])"
   ]
  },
  {
   "cell_type": "markdown",
   "metadata": {},
   "source": [
    "## Submission"
   ]
  },
  {
   "cell_type": "code",
   "execution_count": 86,
   "metadata": {
    "execution": {
     "iopub.execute_input": "2023-03-01T11:38:23.943813Z",
     "iopub.status.busy": "2023-03-01T11:38:23.943363Z",
     "iopub.status.idle": "2023-03-01T11:38:23.954189Z",
     "shell.execute_reply": "2023-03-01T11:38:23.952407Z",
     "shell.execute_reply.started": "2023-03-01T11:38:23.943777Z"
    }
   },
   "outputs": [],
   "source": [
    "submission_df.to_csv('Manual_submission.csv', index=False)"
   ]
  },
  {
   "cell_type": "markdown",
   "metadata": {},
   "source": [
    "# Thank you For Considering this Notebook. \n",
    "\n",
    "![](https://media.tenor.com/VPtj_CuypecAAAAC/cant-thankyou-enough.gif)"
   ]
  },
  {
   "cell_type": "code",
   "execution_count": null,
   "metadata": {},
   "outputs": [],
   "source": []
  }
 ],
 "metadata": {
  "kernelspec": {
   "display_name": "Python 3 (ipykernel)",
   "language": "python",
   "name": "python3"
  },
  "language_info": {
   "codemirror_mode": {
    "name": "ipython",
    "version": 3
   },
   "file_extension": ".py",
   "mimetype": "text/x-python",
   "name": "python",
   "nbconvert_exporter": "python",
   "pygments_lexer": "ipython3",
   "version": "3.9.11"
  }
 },
 "nbformat": 4,
 "nbformat_minor": 4
}
